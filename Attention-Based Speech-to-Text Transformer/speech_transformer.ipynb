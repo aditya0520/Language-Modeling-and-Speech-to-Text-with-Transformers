{
  "cells": [
    {
      "cell_type": "markdown",
      "metadata": {
        "id": "8XpNMS7Vk6Df"
      },
      "source": [
        "# HW4P2: Attention-based Speech Recognition\n",
        "\n",
        "<img src=\"https://cdn.shopify.com/s/files/1/0272/2080/3722/products/SmileBumperSticker_5400x.jpg\" alt=\"A cute cat\" width=\"600\">\n",
        "\n",
        "Alright, here we are—the grand finale of your semester's ablations, May stars align and the models behave. Welcome to the final assignment in 11785. Let's pause for a moment to shed a single, dramatic tear in honor of all the tensors we've left behind... and then, let’s dive into it! In this HW, you will work on building a speech recognition system with <i>**Transformers**</i>. <br> <br>\n",
        "\n",
        "\n",
        "<h2>Learning Objectives:\n",
        "\n",
        "*  **Understand the Transformer Architecture**: Gain a comprehensive understanding of the transformer model architecture.\n",
        "\n",
        "*  **Develop the  Encoder and Decoder Modules**: Understand the individual components of the transformer's encoder and decoder modules, including positional encoding, multi-head attention, and feed-forward projections.\n",
        "\n",
        "\n",
        "\n",
        "*  **Integrate the Complete Transformer Model**:  Combine the encoder and decoder modules to construct the full transformer model, and learn how to manage the flow of information between these components.\n",
        "\n",
        "* **Understand the Value of Multi-Head Attention**: Learn how to use the multi-head attention mechanism and understand its significance in improving the model's ability to focus on different parts of the input sequence simultaneously.\n",
        "*  **Understand Masked Multihead Attention**: Understand how masking can help model focus on only relevant parts by applying badding to certain positions and also how we prevent the decoder from seing future tokens (lookahead) while the model is learning.\n",
        "\n",
        "* **Understand and Apply Pretraining Techniques**: Grasp the concept of pretraining by training the decoder as a language model, or a conditional language model before full training of the ASR transformer.\n",
        "\n",
        "* **Decoding**: Learn how convert decoder probabilities to tokens and generate sequences using autoregressive generation. Learn how to use different decoding strategies such as greedy decoding, beam decoding, etc.\n",
        "\n",
        "\n",
        "\n",
        "*  **Tune Model Hyperparameters**: Experiment with different configurations of model hyperparameters, such as the number of layers, model dimensionality, and the number of attention heads, to help you understand the tradeoff between model complexity and dataset size.\n",
        "\n",
        "<br>\n",
        "\n",
        "\n",
        "[Kaggle Competition Link](https://www.kaggle.com/t/36ac716957f74cc1826a606c29b70141)<br> Must join competition to get access to data.\n",
        "\n",
        "\n",
        "[Kaggle Dataset Link](https://www.kaggle.com/competitions/11785-fall-24-hw4p2-transformer-asr/data)<br>\n",
        "\n",
        "\n",
        "[Speech Transformer Paper](https://ieeexplore.ieee.org/document/8462506)<br>\n",
        "\n",
        "\n",
        "[Attention Is All You Need Paper](https://arxiv.org/pdf/1706.03762.pdf)<br>\n"
      ]
    },
    {
      "cell_type": "markdown",
      "metadata": {
        "id": "vwIdDTTmmZVe"
      },
      "source": [
        "# Libraries"
      ]
    },
    {
      "cell_type": "markdown",
      "metadata": {
        "id": "y9qsVrRemgh7"
      },
      "source": [
        "1. By now, we believe that you are already a great deep learning practitioner, Congratulations. 🎉\n",
        "\n",
        "2. There are a lot of resources provided in this notebook, that will help you check if you are running your implementations correctly."
      ]
    },
    {
      "cell_type": "code",
      "execution_count": null,
      "metadata": {
        "colab": {
          "base_uri": "https://localhost:8080/"
        },
        "id": "8UK7J-dp5iN5",
        "outputId": "5b5d5eb7-5e07-4ca8-fa60-9296b51662d8"
      },
      "outputs": [
        {
          "output_type": "stream",
          "name": "stdout",
          "text": [
            "Fri Dec  6 08:07:26 2024       \n",
            "+---------------------------------------------------------------------------------------+\n",
            "| NVIDIA-SMI 535.104.05             Driver Version: 535.104.05   CUDA Version: 12.2     |\n",
            "|-----------------------------------------+----------------------+----------------------+\n",
            "| GPU  Name                 Persistence-M | Bus-Id        Disp.A | Volatile Uncorr. ECC |\n",
            "| Fan  Temp   Perf          Pwr:Usage/Cap |         Memory-Usage | GPU-Util  Compute M. |\n",
            "|                                         |                      |               MIG M. |\n",
            "|=========================================+======================+======================|\n",
            "|   0  NVIDIA L4                      Off | 00000000:00:03.0 Off |                    0 |\n",
            "| N/A   66C    P8              19W /  72W |      1MiB / 23034MiB |      0%      Default |\n",
            "|                                         |                      |                  N/A |\n",
            "+-----------------------------------------+----------------------+----------------------+\n",
            "                                                                                         \n",
            "+---------------------------------------------------------------------------------------+\n",
            "| Processes:                                                                            |\n",
            "|  GPU   GI   CI        PID   Type   Process name                            GPU Memory |\n",
            "|        ID   ID                                                             Usage      |\n",
            "|=======================================================================================|\n",
            "|  No running processes found                                                           |\n",
            "+---------------------------------------------------------------------------------------+\n"
          ]
        }
      ],
      "source": [
        "!nvidia-smi"
      ]
    },
    {
      "cell_type": "code",
      "execution_count": null,
      "metadata": {
        "id": "nYgaLmgy5iqR"
      },
      "outputs": [],
      "source": [
        "# ''' Installing some required libraries. '''\n",
        "# %pip install -U transformers -q\n",
        "# %pip install gdown\n",
        "# %pip install torchinfo -q\n",
        "# %pip install wandb\n",
        "# %pip install torchaudio"
      ]
    },
    {
      "cell_type": "markdown",
      "metadata": {
        "id": "-njBvl2Opd6I"
      },
      "source": [
        "# Kaggle Dataset Download"
      ]
    },
    {
      "cell_type": "code",
      "execution_count": null,
      "metadata": {
        "colab": {
          "base_uri": "https://localhost:8080/"
        },
        "id": "PTyWR2sIp0Ns",
        "outputId": "b5e33156-0266-4b94-d305-04975c68b7f0"
      },
      "outputs": [
        {
          "output_type": "stream",
          "name": "stdout",
          "text": [
            "Collecting kaggle==1.5.8\n",
            "  Using cached kaggle-1.5.8-py3-none-any.whl\n",
            "Installing collected packages: kaggle\n",
            "  Attempting uninstall: kaggle\n",
            "    Found existing installation: kaggle 1.5.8\n",
            "    Uninstalling kaggle-1.5.8:\n",
            "      Successfully uninstalled kaggle-1.5.8\n",
            "Successfully installed kaggle-1.5.8\n"
          ]
        }
      ],
      "source": [
        "import os\n",
        "\n",
        "# !pip install --upgrade --force-reinstall --no-deps kaggle==1.5.8\n",
        "\n",
        "os.makedirs(os.path.expanduser(\"~/.kaggle\"), exist_ok=True)\n",
        "\n",
        "with open(os.path.expanduser(\"~/.kaggle/kaggle.json\"), \"w\") as f:\n",
        "    f.write('{\"username\":\"aaayush1\",\"key\":\"9ad570c944c8b67cf242fb16c7cf3f40\"}')\n",
        "\n",
        "!chmod 600 ~/.kaggle/kaggle.json"
      ]
    },
    {
      "cell_type": "code",
      "execution_count": null,
      "metadata": {
        "id": "F581gjfnqE2C"
      },
      "outputs": [],
      "source": [
        "# ''' Downloading the dataset. '''\n",
        "\n",
        "# !kaggle competitions download -c 11785-fall-24-hw4p2-transformer-asr\n",
        "\n",
        "# ''' Unzipping quickly and quietly. '''\n",
        "# !unzip -q 11785-fall-24-hw4p2-transformer-asr.zip -d ./data"
      ]
    },
    {
      "cell_type": "markdown",
      "metadata": {
        "id": "xLXQgnj7E8BM"
      },
      "source": [
        "##  Imports"
      ]
    },
    {
      "cell_type": "code",
      "execution_count": null,
      "metadata": {
        "colab": {
          "base_uri": "https://localhost:8080/"
        },
        "id": "0mkii-6Dsjr8",
        "outputId": "fc5d6518-43dc-4ae2-b2a3-45569ac64883"
      },
      "outputs": [
        {
          "output_type": "stream",
          "name": "stdout",
          "text": [
            "Device:  cuda\n"
          ]
        }
      ],
      "source": [
        "import torch\n",
        "import torch.nn as nn\n",
        "import torch.nn.functional as F\n",
        "import torchaudio.functional as aF\n",
        "import torchaudio.transforms as tat\n",
        "from torch.autograd import Variable\n",
        "from torch.nn.utils.rnn import pad_sequence, pack_padded_sequence, pad_packed_sequence\n",
        "from torch.utils.data import TensorDataset, Dataset, DataLoader\n",
        "import gc\n",
        "import os\n",
        "from transformers import AutoTokenizer\n",
        "import yaml\n",
        "import math\n",
        "from typing import Literal, List, Optional, Any, Dict, Tuple\n",
        "import random\n",
        "import zipfile\n",
        "import datetime\n",
        "from torchinfo import summary\n",
        "import glob\n",
        "import wandb\n",
        "import numpy as np\n",
        "import pandas as pd\n",
        "from tqdm import tqdm\n",
        "from scipy.fftpack import dct\n",
        "import seaborn as sns\n",
        "import matplotlib.pyplot as plt\n",
        "''' Imports for decoding and distance calculation. '''\n",
        "import json\n",
        "import warnings\n",
        "import shutil\n",
        "warnings.filterwarnings(\"ignore\")\n",
        "\n",
        "device = \"cuda\" if torch.cuda.is_available() else \"cpu\"\n",
        "print(\"Device: \", device)"
      ]
    },
    {
      "cell_type": "markdown",
      "metadata": {
        "id": "AIOBPQjzrx5n"
      },
      "source": [
        "# Configurations"
      ]
    },
    {
      "cell_type": "markdown",
      "metadata": {
        "id": "F8lNA1THLFa-"
      },
      "source": [
        "## Please read the writeup to understand the following configurations."
      ]
    },
    {
      "cell_type": "code",
      "execution_count": null,
      "metadata": {
        "id": "qkzzA5l2VbXZ"
      },
      "outputs": [],
      "source": [
        "%%writefile config.yaml\n",
        "\n",
        "Name                      : \"Aditya Aayush\"\n",
        "###### Dataset -----------------------------------------------------------------\n",
        "root                      : \"/content/data/hw4p2\"                # TODO: Set the root path of your data\n",
        "unpaired_text_partition   : \"text-for-LM\"               # unpaired text for LM pre-training\n",
        "train_partition           : \"train-clean-100\"           # train-clean-100\n",
        "val_partition             : \"dev-clean\"                 # validation partition\n",
        "test_partition            : \"test-clean\"                # test partition\n",
        "NUM_WORKERS               : 4\n",
        "subset                    : 1.0        # Load a subset of the data (for debugging, testing, etc)\n",
        "token_type                : \"1k\"     # [char, 1k, 10k]  ~use char\n",
        "feat_type                 : 'fbank'    # ['fbank', 'mfcc']\n",
        "num_feats                 : 80         # fbanks:[20-80], mfcc:[12:20]\n",
        "batch_size                : 16\n",
        "norm                      : 'cepstral' # ['global_mvn', 'cepstral']\n",
        "\n",
        "###### SpecAugment ---------------------------------------------------------------\n",
        "specaug                   : True\n",
        "specaug_conf:\n",
        "  apply_freq_mask         : True\n",
        "  freq_mask_width_range   : 4\n",
        "  num_freq_mask           : 4\n",
        "  apply_time_mask         : True\n",
        "  time_mask_width_range   : 50\n",
        "  num_time_mask           : 8\n",
        "\n",
        "###### Network Specs -------------------------------------------------------------\n",
        "d_model                   : 512\n",
        "d_ff                      : 2048\n",
        "\n",
        "###### Embedding Specs -----------------------------------------------------------\n",
        "time_stride               : 4 # time-wise downsampling\n",
        "feature_stride            : 2 # feature-wise downsampling\n",
        "embed_dropout             : 0.15\n",
        "\n",
        "###### Encoder Specs -------------------------------------------------------------\n",
        "enc_dropout               : 0.15\n",
        "enc_num_layers            : 4\n",
        "enc_num_heads             : 8\n",
        "\n",
        "###### Decoder Specs -------------------------------------------------------------\n",
        "dec_dropout               : 0.15\n",
        "dec_num_layers            : 4\n",
        "dec_num_heads             : 8\n",
        "\n",
        "###### Base Parameters -----------------------------------------------------------\n",
        "use_wandb                 : True\n",
        "use_ctc                   : True\n",
        "ctc_weight                : 0.25\n",
        "optimizer                 : \"AdamW\" # Adam, AdamW, SGD\n",
        "momentum                  : 0.0\n",
        "nesterov                  : True\n",
        "learning_rate             : 1E-4\n",
        "scheduler                 : \"CosineAnnealing\" # ['ReduceLR', 'CosineAnnealing']\n",
        "factor                    : 0.4\n",
        "patience                  : 2\n",
        "epochs                    : 100  # at least 100"
      ]
    },
    {
      "cell_type": "code",
      "execution_count": null,
      "metadata": {
        "id": "xcQEffYWYOVm"
      },
      "outputs": [],
      "source": [
        "with open(\"config.yaml\") as file:\n",
        "    config = yaml.safe_load(file)"
      ]
    },
    {
      "cell_type": "code",
      "execution_count": null,
      "metadata": {
        "colab": {
          "base_uri": "https://localhost:8080/"
        },
        "id": "rgkkGyEa4TMS",
        "outputId": "13f223fc-5639-4cc9-810c-411b907b1a84"
      },
      "outputs": [
        {
          "output_type": "execute_result",
          "data": {
            "text/plain": [
              "{'Name': 'Aditya Aayush',\n",
              " 'root': '/content/data/hw4p2',\n",
              " 'unpaired_text_partition': 'text-for-LM',\n",
              " 'train_partition': 'train-clean-100',\n",
              " 'val_partition': 'dev-clean',\n",
              " 'test_partition': 'test-clean',\n",
              " 'NUM_WORKERS': 4,\n",
              " 'subset': 1.0,\n",
              " 'token_type': '1k',\n",
              " 'feat_type': 'fbank',\n",
              " 'num_feats': 80,\n",
              " 'batch_size': 16,\n",
              " 'norm': 'cepstral',\n",
              " 'specaug': True,\n",
              " 'specaug_conf': {'apply_freq_mask': True,\n",
              "  'freq_mask_width_range': 4,\n",
              "  'num_freq_mask': 4,\n",
              "  'apply_time_mask': True,\n",
              "  'time_mask_width_range': 50,\n",
              "  'num_time_mask': 8},\n",
              " 'd_model': 512,\n",
              " 'd_ff': 2048,\n",
              " 'time_stride': 2,\n",
              " 'feature_stride': 1,\n",
              " 'embed_dropout': 0.15,\n",
              " 'enc_dropout': 0.15,\n",
              " 'enc_num_layers': 4,\n",
              " 'enc_num_heads': 8,\n",
              " 'dec_dropout': 0.15,\n",
              " 'dec_num_layers': 4,\n",
              " 'dec_num_heads': 8,\n",
              " 'use_wandb': True,\n",
              " 'use_ctc': True,\n",
              " 'ctc_weight': 0.25,\n",
              " 'optimizer': 'AdamW',\n",
              " 'momentum': 0.0,\n",
              " 'nesterov': True,\n",
              " 'learning_rate': '2E-4',\n",
              " 'scheduler': 'CosineAnnealing',\n",
              " 'factor': 0.4,\n",
              " 'patience': 2,\n",
              " 'epochs': 100}"
            ]
          },
          "metadata": {},
          "execution_count": 9
        }
      ],
      "source": [
        "config"
      ]
    },
    {
      "cell_type": "markdown",
      "metadata": {
        "id": "zUJyBBwIqQs6"
      },
      "source": [
        "# Tokenization in Speech Recognition (HW4P2)\n",
        "\n",
        "This semester, we're expanding our tokenization approach beyond just character-based tokenization. We've introduced multiple tokenization strategies to explore their impact on speech recognition performance. Let's examine the key differences and improvements:\n",
        "\n",
        "### Tokenizer Options:\n",
        "Char based, 1k, 10k, [20k, 50k, 100k] (if your memory supports)\n",
        "\n",
        "### Implementation:\n",
        "- The GTokenizer class allows for different tokenization strategies, selected via the token_type parameter.\n",
        "- For subword tokenizations (1k, 10k, 20K, 50k, 100k), we're using pretrained tokenizers from the Hugging Face library.\n",
        "- The CharTokenizer class provides a wrapper around character tokenization to maintain a consistent interface with other tokenization strategies.\n",
        "- The vocabulary size varies significantly based on the chosen tokenization strategy, from 31 for character-based to up to 100k for the largest subword vocabulary.\n",
        "\n",
        "### Important Considerations:\n",
        "\n",
        "- With larger vocabularies, consider the dataset size and whether memory-efficient loading techniques are necessary.\n",
        "- How do we load the audio features? Do we need to normalize them?\n",
        "- Does the data have \\<SOS> and \\<EOS> tokens in each sequences? Do we remove them or do we not remove them? (Read writeup)\n",
        "- Consider the trade-offs between different vocabulary sizes:\n",
        "  - Smaller vocabularies (e.g., character-based) may lead to longer sequences but can handle any input.\n",
        "  - Larger vocabularies (e.g., 50k subwords) can represent more complex tokens but may struggle with rare words.\n",
        "  - Looking at the dataset which one should you choose?\n",
        "- What should be the model architecture (such as the size of embedding layers or the number of encoder/decoder layers) based on choice of tokenization strategy?\n",
        "- Should you add augmentations, if yes which augmentations? When should you add augmentations, before or after tokenization? (Check bootcamp for answer)\n"
      ]
    },
    {
      "cell_type": "code",
      "execution_count": null,
      "metadata": {
        "id": "y6pkBunsry4d"
      },
      "outputs": [],
      "source": [
        "class CharTokenizer():\n",
        "    ''' A wrapper around character tokenization to have a consistent interface with other tokeization strategies'''\n",
        "\n",
        "    def __init__(self):\n",
        "        # Define special tokens for end-of-sequence, padding, and unknown characters\n",
        "        self.eos_token = \"<|endoftext|>\"  # Same as EOS_TOKEN\n",
        "        self.pad_token = \"<|padding|>\"\n",
        "        self.unk_token = \"<|unknown|>\"\n",
        "\n",
        "        # Initialize vocabulary with uppercase alphabet characters and space\n",
        "        characters = list(\"ABCDEFGHIJKLMNOPQRSTUVWXYZ '\")\n",
        "\n",
        "        # Create vocabulary mapping\n",
        "        self.vocab = {\n",
        "            self.eos_token: 0,\n",
        "            self.pad_token: 1,  # Same ID as EOS_TOKEN\n",
        "            self.unk_token: 2,\n",
        "        }\n",
        "\n",
        "        for idx, char in enumerate(characters, start=3):\n",
        "            self.vocab[char] = idx\n",
        "\n",
        "        # Create an inverse mapping from IDs to characters for decoding\n",
        "        self.inv_vocab = {v: k for k, v in self.vocab.items()}\n",
        "\n",
        "        # Define token IDs for special tokens for easy access\n",
        "        self.eos_token_id = self.vocab[self.eos_token]\n",
        "        self.bos_token_id = self.vocab[self.eos_token]\n",
        "        self.pad_token_id = self.vocab[self.pad_token]\n",
        "        self.unk_token_id = self.vocab[self.unk_token]\n",
        "\n",
        "        self.vocab_size = len(self.vocab)\n",
        "\n",
        "    def tokenize(self, data:str) -> List[str]:\n",
        "        # Split input data into a list of characters for tokenization\n",
        "        return [char for char in data]\n",
        "\n",
        "    def encode(self, data:str, return_tensors:Optional[Literal['pt']]=None) -> List[int]:\n",
        "        # Encode each character in data to its integer ID, using unk_token if character is not in vocab\n",
        "        e = [self.vocab.get(char.upper(), self.unk_token) for char in data]\n",
        "        # If specified, convert to PyTorch tensor format\n",
        "        if return_tensors == 'pt':\n",
        "            return torch.tensor(e).unsqueeze(0)\n",
        "        return e\n",
        "\n",
        "    def decode(self, data:List[int]) -> str:\n",
        "        # Decode list of token IDs back to string by mapping each ID to its character\n",
        "        try:\n",
        "            return ''.join([self.inv_vocab.get(j) for j in data])\n",
        "        except:\n",
        "            # Handle decoding error by converting data to list, if it's a tensor\n",
        "            data = data.cpu().tolist()\n",
        "            return ''.join([self.inv_vocab.get(j) for j in data])\n",
        "\n",
        "\n",
        "\n",
        "class GTokenizer:\n",
        "\n",
        "    def __init__(self, token_type: Literal['1k', '10k', '50k', 'char']='char', logger=None):\n",
        "\n",
        "        self.token_type = token_type\n",
        "        self.vocab, self.inv_vocab = None, None\n",
        "        if token_type == '1k':\n",
        "            self.tokenizer = AutoTokenizer.from_pretrained(\"alexgichamba/hw4_tokenizer_1k\", use_fast=False)\n",
        "        elif token_type == '10k':\n",
        "            self.tokenizer = AutoTokenizer.from_pretrained(\"alexgichamba/hw4_tokenizer_10k\", use_fast=False)\n",
        "        elif token_type == '20k':\n",
        "            self.tokenizer = AutoTokenizer.from_pretrained(\"alexgichamba/hw4_tokenizer_20k\", use_fast=False)\n",
        "        elif token_type == '50k':\n",
        "            self.tokenizer = AutoTokenizer.from_pretrained(\"alexgichamba/hw4_tokenizer_50k\", use_fast=False)\n",
        "        elif token_type  == '100k':\n",
        "            self.tokenizer = AutoTokenizer.from_pretrained(\"alexgichamba/hw4_tokenizer_100k\", use_fast=False)\n",
        "        elif token_type == 'char':\n",
        "            self.tokenizer = CharTokenizer()\n",
        "\n",
        "        self.EOS_TOKEN  = self.tokenizer.eos_token_id\n",
        "        self.SOS_TOKEN  = self.tokenizer.bos_token_id\n",
        "        self.PAD_TOKEN  = self.tokenizer.convert_tokens_to_ids('<|padding|>') if self.token_type != \"char\" else self.tokenizer.pad_token_id\n",
        "        self.UNK_TOKEN  = self.tokenizer.unk_token_id\n",
        "        self.VOCAB_SIZE = self.tokenizer.vocab_size\n",
        "\n",
        "        # Test tokenization methods to ensure everything is working correctly\n",
        "        test_text = \"HI DEEP LEARNERS\"\n",
        "        test_tok  = self.tokenize(test_text)\n",
        "        test_enc  = self.encode(test_text)\n",
        "        test_dec  = self.decode(test_enc)\n",
        "\n",
        "        print(f\"[Tokenizer Loaded]: {token_type}\")\n",
        "        print(f\"\\tEOS_TOKEN:  {self.EOS_TOKEN}\")\n",
        "        print(f\"\\tSOS_TOKEN:  {self.SOS_TOKEN}\")\n",
        "        print(f\"\\tPAD_TOKEN:  {self.PAD_TOKEN}\")\n",
        "        print(f\"\\tUNK_TOKEN:  {self.UNK_TOKEN}\")\n",
        "        print(f\"\\tVOCAB_SIZE: {self.VOCAB_SIZE}\")\n",
        "        print(\"Examples:\")\n",
        "        print(f\"\\t[DECODE EOS, SOS, PAD, UNK] : {self.decode([self.EOS_TOKEN, self.SOS_TOKEN, self.PAD_TOKEN, self.UNK_TOKEN])}\")\n",
        "        print(f\"\\t[Tokenize HI DEEP LEARNERS] : {test_tok}\")\n",
        "        print(f\"\\t[Encode   HI DEEP LEARNERS] : {test_enc}\")\n",
        "        print(f\"\\t[Decode   HI DEEP LEARNERS] : {test_dec}\")\n",
        "\n",
        "\n",
        "\n",
        "    def tokenize(self, data:str) -> List[str]:\n",
        "        return self.tokenizer.tokenize(data)\n",
        "\n",
        "    def encode(self, data:str, return_tensors=False) -> List[int]:\n",
        "        if return_tensors:\n",
        "            return self.tokenizer.encode(data, return_tensors='pt')\n",
        "        return self.tokenizer.encode(data)\n",
        "\n",
        "    def decode(self, data:List[int]) -> str:\n",
        "        return self.tokenizer.decode(data)"
      ]
    },
    {
      "cell_type": "markdown",
      "metadata": {
        "id": "-nKqVEk3yjZ1"
      },
      "source": [
        "## Instantiate your tokenizer of choice"
      ]
    },
    {
      "cell_type": "code",
      "execution_count": null,
      "metadata": {
        "colab": {
          "base_uri": "https://localhost:8080/"
        },
        "id": "NTGomx0JyjZ1",
        "outputId": "4e9da108-7b6a-4d8d-d842-ad9028b5e78d"
      },
      "outputs": [
        {
          "output_type": "stream",
          "name": "stdout",
          "text": [
            "[Tokenizer Loaded]: 1k\n",
            "\tEOS_TOKEN:  0\n",
            "\tSOS_TOKEN:  0\n",
            "\tPAD_TOKEN:  1\n",
            "\tUNK_TOKEN:  1000\n",
            "\tVOCAB_SIZE: 1000\n",
            "Examples:\n",
            "\t[DECODE EOS, SOS, PAD, UNK] : <|endoftext|><|endoftext|><|padding|><|unknown|>\n",
            "\t[Tokenize HI DEEP LEARNERS] : ['H', 'I', 'ĠDE', 'EP', 'ĠLE', 'AR', 'N', 'ERS']\n",
            "\t[Encode   HI DEEP LEARNERS] : [41, 42, 377, 541, 449, 292, 47, 428]\n",
            "\t[Decode   HI DEEP LEARNERS] : HI DEEP LEARNERS\n"
          ]
        }
      ],
      "source": [
        "Tokenizer = GTokenizer(config['token_type'])"
      ]
    },
    {
      "cell_type": "markdown",
      "metadata": {
        "id": "ICv8r0kp-oY6"
      },
      "source": [
        "# Data"
      ]
    },
    {
      "cell_type": "markdown",
      "metadata": {
        "id": "X36z-AawyjZ1"
      },
      "source": [
        "## Speech Features - Text Paired Dataset (TODO)\n",
        "The `SpeechDataset` class is a PyTorch `Dataset` for loading, processing, and preparing speech data. It handles feature extraction, tokenization, and optional feature augmentation, specifically for speech-based tasks.\n",
        "You will use this to train a Transformer ASR model."
      ]
    },
    {
      "cell_type": "code",
      "execution_count": null,
      "metadata": {
        "colab": {
          "base_uri": "https://localhost:8080/"
        },
        "id": "h_SDNtHhwP-J",
        "outputId": "9ceb8c78-8638-4c5d-d597-7fda3f47c2f5"
      },
      "outputs": [
        {
          "output_type": "stream",
          "name": "stdout",
          "text": [
            "['M' 'I' 'S' 'T' 'E' 'R' ' ' 'Q' 'U' 'I' 'L' 'T' 'E' 'R' ' ' 'I' 'S' ' '\n",
            " 'T' 'H' 'E' ' ' 'A' 'P' 'O' 'S' 'T' 'L' 'E' ' ' 'O' 'F' ' ' 'T' 'H' 'E'\n",
            " ' ' 'M' 'I' 'D' 'D' 'L' 'E' ' ' 'C' 'L' 'A' 'S' 'S' 'E' 'S' ' ' 'A' 'N'\n",
            " 'D' ' ' 'W' 'E' ' ' 'A' 'R' 'E' ' ' 'G' 'L' 'A' 'D' ' ' 'T' 'O' ' ' 'W'\n",
            " 'E' 'L' 'C' 'O' 'M' 'E' ' ' 'H' 'I' 'S' ' ' 'G' 'O' 'S' 'P' 'E' 'L']\n",
            "MISTER QUILTER IS THE APOSTLE OF THE MIDDLE CLASSES AND WE ARE GLAD TO WELCOME HIS GOSPEL\n",
            "[46, 926, 492, 375, 348, 351, 262, 759, 490, 302, 281, 262, 271, 320, 37, 302, 509, 533, 289, 283, 342, 452, 651, 344, 282, 342, 45, 36, 389, 335, 440, 52, 388, 45]\n"
          ]
        }
      ],
      "source": [
        "transcript = np.load(os.path.join(\"/content/data/hw4p2/dev-clean/text/1272-128104-0000.npy\")).tolist()\n",
        "transcript = \"\".join(transcript)\n",
        "\n",
        "print(np.load(os.path.join(\"/content/data/hw4p2/dev-clean/text/1272-128104-0000.npy\")))\n",
        "print(transcript)\n",
        "tokenized  = Tokenizer.encode(transcript)\n",
        "print(tokenized)"
      ]
    },
    {
      "cell_type": "code",
      "execution_count": null,
      "metadata": {
        "colab": {
          "base_uri": "https://localhost:8080/"
        },
        "id": "3MT0eE2tTuaw",
        "outputId": "2175bf1f-212a-4462-df7f-83afa71b517e"
      },
      "outputs": [
        {
          "output_type": "execute_result",
          "data": {
            "text/plain": [
              "22"
            ]
          },
          "metadata": {},
          "execution_count": 13
        }
      ],
      "source": [
        "import gc\n",
        "gc.collect()"
      ]
    },
    {
      "cell_type": "code",
      "execution_count": null,
      "metadata": {
        "id": "V50wWimayjZ1"
      },
      "outputs": [],
      "source": [
        "class SpeechDataset(Dataset):\n",
        "\n",
        "    def __init__(self,\n",
        "                 partition:Literal['train-clean-100', 'dev-clean', 'test-clean'],\n",
        "                 config:dict,\n",
        "                 tokenizer:GTokenizer,\n",
        "                 isTrainPartition:bool\n",
        "                 ):\n",
        "        \"\"\"\n",
        "        Initialize the SpeechDataset.\n",
        "\n",
        "        Args:\n",
        "            partition (str): Partition name\n",
        "            config (dict): Configuration dictionary for dataset settings.\n",
        "            tokenizer (GTokenizer): Tokenizer class for encoding and decoding text data.\n",
        "            isTrainPartition (bool): Flag indicating if this partition is for training.\n",
        "        \"\"\"\n",
        "\n",
        "        # general: Get config values\n",
        "        self.config           = config\n",
        "        self.root             = self.config['root']\n",
        "        self.partition        = partition\n",
        "        self.isTrainPartition = isTrainPartition\n",
        "        self.tokenizer = tokenizer\n",
        "        self.eos_token = tokenizer.EOS_TOKEN\n",
        "        self.sos_token = tokenizer.SOS_TOKEN\n",
        "        self.pad_token = tokenizer.PAD_TOKEN\n",
        "        self.subset    = self.config['subset']\n",
        "        self.feat_type = self.config['feat_type']\n",
        "        self.num_feats = self.config['num_feats']\n",
        "        self.norm      = self.config['norm']\n",
        "\n",
        "        # paths | files\n",
        "        self.fbank_dir   = os.path.join(self.root, self.partition, \"fbank\")\n",
        "        self.fbank_files = sorted(os.listdir(self.fbank_dir))\n",
        "        subset           = int(self.subset * len(self.fbank_files))\n",
        "        self.fbank_files = sorted(os.listdir(self.fbank_dir))[:subset]\n",
        "\n",
        "        if self.partition != 'test-clean':\n",
        "          self.text_dir    = os.path.join(self.root, self.partition, \"text\")\n",
        "          self.text_files  = sorted(os.listdir(self.text_dir))\n",
        "          self.text_files  = sorted(os.listdir(self.text_dir))[:subset]\n",
        "          assert len(self.fbank_files) == len(self.text_files), \"Number of fbank files and text files must be the same\"\n",
        "\n",
        "        self.length = len(self.fbank_files)\n",
        "        self.feats, self.transcripts_shifted, self.transcripts_golden = [], [], []\n",
        "\n",
        "\n",
        "        for i in tqdm(range(len(self.fbank_files)), desc=f\"Loading fbank and transcript data for {self.partition}\"):\n",
        "            # load features\n",
        "            feats = np.load(os.path.join(self.fbank_dir, self.fbank_files[i]))\n",
        "            if self.feat_type == 'mfcc':\n",
        "                feats = self.fbank_to_mfcc(feats)\n",
        "\n",
        "            if self.config['norm'] == 'cepstral':\n",
        "                feats = (feats - np.mean(feats, axis=0)) / (np.std(feats, axis=0) + 1E-8)\n",
        "\n",
        "            self.feats.append(feats[:self.num_feats, :])\n",
        "\n",
        "            # load and encode transcripts\n",
        "            # Why do we have two different types of targets?\n",
        "            # How do we want our decoder to know the start of sequence <SOS> and end of sequence <EOS>?\n",
        "\n",
        "            if self.partition != 'test-clean':\n",
        "              # Note: You dont have access to transcripts in dev_clean\n",
        "              transcript = np.load(os.path.join(self.text_dir, self.text_files[i])).tolist()\n",
        "              transcript = \"\".join(transcript)\n",
        "              #Invoke our tokenizer to tokenize the string\n",
        "              tokenized  = self.tokenizer.encode(transcript)\n",
        "              ## TODO: How will you use tokenized?\n",
        "              self.transcripts_shifted.append([self.sos_token] + tokenized)\n",
        "              self.transcripts_golden.append(tokenized + [self.eos_token])\n",
        "\n",
        "        if self.partition != 'test-clean':\n",
        "          assert len(self.feats) == len(self.transcripts_shifted) == len(self.transcripts_golden)\n",
        "\n",
        "        # precompute global stats for global mean and variance normalization\n",
        "        self.global_mean, self.global_std = None, None\n",
        "        if self.config['norm'] == 'global_mvn':\n",
        "            self.global_mean, self.global_std = self.compute_global_stats()\n",
        "\n",
        "        # Torch Audio Transforms\n",
        "        # time masking\n",
        "        self.time_mask = tat.TimeMasking(time_mask_param=self.config['specaug_conf']['time_mask_width_range'])\n",
        "\n",
        "        # frequency masking\n",
        "        self.freq_mask = tat.FrequencyMasking(freq_mask_param=self.config['specaug_conf']['freq_mask_width_range'])\n",
        "\n",
        "\n",
        "    def __len__(self):\n",
        "        return self.length\n",
        "\n",
        "    def __getitem__(self, idx):\n",
        "        feat = torch.FloatTensor(self.feats[idx])\n",
        "        shifted_transcript, golden_transcript = None, None\n",
        "        if self.partition != 'test-clean':\n",
        "          shifted_transcript = torch.LongTensor(self.transcripts_shifted[idx])\n",
        "          golden_transcript = torch.LongTensor(self.transcripts_golden[idx])\n",
        "        # Apply global mean and variance normalization if enabled\n",
        "        if self.global_mean is not None and self.global_std is not None:\n",
        "            feat = (feat - self.global_mean.unsqueeze(1)) / (self.global_std.unsqueeze(1) + 1e-8)\n",
        "        return feat, shifted_transcript, golden_transcript\n",
        "\n",
        "    def collate_fn(self, batch):\n",
        "        # @NOTE: batch corresponds to output from __getitem__ for a minibatch\n",
        "\n",
        "        '''\n",
        "        1.  Extract the features and labels from 'batch'.\n",
        "        2.  We will additionally need to pad both features and labels,\n",
        "            look at PyTorch's documentation for pad_sequence.\n",
        "        3.  This is a good place to perform transforms, if you so wish.\n",
        "            Performing them on batches will speed the process up a bit.\n",
        "        4.  Return batch of features, labels, lengths of features, and lengths of labels.\n",
        "\n",
        "        '''\n",
        "        # Prepare batch (features)\n",
        "        batch_feats      = [item[0].T for item in batch] # TODO: position of feats do you return from get_item + transpose B x T x F\n",
        "        lengths_feats    = [feat.shape[0] for feat in batch_feats] # Lengths of each T x F sequence\n",
        "        batch_feats_pad  = pad_sequence(batch_feats, batch_first=True) # Pad sequence\n",
        "\n",
        "        if self.partition != 'test-clean':\n",
        "          batch_transcript   = [item[1] for item in batch] # TODO: # B x T\n",
        "          batch_golden       = [item[2] for item in batch] # TODO # B x T\n",
        "          lengths_transcript = [len(trans) for trans in batch_transcript] # Lengths of each T\n",
        "          batch_transcript_pad = pad_sequence(batch_transcript, batch_first=True, padding_value=self.pad_token)\n",
        "          batch_golden_pad     = pad_sequence(batch_golden, batch_first=True, padding_value=self.pad_token)\n",
        "\n",
        "        # TODO: do specaugment transforms\n",
        "        if self.config[\"specaug\"] and self.isTrainPartition:\n",
        "\n",
        "            # transpose back to F x T to apply transforms\n",
        "            batch_feats_pad = batch_feats_pad.transpose(1, 2)\n",
        "\n",
        "            # shape should be B x num_feats x T\n",
        "            assert batch_feats_pad.shape[1] == self.num_feats\n",
        "\n",
        "            # freq_mask\n",
        "            if self.config[\"specaug_conf\"][\"apply_freq_mask\"]:\n",
        "              for _ in range(self.config[\"specaug_conf\"][\"num_freq_mask\"]):\n",
        "                batch_feats_pad = self.freq_mask(batch_feats_pad)\n",
        "\n",
        "            # time mask\n",
        "            if self.config[\"specaug_conf\"][\"apply_time_mask\"]:\n",
        "              for _ in range(self.config[\"specaug_conf\"][\"num_time_mask\"]):\n",
        "                batch_feats_pad = self.time_mask(batch_feats_pad)\n",
        "\n",
        "            # transpose back to T x F\n",
        "            batch_feats_pad = batch_feats_pad.transpose(1, 2)\n",
        "            # shape should be B x T x num_feats\n",
        "            assert batch_feats_pad.shape[2] == self.num_feats\n",
        "\n",
        "        # Return the following values:\n",
        "        # padded features, padded shifted labels, padded golden labels, actual length of features, actual length of the shifted label\n",
        "        if self.partition != 'test-clean':\n",
        "          return batch_feats_pad, batch_transcript_pad, batch_golden_pad, torch.tensor(lengths_feats), torch.tensor(lengths_transcript)\n",
        "        else:\n",
        "          return batch_feats_pad, None, None, torch.tensor(lengths_feats), None\n",
        "    def fbank_to_mfcc(self, fbank):\n",
        "        # Helper function that applies the dct to the filterbank features to concert them to mfccs\n",
        "        mfcc = dct(fbank.T, type=2, axis=1, norm='ortho')\n",
        "        return mfcc.T\n",
        "\n",
        "    #Will be discussed in bootcamp\n",
        "    def compute_global_stats(self):\n",
        "        raise NotImplementedError\n"
      ]
    },
    {
      "cell_type": "markdown",
      "metadata": {
        "id": "oWnzRKPjyjZ1"
      },
      "source": [
        "## Text Unpaired Dataset (Decoder LM Pre-Training)\n",
        "The `TextDataset` class is a PyTorch `Dataset` for handling text data. It loads and tokenizes text transcripts from files, applies start-of-sequence and end-of-sequence tokens, and provides methods to retrieve and batch data.\n",
        "You will use this to pre-train a Transformer decoder as an LM before optionally using it along with the Encoder for the ASR task"
      ]
    },
    {
      "cell_type": "code",
      "execution_count": null,
      "metadata": {
        "id": "d5p8esGGyjZ1"
      },
      "outputs": [],
      "source": [
        "class TextDataset(Dataset):\n",
        "    def __init__(self, partition: str, config:dict, tokenizer: GTokenizer):\n",
        "        \"\"\"\n",
        "        Initializes the TextDataset class, which loads and tokenizes transcript files.\n",
        "\n",
        "        Args:\n",
        "            partition (str): Subdirectory under root that specifies the data partition (e.g., 'train', 'test').\n",
        "            config (dict): Configuration dictionary for dataset settings.\n",
        "            tokenizer (GTokenizer): Tokenizer instance for encoding transcripts into token sequences.\n",
        "        \"\"\"\n",
        "\n",
        "        # General attributes\n",
        "        self.root      = config['root']\n",
        "        self.subset    = config['subset']\n",
        "        self.partition = partition\n",
        "        self.tokenizer = tokenizer\n",
        "        self.eos_token = tokenizer.EOS_TOKEN  # End of sequence token\n",
        "        self.sos_token = tokenizer.SOS_TOKEN  # Start of sequence token\n",
        "        self.pad_token = tokenizer.PAD_TOKEN  # Padding token\n",
        "\n",
        "        # Paths and files\n",
        "        self.text_dir = os.path.join(self.root, self.partition)  # Directory containing transcript files\n",
        "        self.text_files = sorted(os.listdir(self.text_dir))  # Sorted list of transcript files\n",
        "\n",
        "        # Limit to subset of files if specified\n",
        "        subset = int(self.subset * len(self.text_files))\n",
        "        self.text_files = self.text_files[:subset]\n",
        "        self.length = len(self.text_files)\n",
        "\n",
        "        # Storage for encoded transcripts\n",
        "        self.transcripts_shifted, self.transcripts_golden = [], []\n",
        "\n",
        "        # Load and encode transcripts\n",
        "        for file in tqdm(self.text_files, desc=f\"Loading transcript data for {partition}\"):\n",
        "            transcript = np.load(os.path.join(self.text_dir, file)).tolist()\n",
        "            transcript = \" \".join(transcript.split())  # Process text\n",
        "            tokenized = self.tokenizer.encode(transcript)  # Tokenize transcript\n",
        "            # Store shifted and golden versions of transcripts\n",
        "            self.transcripts_shifted.append(np.array([self.eos_token] + tokenized))\n",
        "            self.transcripts_golden.append(np.array(tokenized + [self.eos_token]))\n",
        "\n",
        "    def __len__(self) -> int:\n",
        "        \"\"\"Returns the total number of transcripts in the dataset.\"\"\"\n",
        "        return self.length\n",
        "\n",
        "    def __getitem__(self, idx: int) -> Tuple[torch.LongTensor, torch.LongTensor]:\n",
        "        \"\"\"\n",
        "        Retrieves the shifted and golden version of the transcript at the specified index.\n",
        "\n",
        "        Args:\n",
        "            idx (int): Index of the transcript to retrieve.\n",
        "\n",
        "        Returns:\n",
        "            Tuple[torch.LongTensor, torch.LongTensor]: Shifted and golden version of the transcript.\n",
        "        \"\"\"\n",
        "        shifted_transcript = torch.LongTensor(self.transcripts_shifted[idx])\n",
        "        golden_transcript = torch.LongTensor(self.transcripts_golden[idx])\n",
        "        return shifted_transcript, golden_transcript\n",
        "\n",
        "    def collate_fn(self, batch: List[Tuple[torch.LongTensor, torch.LongTensor]]) -> Tuple[torch.Tensor, torch.Tensor, torch.Tensor]:\n",
        "        \"\"\"\n",
        "        Collates a batch of transcripts for model input, applying padding as needed.\n",
        "\n",
        "        Args:\n",
        "            batch (List[Tuple[torch.LongTensor, torch.LongTensor]]): Batch of (shifted, golden) transcripts.\n",
        "\n",
        "        Returns:\n",
        "            Tuple[torch.Tensor, torch.Tensor, torch.Tensor]:\n",
        "                - Padded shifted transcripts (batch_transcript_pad).\n",
        "                - Padded golden transcripts (batch_golden_pad).\n",
        "                - Lengths of shifted transcripts.\n",
        "        \"\"\"\n",
        "\n",
        "        # Separate shifted and golden transcripts from batch\n",
        "        batch_transcript = [i[0] for i in batch]  # B x T\n",
        "        batch_golden = [i[1] for i in batch]  # B x T\n",
        "        lengths_transcript = [len(i) for i in batch_transcript]\n",
        "\n",
        "        # Pad sequences\n",
        "        batch_transcript_pad = pad_sequence(batch_transcript, batch_first=True, padding_value=self.pad_token)\n",
        "        batch_golden_pad = pad_sequence(batch_golden, batch_first=True, padding_value=self.pad_token)\n",
        "\n",
        "        # Return padded sequences and lengths\n",
        "        return batch_transcript_pad, batch_golden_pad, torch.tensor(lengths_transcript)\n"
      ]
    },
    {
      "cell_type": "markdown",
      "metadata": {
        "id": "-ggvSt2p1qga"
      },
      "source": [
        "## Datasets"
      ]
    },
    {
      "cell_type": "code",
      "execution_count": null,
      "metadata": {
        "colab": {
          "base_uri": "https://localhost:8080/"
        },
        "id": "ZnePjSrr1g8f",
        "outputId": "cf30e143-075a-43e3-cf47-d8841ef366b5"
      },
      "outputs": [
        {
          "output_type": "stream",
          "name": "stderr",
          "text": [
            "Loading fbank and transcript data for train-clean-100: 100%|██████████| 28539/28539 [01:59<00:00, 239.43it/s]\n",
            "Loading fbank and transcript data for dev-clean: 100%|██████████| 2703/2703 [00:05<00:00, 527.91it/s]\n",
            "Loading fbank and transcript data for test-clean: 100%|██████████| 2620/2620 [00:02<00:00, 1285.42it/s]\n",
            "Loading transcript data for text-for-LM: 100%|██████████| 281241/281241 [02:21<00:00, 1984.74it/s]\n"
          ]
        }
      ],
      "source": [
        "# del train_dataset\n",
        "# del val_dataset\n",
        "# del test_dataset\n",
        "\n",
        "# @NOTE: use the config file to specify PARTITION and CEPSTRAL\n",
        "train_dataset   = SpeechDataset(\n",
        "    partition   = config['train_partition'],\n",
        "    config      = config,\n",
        "    tokenizer   = Tokenizer,\n",
        "    isTrainPartition = True,\n",
        ")\n",
        "\n",
        "\n",
        "val_dataset     = SpeechDataset(\n",
        "    partition   = config['val_partition'],\n",
        "    config      = config,\n",
        "    tokenizer   = Tokenizer,\n",
        "    isTrainPartition = False,\n",
        ")\n",
        "\n",
        "\n",
        "test_dataset    = SpeechDataset(\n",
        "    partition   = config['test_partition'],\n",
        "    config      = config,\n",
        "    tokenizer   = Tokenizer,\n",
        "    isTrainPartition = False,\n",
        ")\n",
        "\n",
        "\n",
        "# UNCOMMENT if pretraining decoder as LM\n",
        "text_dataset   = TextDataset(\n",
        "     partition  = config['unpaired_text_partition'],\n",
        "     config     = config,\n",
        "     tokenizer  = Tokenizer,\n",
        ")\n"
      ]
    },
    {
      "cell_type": "markdown",
      "metadata": {
        "id": "vQRQ_nQVNaFx"
      },
      "source": [
        "## DataLoaders"
      ]
    },
    {
      "cell_type": "code",
      "execution_count": null,
      "metadata": {
        "id": "07jUkf4R2_El"
      },
      "outputs": [],
      "source": [
        "train_loader    = DataLoader(\n",
        "    dataset     = train_dataset,\n",
        "    batch_size  = config[\"batch_size\"],\n",
        "    shuffle     = True,\n",
        "    num_workers = config['NUM_WORKERS'],\n",
        "    pin_memory  = True,\n",
        "    collate_fn  = train_dataset.collate_fn\n",
        ")\n",
        "\n",
        "\n",
        "val_loader      = DataLoader(\n",
        "    dataset     = val_dataset,\n",
        "    batch_size  = 4,\n",
        "    shuffle     = False,\n",
        "    num_workers = config['NUM_WORKERS'],\n",
        "    pin_memory  = True,\n",
        "    collate_fn  = val_dataset.collate_fn\n",
        ")\n",
        "\n",
        "\n",
        "test_loader     = DataLoader(\n",
        "    dataset     = test_dataset,\n",
        "    batch_size  = config[\"batch_size\"],\n",
        "    shuffle     = False,\n",
        "    num_workers = config['NUM_WORKERS'],\n",
        "    pin_memory  = True,\n",
        "    collate_fn  = test_dataset.collate_fn\n",
        ")\n",
        "\n",
        "\n",
        "# UNCOMMENT if pretraining decoder as LM\n",
        "text_loader     = DataLoader(\n",
        "   dataset       = text_dataset,\n",
        "   batch_size    = config[\"batch_size\"],\n",
        "   shuffle       = True,\n",
        "   num_workers   = config['NUM_WORKERS'],\n",
        "   pin_memory    = True,\n",
        "   collate_fn    = text_dataset.collate_fn\n",
        ")\n"
      ]
    },
    {
      "cell_type": "code",
      "execution_count": null,
      "metadata": {
        "colab": {
          "base_uri": "https://localhost:8080/"
        },
        "id": "JDDT6vQWK09Z",
        "outputId": "b950df80-22bb-4980-d237-b8cf8cbd8ac8"
      },
      "outputs": [
        {
          "output_type": "stream",
          "name": "stdout",
          "text": [
            "Batch length: 5\n",
            "Item 0: <class 'torch.Tensor'> - torch.Size([16, 1556, 80])\n",
            "Item 1: <class 'NoneType'> - None\n",
            "Item 2: <class 'NoneType'> - None\n",
            "Item 3: <class 'torch.Tensor'> - torch.Size([16])\n",
            "Item 4: <class 'NoneType'> - None\n"
          ]
        }
      ],
      "source": [
        "# Get a single batch\n",
        "for batch in test_loader:\n",
        "  print(f\"Batch length: {len(batch)}\")\n",
        "  for i, item in enumerate(batch):\n",
        "    print(f\"Item {i}: {type(item)} - {item.shape if hasattr(item, 'shape') else item}\")\n",
        "  break\n"
      ]
    },
    {
      "cell_type": "markdown",
      "metadata": {
        "id": "IBin7pn2_rR4"
      },
      "source": [
        "### Dataset Verification and Analysis Overview\n",
        "\n",
        "This verifies and analyzes properties of both paired (audio-transcript) and unpaired (transcript-only) datasets in a speech-text processing pipeline. The main steps are:\n",
        "\n",
        "1. **Dataset Verification**:\n",
        "   - The `verify_dataset` function iterates through the data loader, identifying the maximum sequence lengths for both:\n",
        "     - **MFCC feature length** (`max_len_feat`)\n",
        "     - **Transcript length** (`max_len_t`)\n",
        "   - This check is performed on both paired datasets (audio-transcript) and, optionally, on the unpaired transcript dataset for potential language model pretraining.\n",
        "\n",
        "2. **Dataset Statistics**:\n",
        "   - It prints key statistics such as:\n",
        "     - Number of samples\n",
        "     - Batch size\n",
        "     - Number of batches for both training and validation sets\n",
        "\n",
        "3. **Batch Structure Validation**:\n",
        "   - Using a sample batch from `train_loader`, it:\n",
        "     - Prints the shape of padded input features (`x_pad`), feature lengths (`x_len`), and padded shifted/golden transcripts (`y_shifted_pad` and `y_golden_pad`)\n",
        "     - Decodes and prints one transcript for manual verification of tokenized text accuracy\n",
        "\n",
        "4. **Max Length Calculation**:\n",
        "   - Computes the maximum feature and transcript lengths across the entire dataset (training and validation combined) for efficient padding during model training.\n",
        "\n",
        "5. **Feature Visualization**:\n",
        "   - Displays a heatmap of the first sample’s feature matrix (`x_pad`), showing the temporal structure of the MFCC feature representation.\n",
        "\n",
        "This process is essential to ensure dataset consistency, verify data preparation, and inspect the data format before model training.\n"
      ]
    },
    {
      "cell_type": "code",
      "execution_count": null,
      "metadata": {
        "colab": {
          "base_uri": "https://localhost:8080/",
          "height": 1000
        },
        "collapsed": true,
        "id": "Qz9-bTv41-JM",
        "jupyter": {
          "outputs_hidden": true
        },
        "outputId": "1f0986bc-583f-4d6e-8a89-6d65ca993761"
      },
      "outputs": [
        {
          "output_type": "stream",
          "name": "stdout",
          "text": [
            "\n",
            "Paired Data Stats: \n",
            "No. of Train Feats   : 28539\n",
            "Batch Size           : 16\n",
            "Train Batches        : 1784\n",
            "Val Batches          : 676\n",
            "\n",
            "Checking the Shapes of the Data --\n",
            "\n",
            "x_pad shape:\t\ttorch.Size([16, 1946, 80])\n",
            "x_len shape:\t\ttorch.Size([16])\n",
            "y_shifted_pad shape:\ttorch.Size([16, 88])\n",
            "y_golden_pad shape:\ttorch.Size([16, 88])\n",
            "y_len shape:\t\ttorch.Size([16])\n",
            "\n",
            "Transcript Shifted: <|endoftext|>GO ON GO ON AND AT THE SAME MOMENT MANY MORE WOLVES RAN UP THE HILL HOWLING HORRIBLY AND SHOWING THEIR WHITE TEETH THE KING IN HIS TERROR CALLED OUT STOP A MOMENT I WILL GIVE YOU HALF MY KINGDOM<|padding|><|padding|><|padding|><|padding|><|padding|><|padding|><|padding|><|padding|><|padding|><|padding|><|padding|><|padding|><|padding|><|padding|><|padding|><|padding|><|padding|><|padding|><|padding|><|padding|><|padding|><|padding|>\n",
            "Transcript Golden: GO ON GO ON AND AT THE SAME MOMENT MANY MORE WOLVES RAN UP THE HILL HOWLING HORRIBLY AND SHOWING THEIR WHITE TEETH THE KING IN HIS TERROR CALLED OUT STOP A MOMENT I WILL GIVE YOU HALF MY KINGDOM<|endoftext|><|padding|><|padding|><|padding|><|padding|><|padding|><|padding|><|padding|><|padding|><|padding|><|padding|><|padding|><|padding|><|padding|><|padding|><|padding|><|padding|><|padding|><|padding|><|padding|><|padding|><|padding|><|padding|>\n",
            "\n",
            "Unpaired Data Stats: \n",
            "No. of text          : 281241\n",
            "Batch Size           : 16\n",
            "Train Batches        : 17578\n",
            "\n",
            "Checking the Shapes of the Data --\n",
            "\n",
            "y_shifted_pad shape:\ttorch.Size([16, 89])\n",
            "y_golden_pad shape:\ttorch.Size([16, 89])\n",
            "y_len shape:\t\ttorch.Size([16])\n",
            "\n",
            "Transcript Shifted: <|endoftext|>EACH POWER OF THE SOUL IS A FORM OR NATURE AND HAS A NATURAL INCLINATION TO SOMETHING WHEREFORE EACH POWER DESIRES BY THE NATURAL APPETITE THAT OBJECT<|padding|><|padding|><|padding|><|padding|><|padding|><|padding|><|padding|><|padding|><|padding|><|padding|><|padding|><|padding|><|padding|><|padding|><|padding|><|padding|><|padding|><|padding|><|padding|><|padding|><|padding|><|padding|><|padding|><|padding|><|padding|><|padding|><|padding|><|padding|><|padding|><|padding|><|padding|><|padding|><|padding|><|padding|><|padding|><|padding|><|padding|><|padding|><|padding|><|padding|>\n",
            "Transcript Golden: EACH POWER OF THE SOUL IS A FORM OR NATURE AND HAS A NATURAL INCLINATION TO SOMETHING WHEREFORE EACH POWER DESIRES BY THE NATURAL APPETITE THAT OBJECT<|endoftext|><|padding|><|padding|><|padding|><|padding|><|padding|><|padding|><|padding|><|padding|><|padding|><|padding|><|padding|><|padding|><|padding|><|padding|><|padding|><|padding|><|padding|><|padding|><|padding|><|padding|><|padding|><|padding|><|padding|><|padding|><|padding|><|padding|><|padding|><|padding|><|padding|><|padding|><|padding|><|padding|><|padding|><|padding|><|padding|><|padding|><|padding|><|padding|><|padding|><|padding|>\n",
            "\n",
            "\n",
            "\n",
            "Verifying Datasets\n",
            "Loaded Path:  train-clean-100\n"
          ]
        },
        {
          "output_type": "stream",
          "name": "stderr",
          "text": [
            "Verifying train-clean-100 Dataset: 100%|██████████| 1784/1784 [00:37<00:00, 48.08it/s]\n"
          ]
        },
        {
          "output_type": "stream",
          "name": "stdout",
          "text": [
            "Maximum Feat Length in Dataset       : 3066\n",
            "Maximum Transcript Length in Dataset : 146\n",
            "Loaded Path:  dev-clean\n"
          ]
        },
        {
          "output_type": "stream",
          "name": "stderr",
          "text": [
            "Verifying dev-clean Dataset: 100%|██████████| 676/676 [00:04<00:00, 164.46it/s]\n"
          ]
        },
        {
          "output_type": "stream",
          "name": "stdout",
          "text": [
            "Maximum Feat Length in Dataset       : 4081\n",
            "Maximum Transcript Length in Dataset : 190\n",
            "Loaded Path:  test-clean\n"
          ]
        },
        {
          "output_type": "stream",
          "name": "stderr",
          "text": [
            "Verifying test-clean Dataset: 100%|██████████| 164/164 [00:03<00:00, 52.83it/s] \n"
          ]
        },
        {
          "output_type": "stream",
          "name": "stdout",
          "text": [
            "Maximum Feat Length in Dataset       : 4370\n",
            "Maximum Transcript Length in Dataset : 0\n",
            "Loaded Path:  text-for-LM\n"
          ]
        },
        {
          "output_type": "stream",
          "name": "stderr",
          "text": [
            "Verifying text-for-LM Dataset: 100%|██████████| 17578/17578 [00:34<00:00, 514.25it/s]\n"
          ]
        },
        {
          "output_type": "stream",
          "name": "stdout",
          "text": [
            "Maximum Feat Length in Dataset       : 0\n",
            "Maximum Transcript Length in Dataset : 200\n",
            "Maximum Feat. Length in Entire Dataset      : 4370\n",
            "Maximum Transcript Length in Entire Dataset : 200\n",
            "\n"
          ]
        },
        {
          "output_type": "display_data",
          "data": {
            "text/plain": [
              "<Figure size 1000x600 with 1 Axes>"
            ],
            "image/png": "[encoded data removed]"
          },
          "metadata": {}
        }
      ],
      "source": [
        "def verify_dataset(dataloader, partition):\n",
        "    '''Compute the Maximum MFCC and Transcript sequence length in a dataset'''\n",
        "    print(\"Loaded Path: \", partition)\n",
        "    max_len_feat = 0\n",
        "    max_len_t    = 0  # To track the maximum length of transcripts\n",
        "\n",
        "    # Iterate through the dataloader\n",
        "    for batch in tqdm(dataloader, desc=f\"Verifying {partition} Dataset\"):\n",
        "      try:\n",
        "        x_pad, y_shifted_pad, y_golden_pad, x_len, y_len = batch\n",
        "\n",
        "        # Update the maximum feat length\n",
        "        len_x = x_pad.shape[1]\n",
        "        if len_x > max_len_feat:\n",
        "            max_len_feat = len_x\n",
        "\n",
        "        # Update the maximum transcript length\n",
        "        # transcript length is dim 1 of y_shifted_pad\n",
        "        if y_shifted_pad is not None:\n",
        "          len_y = y_shifted_pad.shape[1]\n",
        "          if len_y > max_len_t:\n",
        "              max_len_t = len_y\n",
        "\n",
        "      except Exception as e:\n",
        "        # The text dataset has no transcripts\n",
        "        y_shifted_pad, y_golden_pad, y_len = batch\n",
        "\n",
        "        # Update the maximum transcript length\n",
        "        # transcript length is dim 1 of y_shifted_pad\n",
        "        len_y = y_shifted_pad.shape[1]\n",
        "        if len_y > max_len_t:\n",
        "            max_len_t = len_y\n",
        "\n",
        "\n",
        "    print(f\"Maximum Feat Length in Dataset       : {max_len_feat}\")\n",
        "    print(f\"Maximum Transcript Length in Dataset : {max_len_t}\")\n",
        "    return max_len_feat, max_len_t\n",
        "\n",
        "print('')\n",
        "print(\"Paired Data Stats: \")\n",
        "print(f\"No. of Train Feats   : {train_dataset.__len__()}\")\n",
        "print(f\"Batch Size           : {config['batch_size']}\")\n",
        "print(f\"Train Batches        : {train_loader.__len__()}\")\n",
        "print(f\"Val Batches          : {val_loader.__len__()}\")\n",
        "# print(f\"Test Batches         : {test_loader.__len__()}\")\n",
        "print('')\n",
        "print(\"Checking the Shapes of the Data --\\n\")\n",
        "for batch in train_loader:\n",
        "    x_pad, y_shifted_pad, y_golden_pad, x_len, y_len, = batch\n",
        "    print(f\"x_pad shape:\\t\\t{x_pad.shape}\")\n",
        "    print(f\"x_len shape:\\t\\t{x_len.shape}\")\n",
        "\n",
        "    if y_shifted_pad is not None and y_golden_pad is not None and y_len is not None:\n",
        "      print(f\"y_shifted_pad shape:\\t{y_shifted_pad.shape}\")\n",
        "      print(f\"y_golden_pad shape:\\t{y_golden_pad.shape}\")\n",
        "      print(f\"y_len shape:\\t\\t{y_len.shape}\\n\")\n",
        "      # convert one transcript to text\n",
        "      transcript = train_dataset.tokenizer.decode(y_shifted_pad[0].tolist())\n",
        "      print(f\"Transcript Shifted: {transcript}\")\n",
        "      transcript = train_dataset.tokenizer.decode(y_golden_pad[0].tolist())\n",
        "      print(f\"Transcript Golden: {transcript}\")\n",
        "    break\n",
        "print('')\n",
        "\n",
        "# UNCOMMENT if pretraining decoder as LM\n",
        "print(\"Unpaired Data Stats: \")\n",
        "print(f\"No. of text          : {text_dataset.__len__()}\")\n",
        "print(f\"Batch Size           : {config['batch_size']}\")\n",
        "print(f\"Train Batches        : {text_loader.__len__()}\")\n",
        "print('')\n",
        "print(\"Checking the Shapes of the Data --\\n\")\n",
        "for batch in text_loader:\n",
        "     y_shifted_pad, y_golden_pad, y_len, = batch\n",
        "     print(f\"y_shifted_pad shape:\\t{y_shifted_pad.shape}\")\n",
        "     print(f\"y_golden_pad shape:\\t{y_golden_pad.shape}\")\n",
        "     print(f\"y_len shape:\\t\\t{y_len.shape}\\n\")\n",
        "\n",
        "     # convert one transcript to text\n",
        "     transcript = text_dataset.tokenizer.decode(y_shifted_pad[0].tolist())\n",
        "     print(f\"Transcript Shifted: {transcript}\")\n",
        "     transcript = text_dataset.tokenizer.decode(y_golden_pad[0].tolist())\n",
        "     print(f\"Transcript Golden: {transcript}\")\n",
        "     break\n",
        "print('')\n",
        "\n",
        "print(\"\\n\\nVerifying Datasets\")\n",
        "max_train_feat, max_train_transcript = verify_dataset(train_loader, config['train_partition'])\n",
        "max_val_feat, max_val_transcript     = verify_dataset(val_loader,   config['val_partition'])\n",
        "max_test_feat, max_test_transcript   = verify_dataset(test_loader,  config['test_partition'])\n",
        "_, max_text_transcript               = verify_dataset(text_loader,  config['unpaired_text_partition'])\n",
        "\n",
        "MAX_SPEECH_LEN = max(max_train_feat, max_val_feat, max_test_feat)\n",
        "MAX_TRANS_LEN  = max(max_train_transcript, max_val_transcript, max_text_transcript)\n",
        "print(f\"Maximum Feat. Length in Entire Dataset      : {MAX_SPEECH_LEN}\")\n",
        "print(f\"Maximum Transcript Length in Entire Dataset : {MAX_TRANS_LEN}\")\n",
        "print('')\n",
        "gc.collect()\n",
        "\n",
        "plt.figure(figsize=(10, 6))\n",
        "plt.imshow(x_pad[0].numpy().T, aspect='auto', origin='lower', cmap='viridis')\n",
        "plt.xlabel('Time')\n",
        "plt.ylabel('Features')\n",
        "plt.title('Feature Representation')\n",
        "plt.show()"
      ]
    },
    {
      "cell_type": "markdown",
      "metadata": {
        "id": "6QiV7F8hhS0c"
      },
      "source": [
        "# Introduction\n",
        "\n",
        "Transformers have proven highly effective for speech recognition due to their self-attention mechanisms, which allow them to process entire sequences of audio data simultaneously. This enables the model to capture long-range dependencies and complex temporal dynamics essential for understanding spoken language. Compared to traditional models, transformers offer significant gains in accuracy and efficiency, handling diverse speech patterns, accents, and intonations with ease, making them ideal for advanced speech recognition tasks.\n",
        "\n",
        "In this assignment, training will be structured to optimize both the complexity of the model and the limited availability of data and computational resources. We offer three training strategies, allowing you the flexibility to experiment with any or all approaches to achieve the best results:\n",
        "\n",
        "### Training Strategies\n",
        "\n",
        "1. **Pre-training the Transformer Decoder as a Language Model (LM)**:\n",
        "   - This strategy focuses on pre-training the transformer decoder as a language model on text data alone. This equips the decoder with an understanding of the language’s structure, syntax, and word patterns, offering a solid foundation before any audio data is introduced.\n",
        "   - By establishing this baseline, the decoder can generate realistic text sequences, which can significantly enhance performance when paired with limited audio-text data in later stages.\n",
        "\n",
        "2. **Pre-training the Transformer Decoder as a Conditional Language Model with Conv2D + LSTM Embeddings**:\n",
        "   - Here, the transformer decoder is trained as a conditional language model, taking in audio features that have been processed through a Conv2D and LSTM stack. These embeddings serve as conditional inputs to the decoder, helping it to start learning the mappings between audio patterns and text outputs.\n",
        "   - This phase accelerates learning by conditioning the model on audio data, allowing for smoother transition into full training.\n",
        "\n",
        "3. **Full Training with a Transformer Encoder-Decoder Architecture**:\n",
        "   - In the final phase, both the encoder and decoder are trained together as a complete transformer encoder-decoder model. The encoder processes raw audio features, extracting key representations that the decoder then converts into text.\n",
        "   - This end-to-end approach refines the model’s ability to transcribe complex audio inputs into text, integrating insights from the pre-training steps to enhance performance on the speech recognition task.\n",
        "\n",
        "By exploring these strategies individually or in combination, you can determine the most effective training path for optimal results.\n",
        "\n",
        "\n",
        "![image.png](data:image/png;base64,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)\n"
      ]
    },
    {
      "cell_type": "markdown",
      "metadata": {
        "id": "wTZ-lv47XOj0"
      },
      "source": [
        "## Utilities\n",
        "\n",
        "To make make building the transformer easy, we will define various utility functions and classes which corresponds to the various modules of the transformer. All Components are provided for you but your task will be too understand the modules as you will need  them in answering Canvas quizzes as well as implementing other parts of this notebook. Please refer to the write-up for more information."
      ]
    },
    {
      "cell_type": "markdown",
      "metadata": {
        "id": "vgbCOVMRyjZ1"
      },
      "source": [
        "## Masking in Transformers for Sequence Modeling (TODO)\n",
        "\n",
        "This task focuses on implementing two types of masks used in transformers for sequence modeling: **padding masks** and **causal masks**. These masks are crucial for handling variable-length sequences and ensuring proper attention flow in self-attention mechanisms, particularly in transformer architectures used for tasks such as language modeling, machine translation, and speech recognition.\n",
        "\n",
        "### Padding Mask\n",
        "\n",
        "In transformers, inputs are often padded to a uniform length to form batches. However, the attention mechanism should not attend to these padding tokens, as they do not carry meaningful information. The `PadMask` function creates a binary or boolean mask to identify and ignore padding tokens during attention.\n",
        "\n",
        "- **Function**: `PadMask`\n",
        "  - **Input**: A padded input tensor of shape `(N, T, ...)`, where `N` is the batch size and `T` is the maximum sequence length in the batch. This function also accepts an optional `input_lengths` tensor representing the actual lengths of each sequence before padding, and a `pad_idx` (padding token index).\n",
        "  - **Output**: A mask of shape `(N, T)` where non-padding positions are marked as `1` and padding positions are marked as `0`.\n",
        "\n",
        "The `PadMask` function checks if `input_lengths` is provided. If so, it creates a mask based on these lengths; otherwise, it infers the mask from the `pad_idx` token.\n",
        "\n",
        "### Causal Mask\n",
        "\n",
        "For the transformer decoder, especially in tasks like language modeling, the causal mask ensures that each token only attends to previous tokens, preventing information leakage from future tokens. This is essential for generating sequences in an autoregressive manner, as it ensures that each token prediction is conditioned solely on preceding tokens.\n",
        "\n",
        "- **Function**: `CausalMask`\n",
        "  - **Input**: A tensor of shape `(N, T, ...)` for which a causal mask is required.\n",
        "  - **Output**: A lower triangular causal mask of shape `(T, T)`, where each position `(i, j)` is `1` if `j <= i` and `0` otherwise.\n",
        "\n",
        "The `CausalMask` function generates a lower triangular matrix, setting positions above the main diagonal to `0`, thereby preventing attention to future tokens in the sequence.\n",
        "\n",
        "### Testing the Masks\n",
        "\n",
        "To visualize and verify the padding and causal masks:\n",
        "\n",
        "1. Dummy encoder and decoder input tensors are created, along with their corresponding lengths.\n",
        "2. The `PadMask` is applied to the encoder and decoder inputs, producing the encoder and decoder padding masks.\n",
        "3. The `CausalMask` is applied to the decoder input, yielding a causal mask for autoregressive self-attention.\n",
        "\n",
        "Each mask is visualized as a grayscale image:\n",
        "- **Encoder Padding Mask**: Black areas represent positions where padding is ignored in the encoder input.\n",
        "- **Decoder Padding Mask**: Black areas indicate padding positions in the decoder input.\n",
        "- **Decoder Causal Mask**: Black areas enforce causality, blocking attention to future positions in the sequence.\n",
        "\n",
        "Ensure your image matches the expected image below before proceeding to the next sections:\n",
        "\n",
        "\n",
        "Expected image of masks\n",
        "![image.png](data:image/png;base64,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)"
      ]
    },
    {
      "cell_type": "code",
      "execution_count": null,
      "metadata": {
        "colab": {
          "base_uri": "https://localhost:8080/",
          "height": 213
        },
        "collapsed": true,
        "id": "VYD3MyVL_50G",
        "jupyter": {
          "outputs_hidden": true
        },
        "outputId": "1f7112ae-0596-4edf-a3fb-8ff65e35427a"
      },
      "outputs": [
        {
          "output_type": "display_data",
          "data": {
            "text/plain": [
              "<Figure size 2000x500 with 3 Axes>"
            ],
            "image/png": "[encoded data removed]"
          },
          "metadata": {}
        }
      ],
      "source": [
        "def PadMask(padded_input, input_lengths=None, pad_idx=None):\n",
        "    \"\"\" Create a mask to identify non-padding positions.\n",
        "\n",
        "    Args:\n",
        "        padded_input: The input tensor with padding, shape (N, T, ...) or (N, T).\n",
        "        input_lengths: Optional, the actual lengths of each sequence before padding, shape (N,).\n",
        "        pad_idx: Optional, the index used for padding tokens.\n",
        "\n",
        "    Returns:\n",
        "        A mask tensor with shape (N, T), where padding positions are marked with 1 and non-padding positions are marked with 0.\n",
        "    \"\"\"\n",
        "\n",
        "    # If input is a 2D tensor (N, T), add an extra dimension\n",
        "    if padded_input.dim() == 2:\n",
        "        padded_input = padded_input.unsqueeze(-1)\n",
        "\n",
        "    # TODO: Initialize the mask variable here. What type should it be and how should it be initialized?\n",
        "    mask = torch.zeros(padded_input.shape[:2])\n",
        "\n",
        "    if input_lengths is not None:\n",
        "        # TODO: Use the provided input_lengths to create the mask.\n",
        "        N, T, _ = padded_input.shape\n",
        "        for i in range(N):\n",
        "\n",
        "            # TODO: Set non-padding positions to False based on input_lengths\n",
        "            mask[i, :input_lengths[i]] = False\n",
        "            mask[i, input_lengths[i]:] = True\n",
        "    else:\n",
        "        # TODO: Infer the mask from the padding index.\n",
        "        mask = (padded_input.squeeze(-1) == pad_idx)  # Shape (N, T)\n",
        "\n",
        "    return mask\n",
        "\n",
        "\n",
        "def CausalMask(input_tensor):\n",
        "    \"\"\"\n",
        "    Create an attention mask for causal self-attention based on input lengths.\n",
        "\n",
        "    Args:\n",
        "        input_tensor (torch.Tensor): The input tensor of shape (N, T, *).\n",
        "\n",
        "    Returns:\n",
        "        attn_mask (torch.Tensor): The causal self-attention mask of shape (T, T)\n",
        "    \"\"\"\n",
        "    T = input_tensor.shape[1]  # Sequence length\n",
        "    # TODO: Initialize attn_mask as a tensor of zeros with the right shape.\n",
        "    attn_mask = torch.zeros((T, T), dtype=torch.bool) # Shape (T, T)\n",
        "\n",
        "    # TODO: Create a lower triangular matrix to form the causal mask.\n",
        "    causal_mask = torch.triu(torch.ones((T, T), dtype=torch.bool), diagonal=1)  # Lower triangular matrix\n",
        "\n",
        "    # TODO: Combine the initial mask with the causal mask.\n",
        "    attn_mask = attn_mask | causal_mask\n",
        "\n",
        "    return attn_mask\n",
        "\n",
        "\n",
        "\n",
        "# Test w/ dummy inputs\n",
        "enc_inp_tensor     = torch.randn(4, 20, 32)  # (N, T,  *)\n",
        "dec_inp_tensor     = torch.randn(4, 10)       # (N, T', *)\n",
        "enc_inp_lengths    = torch.tensor([13, 6, 9, 12])   # Lengths of input sequences before padding\n",
        "dec_inp_lengths    = torch.tensor([8, 3, 1, 6])   # Lengths of target sequences before padding\n",
        "\n",
        "\n",
        "enc_padding_mask        = PadMask(padded_input=enc_inp_tensor, input_lengths=enc_inp_lengths)\n",
        "dec_padding_mask        = PadMask(padded_input=dec_inp_tensor, input_lengths=dec_inp_lengths)\n",
        "dec_causal_mask         = CausalMask(input_tensor=dec_inp_tensor)\n",
        "\n",
        "# Black portions are attended to\n",
        "fig, axs = plt.subplots(1, 3, figsize=(20, 5))\n",
        "axs[0].imshow(enc_padding_mask, cmap=\"gray\", aspect='auto')\n",
        "axs[0].set_title(\"Encoder Padding Mask\")\n",
        "axs[1].imshow(dec_padding_mask, cmap=\"gray\", aspect='auto')\n",
        "axs[1].set_title(\"Decoder Padding Mask\")\n",
        "axs[2].imshow(dec_causal_mask, cmap=\"gray\", aspect='auto')\n",
        "axs[2].set_title(\"Decoder Causal Self-Attn Mask\")\n",
        "\n",
        "\n",
        "plt.show()\n"
      ]
    },
    {
      "cell_type": "markdown",
      "metadata": {
        "id": "RCwIlOrXvxGO"
      },
      "source": [
        "## Transformer Modules"
      ]
    },
    {
      "cell_type": "markdown",
      "metadata": {
        "id": "4Lt4-VJerMY3"
      },
      "source": [
        "### Positional Encoding in Transformers\n",
        "\n",
        "Positional encoding is a technique introduced in the \"Attention Is All You Need\" paper to allow transformers to retain information about the order of input tokens, as transformers lack inherent sequential understanding due to their non-recurrent architecture. \\\n",
        "\n",
        "The `PositionalEncoding` class defines the positional encoding layer, which generates fixed positional encodings that are added to the input embeddings to incorporate sequence order information.\n",
        "\n",
        "\n"
      ]
    },
    {
      "cell_type": "code",
      "execution_count": null,
      "metadata": {
        "id": "t9ZZx1j732XT"
      },
      "outputs": [],
      "source": [
        "class PositionalEncoding(torch.nn.Module):\n",
        "    ''' Position Encoding from Attention Is All You Need Paper '''\n",
        "\n",
        "    def __init__(self, d_model, max_len=512):\n",
        "        super().__init__()\n",
        "\n",
        "        # Initialize a tensor to hold the positional encodings\n",
        "        pe          = torch.zeros(max_len, d_model)\n",
        "\n",
        "        # Create a tensor representing the positions (0 to max_len-1)\n",
        "        position    = torch.arange(0, max_len, dtype=torch.float).unsqueeze(1)\n",
        "\n",
        "        # Calculate the division term for the sine and cosine functions\n",
        "        # This term creates a series of values that decrease geometrically, used to generate varying frequencies for positional encodings\n",
        "        div_term    = torch.exp(torch.arange(0, d_model, 2).float() * (-math.log(10000.0) / d_model))\n",
        "\n",
        "        # Compute the positional encodings using sine and cosine functions\n",
        "        pe[:, 0::2] = torch.sin(position * div_term)\n",
        "        pe[:, 1::2] = torch.cos(position * div_term)\n",
        "\n",
        "        # Reshape the positional encodings tensor and make it a buffer\n",
        "        pe = pe.unsqueeze(0)\n",
        "        self.register_buffer(\"pe\", pe)\n",
        "\n",
        "    def forward(self, x):\n",
        "      return x + self.pe[:, :x.size(1)]"
      ]
    },
    {
      "cell_type": "markdown",
      "metadata": {
        "id": "LPmGeZFM435l"
      },
      "source": [
        "### Speech Embedding Architecture (Conv2D Subsampling + BiLSTM)\n",
        "\n",
        "This implements a speech embedding module that uses Conv2D-based subsampling followed by a BiLSTM (Bidirectional Long Short-Term Memory) layer to process speech signals. The approach integrates downsampling to make training more efficient and tractable, particularly when dealing with long sequence lengths. You will have to manage the tradeoff between training tractability and model performance by tweaking the amount of feature-wise and time-wise downsampling (`time_stride` and `feature_stride` parameters in the `config`.\n",
        "\n",
        "### Key Components\n",
        "\n",
        "1. **BiLSTMEmbedding (2-Layer BiLSTM)**:\n",
        "   - This module applies a BiLSTM to the input tensor, enabling the model to learn bidirectional temporal dependencies.\n",
        "   - NOTE: This is only used during the 2nd training strategy and is bypassed during full training to fully leverage the the superior parallelization abilitiesand the ability to capture long-range dependencies through self-attention of the Transformer Encoder.\n",
        "   \n",
        "\n",
        "2. **Conv2DSubsampling**:\n",
        "   - This module performs downsampling in both the time and feature dimensions of the input using 2D convolutions. This reduces the dimensionality of the input while retaining relevant features.\n",
        "   - The use of convolution for subsampling helps in reducing the sequence length and feature size progressively, making the model more computationally efficient.\n",
        "   - The downsampling process is implemented with two consecutive `Conv2d` layers, followed by ReLU activations.\n",
        "\n",
        "3. **SpeechEmbedding**:\n",
        "   - This combines the `Conv2DSubsampling` and `BiLSTMEmbedding` modules. The input is first downsampled using the `Conv2DSubsampling`, and then passed through the BiLSTM if specified (`use_blstm=True`).\n",
        "   - **Time Stride & Feature Stride**: These parameters define how much the time and feature dimensions will be downsampled in the Conv2D layer, making the computation more efficient for longer sequences."
      ]
    },
    {
      "cell_type": "code",
      "execution_count": null,
      "metadata": {
        "id": "yI7mtbsz4ScM"
      },
      "outputs": [],
      "source": [
        "# 2-Layer BiLSTM\n",
        "class BiLSTMEmbedding(nn.Module):\n",
        "    def __init__(self, input_dim, output_dim, dropout):\n",
        "        super(BiLSTMEmbedding, self).__init__()\n",
        "        self.bilstm = nn.LSTM(\n",
        "                input_dim, output_dim // 2,\n",
        "                num_layers=1,\n",
        "                batch_first=True,\n",
        "                bidirectional=True,\n",
        "                dropout=dropout\n",
        "        )\n",
        "\n",
        "    def forward(self, x,  x_len):\n",
        "        \"\"\"\n",
        "        Args:\n",
        "            x.    : Input tensor (batch_size, seq_len, input_dim)\n",
        "            x_len : Non-padded lengths (batch_size)\n",
        "        Returns:\n",
        "            Output tensor (batch_size, seq_len, output_dim)\n",
        "        \"\"\"\n",
        "        # BiLSTM expects (batch_size, seq_len, input_dim)\n",
        "        # Pack the padded sequence to avoid computing over padded tokens\n",
        "        packed_input = pack_padded_sequence(x, x_len.cpu(), batch_first=True, enforce_sorted=False)\n",
        "        # Pass through the BiLSTM\n",
        "        packed_output, _ = self.bilstm(packed_input)\n",
        "        # Unpack the sequence to restore the original padded shape\n",
        "        output, _ = pad_packed_sequence(packed_output, batch_first=True)\n",
        "        return output\n",
        "\n",
        "### DO NOT MODIFY\n",
        "\n",
        "class Conv2DSubsampling(torch.nn.Module):\n",
        "    def __init__(self, input_dim, output_dim, dropout=0.0, time_stride=2, feature_stride=2):\n",
        "        \"\"\"\n",
        "        Conv2dSubsampling module that can selectively apply downsampling\n",
        "        for time and feature dimensions, and calculate cumulative downsampling factor.\n",
        "        Args:\n",
        "            time_stride (int): Stride along the time dimension for downsampling.\n",
        "            feature_stride (int): Stride along the feature dimension for downsampling.\n",
        "        \"\"\"\n",
        "        super(Conv2DSubsampling, self).__init__()\n",
        "\n",
        "        # decompose to get effective stride across two layers\n",
        "        tstride1, tstride2 = self.closest_factors(time_stride)\n",
        "        fstride1, fstride2 = self.closest_factors(feature_stride)\n",
        "\n",
        "        self.feature_stride = feature_stride\n",
        "        self.conv = torch.nn.Sequential(\n",
        "            torch.nn.Conv2d(1, output_dim, kernel_size=3, stride=(tstride1, fstride1)),\n",
        "            torch.nn.ReLU(),\n",
        "            torch.nn.Conv2d(output_dim, output_dim, kernel_size=3, stride=(tstride2, fstride2)),\n",
        "            torch.nn.ReLU(),\n",
        "        )\n",
        "        self.time_downsampling_factor = tstride1 * tstride2\n",
        "        # Calculate output dimension for the linear layer\n",
        "        conv_out_dim = (input_dim - (3 - 1) - 1) // fstride1 + 1\n",
        "        conv_out_dim = (conv_out_dim - (3 - 1) - 1) // fstride2 + 1\n",
        "        conv_out_dim = output_dim * conv_out_dim\n",
        "        self.out = torch.nn.Sequential(\n",
        "            torch.nn.Linear(conv_out_dim, output_dim),\n",
        "            torch.nn.Dropout(dropout)\n",
        "        )\n",
        "\n",
        "    def forward(self, x):\n",
        "        \"\"\"\n",
        "        Args:\n",
        "            x (torch.Tensor): Input tensor of shape (batch_size, seq_len, input_dim).\n",
        "            x_mask (torch.Tensor): Optional mask for the input tensor.\n",
        "\n",
        "        Returns:\n",
        "            torch.Tensor: Downsampled output of shape (batch_size, new_seq_len, output_dim).\n",
        "        \"\"\"\n",
        "        x = x.unsqueeze(1)  # Add a channel dimension for Conv2D\n",
        "        x = self.conv(x)\n",
        "        b, c, t, f = x.size()\n",
        "        x = self.out(x.transpose(1, 2).contiguous().view(b, t, c * f))\n",
        "        return x\n",
        "\n",
        "    def closest_factors(self, n):\n",
        "        factor = int(n**0.5)\n",
        "        while n % factor != 0:\n",
        "            factor -= 1\n",
        "        # Return the factor pair\n",
        "        return max(factor, n // factor), min(factor, n // factor)\n",
        "\n",
        "\n",
        "\n",
        "class SpeechEmbedding(nn.Module):\n",
        "    def __init__(self, input_dim, output_dim, time_stride, feature_stride, dropout):\n",
        "        super(SpeechEmbedding, self).__init__()\n",
        "\n",
        "        self.cnn = Conv2DSubsampling(input_dim, output_dim, dropout=dropout, time_stride=time_stride, feature_stride=feature_stride)\n",
        "        self.blstm = BiLSTMEmbedding(output_dim, output_dim, dropout)\n",
        "        self.time_downsampling_factor = self.cnn.time_downsampling_factor\n",
        "\n",
        "    def forward(self, x, x_len, use_blstm: bool = False):\n",
        "        \"\"\"\n",
        "        Args:\n",
        "            x    : Input tensor (batch_size, seq_len, input_dim)\n",
        "            x_len : Non-padded lengths (batch_size)\n",
        "        Returns:\n",
        "            Output tensor (batch_size, seq_len // stride, output_dim)\n",
        "        \"\"\"\n",
        "        # First, apply Conv2D subsampling\n",
        "        x = self.cnn(x)\n",
        "        # Adjust sequence length based on downsampling factor\n",
        "        x_len = torch.ceil(x_len.float() / self.time_downsampling_factor).int()\n",
        "        x_len = x_len.clamp(max=x.size(1))\n",
        "\n",
        "        # Apply BiLSTM if requested\n",
        "        if use_blstm:\n",
        "            x = self.blstm(x, x_len)\n",
        "\n",
        "        return x, x_len\n"
      ]
    },
    {
      "cell_type": "markdown",
      "metadata": {
        "id": "nUCBNlKG6Ja0"
      },
      "source": [
        "## Transformer Encoder (TODO)\n",
        "\n",
        "- **Input:** $B \\times T \\times d_{\\text{model}}$\n",
        "- **Output:** $B \\times T \\times d_{\\text{model}}$\n",
        "\n",
        "Here you will implement a Transformer encoder. The transformer encoder is central to a speech transformer model, enabling the processing and understanding of spoken language. Below is a breakdown of its key roles:\n",
        "\n",
        "### Purpose of the Encoder:\n",
        "\n",
        "#### **Feature Extraction:**\n",
        "The encoder transforms raw speech input into a rich, high-dimensional representation. This allows it to capture essential features of the speech signal, including phonetic content, intonation, rhythm, and other acoustic properties.\n",
        "\n",
        "#### **Contextual Understanding:**\n",
        "By leveraging self-attention mechanisms, the encoder considers the broader context in which words are spoken. This allows it to grasp the meaning and relationships between words, improving the model's ability to understand complex linguistic structures and nuances.\n",
        "\n",
        "#### **Dimensionality Reduction:**\n",
        "The encoder converts the high-dimensional speech signal into a more manageable lower-dimensional space. This reduces the computational complexity for subsequent processing steps while preserving essential information for accurate interpretation and modeling.\n",
        "\n",
        "![image.png](data:image/png;base64,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)"
      ]
    },
    {
      "cell_type": "markdown",
      "metadata": {
        "id": "GG-sMPvW6d1r"
      },
      "source": [
        "### Encoder Layer\n",
        "\n",
        "The `EncoderLayer` class defines a single layer of the transformer encoder, which includes multi-head self-attention followed by a feed-forward network (FFN).\n",
        "\n",
        "### Key Components:\n",
        "\n",
        "- **Layer Normalization (`pre_norm` and `norm1`, `norm2`):**\n",
        "  Layer normalization is applied to the inputs before self-attention and feed-forward networks, helping to stabilize training and normalize the feature dimensions.\n",
        "\n",
        "- **Multi-Head Self-Attention (`self_attn`):**\n",
        "  This mechanism allows the model to focus on different parts of the input sequence when processing each token. The self-attention process uses multiple attention heads, improving the model’s ability to capture diverse relationships across the sequence.\n",
        "\n",
        "- **Feed-Forward Network (`ffn1`):**\n",
        "  This should contain two fully connected layers with a GELU activation in between. It processes the output from the self-attention layer to model more complex interactions. Dropout is applied for regularization.\n",
        "\n",
        "- **Residual Connections:**\n",
        "  Both the self-attention and feed-forward components include residual connections that help prevent vanishing gradients and facilitate the flow of information through the network.\n",
        "\n",
        "- **Dropout (`dropout`):**\n",
        "  Dropout is applied to prevent overfitting by randomly setting a fraction of input units to zero during training.\n",
        "\n",
        "---\n",
        "\n",
        "### Encoder\n",
        "\n",
        "The `Encoder` class is the complete transformer encoder that consists of multiple `EncoderLayer`s stacked on top of each other. It incorporates positional encoding, dropout for regularization, and a final layer normalization.\n",
        "\n",
        "### Key Components:\n",
        "\n",
        "- **Positional Encoding (`pos_encoding`):**  \n",
        "  Since transformers do not have a built-in mechanism to account for the order of tokens in a sequence, positional encodings are added to the input embeddings to provide the model with information about the relative positions of tokens.\n",
        "\n",
        "- **Encoder Layers (`enc_layers`):**  \n",
        "  The encoder consists of multiple layers of the `EncoderLayer` defined earlier. Each layer processes the input sequence and refines its understanding of the relationships between tokens.\n",
        "\n",
        "- **CTC Head (`ctc_head`):**  \n",
        "  After passing through the encoder layers, the output is also branched through a linear layer (CTC head) where the encoder outputs are projected to vocab_size. This is to give you the option of experimenting with a CTC objective function as an auxiliary task to train the attention model encoder. The intuition is that the forward-backward algorithm of CTC can enforce monotonic alignment between speech and label sequences which can help the network learn quickly the desired alignments in long sequences.\n",
        "\n",
        "- **Final Layer Normalization (`after_norm`):**  \n",
        "  The output of the encoder is normalized before passing it to the next stage in the model.\n"
      ]
    },
    {
      "cell_type": "code",
      "execution_count": null,
      "metadata": {
        "id": "eoD9A-ws6x86"
      },
      "outputs": [],
      "source": [
        "class EncoderLayer(nn.Module):\n",
        "\n",
        "    def __init__(self, d_model, num_heads, d_ff, dropout):\n",
        "\n",
        "        super(EncoderLayer, self).__init__()\n",
        "\n",
        "        self.pre_norm = torch.nn.LayerNorm(d_model)\n",
        "        self.self_attn = torch.nn.MultiheadAttention(d_model, num_heads, dropout=dropout, batch_first=True)\n",
        "        self.ffn1 = torch.nn.Sequential(\n",
        "            torch.nn.Linear(d_model, d_ff),\n",
        "            torch.nn.GELU(),\n",
        "            torch.nn.Dropout(dropout),\n",
        "            torch.nn.Linear(d_ff, d_model)\n",
        "        ) # Hint: Linear layer - GELU - dropout - Linear layer\n",
        "\n",
        "        self.dropout = torch.nn.Dropout(dropout)\n",
        "        self.norm1 = torch.nn.LayerNorm(d_model)\n",
        "        self.norm2 = torch.nn.LayerNorm(d_model)\n",
        "\n",
        "    def forward(self, x, pad_mask):\n",
        "        # Step 1: Apply pre-normalization\n",
        "        ''' TODO '''\n",
        "        x = self.pre_norm(x)\n",
        "\n",
        "        # Step 2: Self-attention with with dropout, and with residual connection\n",
        "        ''' TODO '''\n",
        "        attn_output, _ = self.self_attn(x, x, x, key_padding_mask=pad_mask)\n",
        "        x = x + self.dropout(attn_output)\n",
        "\n",
        "        # Step 3: Apply normalization\n",
        "        ''' TODO '''\n",
        "        x = self.norm1(x)\n",
        "\n",
        "        # Step 4: Apply Feed-Forward Network (FFN) with dropout, and residual connection\n",
        "        ''' TODO '''\n",
        "        ffn_output = self.ffn1(x)\n",
        "        x = x + self.dropout(ffn_output)\n",
        "\n",
        "        # Step 5: Apply normalization after FFN\n",
        "        ''' TODO '''\n",
        "        x = self.norm2(x)\n",
        "\n",
        "        return x, pad_mask\n",
        "\n",
        "\n",
        "\n",
        "class Encoder(nn.Module):\n",
        "    def __init__(self,\n",
        "                 num_layers,\n",
        "                 d_model,\n",
        "                 num_heads,\n",
        "                 d_ff,\n",
        "                 max_len,\n",
        "                 target_vocab_size,\n",
        "                 dropout=0.1):\n",
        "\n",
        "        super(Encoder, self).__init__()\n",
        "\n",
        "        self.pos_encoding = PositionalEncoding(d_model, max_len)\n",
        "        self.dropout =  torch.nn.Dropout(dropout)\n",
        "        self.enc_layers =  torch.nn.ModuleList([\n",
        "            EncoderLayer(d_model, num_heads, d_ff, dropout).to(device) for _ in range(num_layers)\n",
        "        ])\n",
        "        self.after_norm =  torch.nn.LayerNorm(d_model)\n",
        "        self.ctc_head   =  torch.nn.Linear(d_model, target_vocab_size)\n",
        "\n",
        "    def forward(self, x, x_len):\n",
        "\n",
        "        # Step 1: Create padding mask for inputs\n",
        "        ''' TODO '''\n",
        "        pad_mask = PadMask(x, x_len).to(device)\n",
        "\n",
        "        # Step 2: Apply positional encoding\n",
        "        ''' TODO '''\n",
        "        x = self.pos_encoding(x)\n",
        "\n",
        "        # Step 3: Apply dropout\n",
        "        ''' TODO '''\n",
        "        x = self.dropout(x)\n",
        "\n",
        "        # Step 4: Add the residual connection (before passing through layers)\n",
        "        ''' TODO '''\n",
        "\n",
        "        # Step 5: Pass through all encoder layers\n",
        "        ''' TODO '''\n",
        "        for layer in self.enc_layers:\n",
        "          x, pad_mask = layer(x, pad_mask)\n",
        "\n",
        "        # Step 6: Apply final normalization\n",
        "        ''' TODO '''\n",
        "        x = self.after_norm(x)\n",
        "\n",
        "        # Step 7: Pass a branch through the CTC head\n",
        "        ''' TODO '''\n",
        "        x_ctc = self.ctc_head(x)\n",
        "\n",
        "        return x, x_len, x_ctc.log_softmax(2).permute(1, 0, 2)"
      ]
    },
    {
      "cell_type": "markdown",
      "metadata": {
        "id": "nzKhAA8v6X8u"
      },
      "source": [
        "## Transformer Decoder (TODO)\n",
        "\n",
        "- **Input**:  $B \\times T \\times d_{\\text{model}}$  \n",
        "- **Output**: $B \\times T \\times \\text{vocab-size}$\n",
        "\n",
        "### Purpose of the Decoder:\n",
        "- **Decoding Contextual Representation**:  \n",
        "  The transformer decoder takes the high-dimensional, context-aware representations produced by the encoder and decodes them into a meaningful sequence. In speech-to-text tasks, for example, it transforms the encoded speech features into text transcriptions, effectively mapping the learned context to human-readable output.\n",
        "\n",
        "- **Autoregressive Output Generation**:  \n",
        "  The decoder generates the output sequence step-by-step in an autoregressive manner. At each step, it predicts the next token in the sequence based on the current input (from the encoder) and the previously generated tokens from the decoder. This approach ensures that the generation process takes into account both past context and the current token to generate coherent sequences.\n",
        "\n",
        "\n",
        "![image.png](data:image/png;base64,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)"
      ]
    },
    {
      "cell_type": "markdown",
      "metadata": {
        "id": "QXInmQAxLvX-"
      },
      "source": [
        "### Decoder Layer\n",
        "\n",
        "The `DecoderLayer` class defines a single layer of the transformer decoder, which includes multi-head self-attention, cross-attention (encoder-decoder attention), followed by a feed-forward network (FFN).\n",
        "\n",
        "#### Key Components:\n",
        "\n",
        "- **Layer Normalization (`pre_norm` and `norm1`, `norm2`, `norm3`):**  \n",
        "  Layer normalization is applied to the inputs before self-attention, cross-attention, and the feed-forward network. This helps stabilize the learning process and normalize feature dimensions at various stages of the decoder.\n",
        "\n",
        "- **Masked Multi-Head Self-Attention (`self_attn`):**  \n",
        "  This attention mechanism operates over the decoder's input sequence, masking future tokens to prevent attending to them. It ensures the autoregressive nature of the decoder, where each token only attends to previous tokens (and not future tokens). Multiple heads improve the model's ability to capture diverse relationships within the sequence.\n",
        "\n",
        "- **Cross-Attention (Encoder-Decoder Attention, `cross_attn`):**  \n",
        "  The cross-attention layer attends to the encoder's output, which contains the context from the input sequence. It allows the decoder to focus on relevant parts of the encoder's output sequence when generating predictions, connecting the encoder and decoder. This will switch to the identity operation during LM-pretraining so make sure you handle that when the encoder outputs are `None`\n",
        "\n",
        "- **Feed-Forward Network (`ffn1`):**  \n",
        "  Similar to the encoder, the feed-forward network contains two fully connected layers with a GELU activation in between. This network processes the combined information from the attention mechanisms to model complex interactions. Dropout is applied for regularization.\n",
        "\n",
        "- **Residual Connections:**  \n",
        "  Each component (self-attention, cross-attention, and feed-forward network) has a residual connection to facilitate gradient flow, making training more stable and mitigating vanishing gradients.\n",
        "\n",
        "- **Dropout (`dropout`):**  \n",
        "  Dropout is applied to prevent overfitting by randomly setting a fraction of the input units to zero during training.\n",
        "\n",
        "---\n",
        "\n",
        "### Decoder\n",
        "\n",
        "The `Decoder` class is the complete transformer decoder that consists of multiple `DecoderLayer`s stacked on top of each other. It incorporates positional encoding, dropout for regularization, and a final layer normalization.\n",
        "\n",
        "#### Key Components:\n",
        "\n",
        "- **Positional Encoding (`pos_encoding`):**  \n",
        "  Like the encoder, positional encodings are added to the input embeddings to provide information about the order of tokens in the sequence. This ensures that the decoder understands the relative positions of tokens when generating the output sequence.\n",
        "\n",
        "- **Decoder Layers (`dec_layers`):**  \n",
        "  The decoder consists of multiple layers of `DecoderLayer`s, each refining the model's understanding of token dependencies and context over multiple iterations. Each layer combines self-attention and cross-attention to generate more accurate token predictions.\n",
        "\n",
        "- **Final Linear Layer (`output_linear`):**  \n",
        "  After processing the input sequence through the decoder layers, a final linear layer is used to map the decoder output to the desired vocabulary size. This helps generate the final predictions, whether for sequence generation tasks (e.g., machine translation, speech generation) or classification.\n",
        "\n",
        "- **Final Layer Normalization (`after_norm`):**  \n",
        "  The output of the decoder is normalized before passing it to the next stage in the model, ensuring that the final predictions are stable and ready for downstream tasks.\n"
      ]
    },
    {
      "cell_type": "code",
      "execution_count": null,
      "metadata": {
        "id": "Ss9ZwYyD6Zg_"
      },
      "outputs": [],
      "source": [
        "class DecoderLayer(nn.Module):\n",
        "    def __init__(self, d_model, num_heads, d_ff, dropout=0.1):\n",
        "        super().__init__()\n",
        "\n",
        "        # @TODO: fill in the blanks appropriately (given the modules above)\n",
        "        self.mha1       = torch.nn.MultiheadAttention(d_model, num_heads, dropout, batch_first=True)\n",
        "        self.mha2       = torch.nn.MultiheadAttention(d_model, num_heads, dropout, batch_first=True)\n",
        "        self.ffn        = torch.nn.Sequential(\n",
        "            torch.nn.Linear(d_model, d_ff),\n",
        "            torch.nn.GELU(),\n",
        "            torch.nn.Dropout(dropout),\n",
        "            torch.nn.Linear(d_ff, d_model)\n",
        "        )\n",
        "        self.identity   = torch.nn.Identity()\n",
        "        self.pre_norm   = torch.nn.LayerNorm(d_model)\n",
        "        self.layernorm1 = torch.nn.LayerNorm(d_model)\n",
        "        self.layernorm2 = torch.nn.LayerNorm(d_model)\n",
        "        self.layernorm3 = torch.nn.LayerNorm(d_model)\n",
        "        self.dropout1   = torch.nn.Dropout(dropout)\n",
        "        self.dropout2   = torch.nn.Dropout(dropout)\n",
        "        self.dropout3   = torch.nn.Dropout(dropout)\n",
        "\n",
        "    def forward(self, padded_targets, enc_output, pad_mask_enc, pad_mask_dec, slf_attn_mask):\n",
        "\n",
        "        #   Step 1: Self Attention\n",
        "        #   (1) pass through the Multi-Head Attention (Hint: you need to store weights here as part of the return value)\n",
        "        #   (2) add dropout\n",
        "        #   (3) residual connections\n",
        "        #   (4) layer normalization\n",
        "        x = self.pre_norm(padded_targets)\n",
        "\n",
        "        ''' TODO '''\n",
        "        mha1_output, mha1_attn_weights = self.mha1(\n",
        "            query = x,\n",
        "            key = x,\n",
        "            value = x,\n",
        "            attn_mask = slf_attn_mask,\n",
        "            key_padding_mask = pad_mask_dec\n",
        "        )\n",
        "\n",
        "        x = x + self.dropout1(mha1_output)\n",
        "        x = self.layernorm1(x)\n",
        "\n",
        "\n",
        "        #   Step 2: Cross Attention\n",
        "        #   (1) pass through the Multi-Head Attention (Hint: you need to store weights here as part of the return value)\n",
        "              #  think about if key,value,query here are the same as the previous one?\n",
        "        #   (2) add dropout\n",
        "        #   (3) residual connections\n",
        "        #   (4) layer normalization\n",
        "\n",
        "        if enc_output is None:\n",
        "            mha2_output       = self.identity(padded_targets)\n",
        "            mha2_attn_weights = torch.zeros_like(mha1_attn_weights)\n",
        "        else:\n",
        "            ''' TODO '''\n",
        "            mha2_output, mha2_attn_weights = self.mha2(\n",
        "                query = x,\n",
        "                key = enc_output,\n",
        "                value = enc_output,\n",
        "                key_padding_mask=pad_mask_enc\n",
        "            )\n",
        "            x = x + self.dropout2(mha2_output)\n",
        "            x = self.layernorm2(x)\n",
        "\n",
        "        #   Step 3: Feed Forward Network\n",
        "        #   (1) pass through the FFN\n",
        "        #   (2) add dropout\n",
        "        #   (3) residual connections\n",
        "        #   (4) layer normalization\n",
        "        ''' TODO '''\n",
        "        ffn_output = self.ffn(x)\n",
        "        ffn_output = x + self.dropout3(ffn_output)\n",
        "        ffn_output = self.layernorm3(ffn_output)\n",
        "\n",
        "\n",
        "        return ffn_output, mha1_attn_weights, mha2_attn_weights\n",
        "\n",
        "\n",
        "\n",
        "class Decoder(torch.nn.Module):\n",
        "    def __init__(self,\n",
        "                 num_layers,\n",
        "                 d_model,\n",
        "                 num_heads,\n",
        "                 d_ff, dropout,\n",
        "                 max_len,\n",
        "                 target_vocab_size):\n",
        "\n",
        "        super().__init__()\n",
        "\n",
        "        self.max_len        = max_len\n",
        "        self.num_layers     = num_layers\n",
        "        self.num_heads      = num_heads\n",
        "\n",
        "        # use torch.nn.ModuleList() with list comprehension looping through num_layers\n",
        "        # @NOTE: think about what stays constant per each DecoderLayer (how to call DecoderLayer)\n",
        "        self.dec_layers = torch.nn.ModuleList([DecoderLayer(d_model, num_heads, d_ff, dropout).to(device) for _ in range(self.num_layers)])\n",
        "\n",
        "        self.target_embedding       = torch.nn.Embedding(target_vocab_size, d_model)  # use torch.nn.Embedding\n",
        "        self.positional_encoding    = PositionalEncoding(d_model, max_len)\n",
        "        self.final_linear           = torch.nn.Linear(d_model, target_vocab_size)\n",
        "        self.dropout                = torch.nn.Dropout(dropout)\n",
        "\n",
        "\n",
        "    def forward(self, padded_targets, target_lengths, enc_output, enc_input_lengths):\n",
        "\n",
        "        # Processing targets\n",
        "        # create a padding mask for the padded_targets with <PAD_TOKEN>\n",
        "        # creating an attention mask for the future subsequences (look-ahead mask)\n",
        "        # computing embeddings for the target sequence\n",
        "        # computing Positional Encodings with the embedded targets and apply dropout\n",
        "\n",
        "        pad_mask_dec = None\n",
        "        if target_lengths is not None:\n",
        "            pad_mask_dec = PadMask(padded_input=padded_targets, input_lengths=target_lengths).to(padded_targets.device)\n",
        "        causal_mask = CausalMask(input_tensor=padded_targets).to(padded_targets.device)\n",
        "\n",
        "        # Step1:  Apply the embedding\n",
        "        ''' TODO '''\n",
        "        x = self.target_embedding(padded_targets)\n",
        "\n",
        "\n",
        "        # Step2:  Apply positional encoding\n",
        "        ''' TODO '''\n",
        "        x = self.positional_encoding(x)\n",
        "\n",
        "\n",
        "        # Step3:  Create attention mask to ignore padding positions in the input sequence during attention calculation\n",
        "        ''' TODO '''\n",
        "        pad_mask_enc = None\n",
        "        if enc_output is not None:\n",
        "            pad_mask_enc  = PadMask(padded_input=enc_output, input_lengths=enc_input_lengths).to(enc_output.device)\n",
        "\n",
        "\n",
        "        # Step4: Pass through decoder layers\n",
        "        # @NOTE: store your mha1 and mha2 attention weights inside a dictionary\n",
        "        # @NOTE: you will want to retrieve these later so store them with a useful name\n",
        "        ''' TODO '''\n",
        "        runnint_att = {}\n",
        "        for i in range(self.num_layers):\n",
        "            x, runnint_att['layer{}_dec_self'.format(i + 1)], runnint_att['layer{}_dec_cross'.format(i + 1)] = self.dec_layers[i](\n",
        "                padded_targets=x,\n",
        "                enc_output=enc_output,\n",
        "                pad_mask_enc=pad_mask_enc,\n",
        "                pad_mask_dec=pad_mask_dec,\n",
        "                slf_attn_mask=causal_mask\n",
        "            )\n",
        "\n",
        "\n",
        "        # Step5: linear layer (Final Projection) for next character prediction\n",
        "        ''' TODO '''\n",
        "        seq_out = self.final_linear(x)\n",
        "\n",
        "        return seq_out, runnint_att\n",
        "\n",
        "\n",
        "    def recognize_greedy_search(self, enc_output, enc_input_lengths, tokenizer):\n",
        "        ''' passes the encoder outputs and its corresponding lengths through autoregressive network\n",
        "            @NOTE: You do not need to make changes to this method.\n",
        "        '''\n",
        "        # start with the <SOS> token for each sequence in the batch\n",
        "        batch_size = enc_output.size(0)\n",
        "        target_seq = torch.full((batch_size, 1), tokenizer.SOS_TOKEN, dtype=torch.long).to(enc_output.device)\n",
        "        finished = torch.zeros(batch_size, dtype=torch.bool).to(enc_output.device)\n",
        "\n",
        "        for _ in range(self.max_len):\n",
        "\n",
        "            seq_out, runnint_att = self.forward(target_seq, None, enc_output, enc_input_lengths)\n",
        "            logits = torch.nn.functional.log_softmax(seq_out[:, -1], dim=1)\n",
        "\n",
        "            # selecting the token with the highest probability\n",
        "            # @NOTE: this is the autoregressive nature of the network!\n",
        "            # appending the token to the sequence\n",
        "            # checking if <EOS> token is generated\n",
        "            # or opration, if both or one of them is true store the value of the finished sequence in finished variable\n",
        "            # end if all sequences have generated the EOS token\n",
        "            next_token = logits.argmax(dim=-1).unsqueeze(1)\n",
        "            target_seq = torch.cat([target_seq, next_token], dim=-1)\n",
        "            eos_mask = next_token.squeeze(-1) == tokenizer.EOS_TOKEN\n",
        "            finished |= eos_mask\n",
        "            if finished.all(): break\n",
        "\n",
        "        # remove the initial <SOS> token and pad sequences to the same length\n",
        "        target_seq = target_seq[:, 1:]\n",
        "        max_length = target_seq.size(1)\n",
        "        target_seq = torch.nn.functional.pad(target_seq,\n",
        "            (0, self.max_len - max_length), value=tokenizer.PAD_TOKEN)\n",
        "\n",
        "        return target_seq\n",
        "\n",
        "    def recognize_beam_search(self, enc_output, enc_input_lengths, tokenizer, beam_width=5):\n",
        "      # TODO Beam Decoding\n",
        "\n",
        "      batch_size = enc_output.size(0)\n",
        "      device = enc_output.device\n",
        "\n",
        "      beams = [\n",
        "        [(torch.tensor([tokenizer.SOS_TOKEN], device=device, dtype=torch.long), 0.0)]\n",
        "        for _ in range(batch_size)\n",
        "      ]\n",
        "\n",
        "      completed_sequences = [[] for _ in range(batch_size)]\n",
        "\n",
        "      for _ in range(self.max_len):\n",
        "\n",
        "        all_candidates = [[] for _ in range(batch_size)]\n",
        "\n",
        "        for i in range(batch_size):\n",
        "            if len(completed_sequences[i]) >= beam_width:\n",
        "                continue\n",
        "\n",
        "\n",
        "            for seq, score in beams[i]:\n",
        "                if seq[-1] == tokenizer.EOS_TOKEN:\n",
        "                    completed_sequences[i].append((seq, score))\n",
        "                    continue\n",
        "\n",
        "                seq_out, _ = self.forward(seq.unsqueeze(0), None, enc_output[i].unsqueeze(0), enc_input_lengths[i].unsqueeze(0))\n",
        "                logits = torch.nn.functional.log_softmax(seq_out[:, -1], dim=1).squeeze(0)\n",
        "\n",
        "                topk_probs, topk_tokens = logits.topk(beam_width)\n",
        "\n",
        "                for k in range(beam_width):\n",
        "                    new_seq = torch.cat([seq, topk_tokens[k].unsqueeze(0)])\n",
        "                    new_score = score + topk_probs[k].item()\n",
        "                    all_candidates[i].append((new_seq, new_score))\n",
        "\n",
        "        for i in range(batch_size):\n",
        "            if len(completed_sequences[i]) < beam_width:\n",
        "                beams[i] = sorted(all_candidates[i], key=lambda x: x[1], reverse=True)[:beam_width]\n",
        "            else:\n",
        "                beams[i] = []\n",
        "\n",
        "\n",
        "      final_sequences = []\n",
        "      for i in range(batch_size):\n",
        "\n",
        "        if completed_sequences[i]:\n",
        "\n",
        "            final_sequences.append(\n",
        "                sorted(completed_sequences[i], key=lambda x: x[1], reverse=True)[0][0]\n",
        "            )\n",
        "        else:\n",
        "            final_sequences.append(\n",
        "                sorted(beams[i], key=lambda x: x[1], reverse=True)[0][0]\n",
        "            )\n",
        "\n",
        "      final_sequences = [seq[1:] for seq in final_sequences]\n",
        "      padded_sequences = torch.full((batch_size, self.max_length), tokenizer.PAD_TOKEN, dtype=torch.long, device=device)\n",
        "      for i, seq in enumerate(final_sequences):\n",
        "          padded_sequences[i, :seq.size(0)] = seq\n",
        "\n",
        "      return padded_sequences\n",
        "\n"
      ]
    },
    {
      "cell_type": "markdown",
      "metadata": {
        "id": "uO3L8z6bL3w2"
      },
      "source": [
        "## Transformer Model (TODO)\n",
        "\n",
        "The `Transformer` class defines a complete transformer-based model for sequence-to-sequence tasks. This model is designed to process speech inputs and generate corresponding output sequences, such as transcriptions or translations, using both encoder and decoder components.\n",
        "\n",
        "#### Key Components:\n",
        "\n",
        "- **Speech Embedding (`embedding`):**  \n",
        "  The `SpeechEmbedding` class is responsible for embedding the raw speech features into a dense representation suitable for processing by the transformer model. This involves time and feature strides for downsampling, and an optional dropout for regularization. The `embedding` layer also accounts for the maximum length of the input sequence after downsampling.\n",
        "\n",
        "- **Encoder (`encoder`):**  \n",
        "  The encoder processes the embedded speech input sequence. It consists of several layers of multi-head self-attention followed by feed-forward networks. The encoder is designed to capture long-range dependencies in the input sequence. It includes:\n",
        "    - **Positional Encoding:** To encode the relative position of tokens.\n",
        "    - **Self-Attention and Feed-Forward Networks:** To model relationships within the input sequence.\n",
        "    - **CTC Head:** Optionally used to train the encoder with the CTC (Connectionist Temporal Classification) objective, helping the model learn alignments between input and target sequences.\n",
        "\n",
        "- **Decoder (`decoder`):**  \n",
        "  The decoder generates the output sequence from the encoder's processed input. It uses multi-head self-attention and cross-attention mechanisms to focus on both the previous tokens and the encoder's output. The decoder's components are:\n",
        "    - **Masked Multi-Head Self-Attention:** To prevent attending to future tokens.\n",
        "    - **Cross-Attention:** To attend to the encoder's output, allowing the decoder to focus on relevant parts of the input.\n",
        "    - **Feed-Forward Network:** To model more complex interactions.\n",
        "    - **Final Linear Layer:** To map the decoder’s output to the target vocabulary space.\n",
        "  \n",
        "- **Forward Pass:**  \n",
        "  The forward method handles three modes of operation:\n",
        "    - **`full`:** Full training mode where both the encoder and decoder are used.\n",
        "    - **`dec_cond_lm`:** Decoder training as a conditional language model, where the decoder is trained independently using embeddings from the encoder.\n",
        "    - **`dec_lm`:** Decoder training as a language model, with no encoder output used.\n",
        "  \n",
        "  The forward pass computes the outputs from the encoder and decoder and can include CTC outputs depending on the mode.\n",
        "\n",
        "- **Recognition (`recognize`):**  \n",
        "  This method performs sequence-to-sequence decoding using greedy search. It processes an input sequence and generates a corresponding output sequence:\n",
        "    - **`greedy` Strategy:** Decodes the sequence one token at a time, selecting the most likely token at each step.\n",
        "    - **`beam` Strategy:** A placeholder for beam search decoding, which would explore multiple possible sequences at each decoding step (currently a TODO).\n",
        "\n",
        "#### Key Methods:\n",
        "\n",
        "- **`forward(padded_input, input_lengths, padded_target, target_lengths, mode)`**  \n",
        "  Runs the model in the specified mode (`full`, `dec_cond_lm`, or `dec_lm`), processes the input through the encoder and decoder, and returns the output along with attention weights and CTC outputs (if applicable).\n",
        "\n",
        "- **`recognize(inp, inp_len, tokenizer, mode, strategy)`**  \n",
        "  Performs sequence-to-sequence greedy search or beam search (with the latter still to be implemented). It decodes the input sequence based on the specified mode and strategy.\n",
        "\n",
        "---\n",
        "\n",
        "![image.png](data:image/png;base64,iVBORw0KGgoAAAANSUhEUgAAAbYAAAIgCAYAAADp3kyzAAAABHNCSVQICAgIfAhkiAAAABl0RVh0U29mdHdhcmUAZ25vbWUtc2NyZWVuc2hvdO8Dvz4AAAAtdEVYdENyZWF0aW9uIFRpbWUARnJpIDI5IE1hciAyMDI0IDAxOjU3OjI1IFBNIENBVDyMEbgAACAASURBVHic7N13XNXV/8Dx1wVFpggoCoLgQFy5FXJhDlypuXGhkrnKvpaZaWEplebIUe4BkjM1c6WRmrgnzhBRUVPRFAcIyr6/P/xx8wYo4OVe7r3v5+Ph48H9jPN53yvc9+eMzzmK1NRUJUIIIYSBMNF1AEIIIYQmSWITQghhUCSxCSGEMCiS2IQQQhgUSWxCCCEMiiQ2IYQQBkUSmxBCCIMiiU0IIYRBkcQmhBDCoEhiE0IIYVAksQkhhDAoktiEEEIYFElsQgghDIokNiGEEAZFEpsQQgiDIolNCCGEQZHEJoQQwqBIYhNCCGFQJLEJIYQwKJLYhBBCGBRJbEIIIQyKJDYhhBAGpZiuAxBCGL4jR46we/dutW1ly5bF398fc3NzrcUxY8YM/P39KVu2rNauKbRPamxCiEJ35MgRVq5cqXqdnJzMlClT6NChAykpKVqLY8aMGfzzzz9au57QDUlsQgitcHd3JzAwkMDAQL755htOnDhBbGws06dPVzsuNjaW06dPk5GRka2MiIgILly4kG37s2fPOHXqFImJidn2RUZGsn//flJTUzExMcHE5N+vveTkZE6ePElCQkK28xITEwkPD88xDlG0SWITQuiEk5MTH330EevXrwcgIyODd999l2rVqtG/f3+qV6/O5cuXVfuGDh3KW2+9xfvvv0+LFi2Ij48H4IcffqBcuXK89957ODk5sXz5ctU1Zs6cSYMGDRg9ejSNGjUiLS1NtW/Hjh24uLgwdOhQypcvz8KFCwF49OgRpUuXpk2bNrRt25aNGzdq6yMRGiJ9bEKIQqdUKnPc7unpyd9//w3AnDlzuHnzJrdv38bGxoZNmzYxYMAAjh07xsqVK7l27RqxsbFYWVkRFBREYGAgAwYMICgoiHPnzuHm5sadO3fw8vKiTp06lCpViqlTpxIdHY2rqyt79+6lffv2ANy5c4eAgAB27txJo0aNePDgAc2bN8fb25uKFSuSkJCAn58f+/fvJz09XWufk9AMSWxCCJ0pXrw4qampAISFhWFhYcGcOXMAyMzM5PTp0zx48IBt27bRrVs3rKysAAgMDARg3rx5vPXWW7i5uQHPa4Ft27bljz/+wNbWlmbNmuHq6gpAq1atcHJyAuDAgQOUKFGCXbt2sWvXLgAsLCzYvXs3Q4cOBcDf3x8zMzPMzMy09GkITZGmSCFEoVMoFDluj46Oplq1agA8efJEbYSkiYkJgYGBZGRkkJycjKWlZbbzExISsm0vWbIkDx484OnTp5QoUUJtX1b5CQkJ2UZjvvPOO9SuXVtVuyxevHg+36UoKqTGJoTQiYcPH7J48WIGDhwIQOXKlalYsaKqNvbo0SN+/PFHSpYsSaVKlYiJiVGde/r0aZYsWcJbb73Fhg0b1MqNjo7G19eXihUrsnjxYpRKJQqFgri4OFWzZ5UqVUhJSeGzzz5TJbCffvqJkiVLauOti0ImiU0IoRXXr18nKCiIjIwMTpw4QUREBHXq1GHMmDEAjB8/nrZt21K9enWcnJyYOXMmxYoVw9zcnI8++ojWrVtTr149EhISmDZtGp999hnvvPMOU6dO5euvv6Z58+acOnWKI0eOEBwcjIODA1OmTCEoKAgfHx+Cg4NVSaxly5Z4enoyevRo+vbty/nz5wkMDOTUqVO6/IiEhihSU1Nz7tUVQggN+e8D2vXr18fGxgZvb2+1PqwLFy4wf/58rly5QsWKFZk+fTqlSpUCng/bnzt3LvHx8fTt25euXbsCz5sVZ8yYwYULF/Dx8aFPnz6qvrTHjx+zcOFCTp48yYABA7hz5w49e/bE0dGRlJQUvv/+e44cOUJGRgYTJ06kadOmPHv2jJkzZzJ+/HjpX9NTktiEEEIYFBk8IoQQwqBIYhNCCGFQJLEJIYQwKJLYhBBCGBRJbEIIIQyKJDYhhBAGRRKbEEIIgyKJTQghhEGRxCaEEMKgSGITQghhUCSxCSGEMCiS2IQQQhgUSWxCCCEMiiQ2IYQQBkUSmxBCCIMiK2gLIdRERkYy5qOPyUhP13UoBsncwoJlS5eoFkMVmieJTQih5uDBg+z7cy+1G7XQdSgGJy01hYsH9hMREUGnTp10HY7BksQmhMjRzJ/26DoEgxN39xb9WlbUdRgGT/rYhBBCGBRJbEIIIQyKJDYhhBAGRRKbEEIIgyKDR4QQRd4vIXNZNO2TbNt9Ovbm8+9XA3At+gLrFn9H1LljPIl/RD3vVvh/+CVuVWpoO1yhY5LYhBBFn0KBu0dN3g+cq7a5lL0jANEXTvFZQHu6+Y+m38gJuFWpwZbVC/iwTzPmrjuAu0dNXUQtdEQSmxCi6FMqsbKxpU5jnxx3L/5uHF36j2LgB5NU27r2H0VSwmNuXrskic3ISGITQui19LRUzp84wMiJ32fb12/kRB1EJHRNEpsQQi/8FXEY32rF1baFRaWREP8QABtbO12EJYogSWxCCL1Qs34TZq8Jz7bd2qYUAI8f3Kess5u2wxJFkAz3F0LoNbMS5lSpUY+Iw7uz7Qv9YTLzvnpfB1EJXZLEJoTQe90Hfcj6pTM4tm8HSqUSgBtXItkUMpembd/RcXRC26QpUgih99p0HcDtG1eYNKo7JW3tcatSg9i/rzLs0+9o0LStrsMTWiaJTQhR5LVo34PaXjkP9c8y6MOv6NArgDs3r2Fja497lRqYmJpqKUJRlEhiE0IUeaXLuVC6nMsrj3N0qoCjUwUtRCSKMuljE0IIYVAksQkhhDAoktiEEEIYFElsQgghDIoMHhFC5Ojs8eyzfIjXE//wvq5DMAqS2IQQaqysrAAY599Gx5EYLmtra12HYNAUqampSl0HIYQQBbVhwwY6d+6Mubm5rkMRRYT0sQkh9NqSJUvYvHmzrsMQRYgkNiGE3rp+/Trh4eGsXbtW16GIIkQSmxBCb4WGhgLwxx9/cO/ePR1HI4oKSWxCCL2kVCoJCQkBICMjgw0bNug2IFFkSGITQuilffv2cevWLdXrNWvW6DAaUZRIYhNC6KWVK1fi5uaGjY0NjRo14sSJE1y7dk3XYYkiQBKbEEIvJScnM3z4cBQKBU2bNqVmzZrcuHFD12GJIkCeYxNC6DUbGxu+/fZbRo8eretQRBEhNTYhhF7LzMzEVBYUFS+QxCaE0GsZGRmS2IQamStSCCNw8eJFDh48SFRUFBcvXiQ1NTXbMS1atGDSpElq27788ksOHTqU7dgyZcpkeyh6/fr1LF26NNuxJUqUYP78+bi7u6u2nT17lk8//ZSMjIxsx0+YMIHWrVurXj9+/JghQ4bw5MmTbMd27tw5W41t9OjRXLx4MduxlSpVYsmSJWrbFi1axMaNG7Mda2VlxfLlyyldurRq2/79+wkKCkKpVO+9MTEx4ZtvvqFRo0aqbbGxsQwbNozk5ORsZQ8aNIiBAweqbfP39yc2NjbbsQ0bNmTatGlq26ZOncrevXuxs7PD2dmZqlWr8s477+Ds7JztfGMliU0II9CnTx9u3bpF2bJlKVeuXI41nP9+YeeXiUn+GoBe93rwvBkSUHs/CoXitcst6pRKJRcvXuSPP/4gKSmJMWPG0KpVK3bt2qXr0IoEGTwihNBbaWlpWFlZsWzZMvz9/XUdjk6cOnWKn3/+mYcPH+ZYYzZGUmMTwsB899131KxZk7ffflvXoRS6rKZMY+5ja9CgAQ0aNNB1GEWKDB4RwoAsXbqUwMBAUlJSdB2KVkhiy92Ls7IYG0lsQhiIPXv28P777zN27Fh69Oih63C0QhJb7ho1asSnn36q6zB0QhKbEAYgMzOToUOH0qlTJ7799ltdh6M1OQ0eEc/5+fkxf/58rl69qutQtE4SmxAGYPPmzcTGxrJ48WKjGBWYRWpsuZs0aRLW1taMGzdO16FonSQ2IQxAaGgoPj4+ODo66joUrZLEljs7OzsGDBjA9u3biYuL03U4WiWJTQgD8OGHHzJ58mRdh6F1WYktv8/QGYsuXboAcOzYMR1Hol3y2yCEAWjdujVvvvmmrsPQuqyHvKXGljMfHx/s7Oz466+/dB2KVslzbEIIvSVNka+2e/duKleurOswtEpmHhFCqPH19WXfvn26DsNg9e/fn+DgYF2HYdAksQmh5+Lj49m5cyd+fn4aKc/NzQ0PDw98fHw0Ul5hi4iIoHbt2hQrVvQboLZv345CoeDo0aO6DsWgFf3fBCHES4WFheHv70/Xrl2xsLB47fKUSiU+Pj4EBgZqIDrxotu3b3PmzBldh2HwZPCIEHou6yHlnJaAEeLgwYNERkbqOgytksQmhBBFxP379zVe5pQpU5g1a5bGyy3KJLEJoeeyamxCf0VHR/Puu+/i7u6u8abK9PR00tLSNFpmUSd9bEIIvXL37l0yMjIoX768rkN5bX/++SezZs0iLCyMYsWKMXDgQGJiYnjy5Am1atXCzs5O1yHqJamxCSE04t1338XGxoaEhISXHjdt2rRcFwWdPXs2ffr0yfXcr7/+mrZt29KqVSu9bl7bsGEDjRs3pl27doSFhQHPa1bBwcH4+fnRunVrypYti4eHB19//bWOo9U/ktiE0HNeXl4EBARgbW2tsxgSExPZsmULbdu2ZcWKFYVyjRs3bvD9998TERHBvn37mDBhAomJiYVyrcLm6upKhw4dqFOnjmqbg4MDNWrUYNq0aaSmphITE8PMmTNZsGABNWvWLPAs/QqFwqgmxgZJbELovUqVKrFo0SKdxrBu3ToaNmzI8OHDWbx4sWqqqywLFiygTZs2vPfeezx+/Fjti3bZsmW0adOGgIAAHj16lOs1zMzMePbsGRcvXuTQoUOUL18eS0vLHI99+PAhP/74I/v378fPz49u3bpx8uRJ1f4HDx7w9ddf88477/DFF18QHx8PQEJCAnPmzGHp0qW0bduWc+fOMWfOHHbt2sU777xDu3bt2L59O6dPn6Z///6MHj2aixcv5vvz8vb2ZvLkyZw4cYIbN27w448/4uXlxbVr11QTFru4uNC1a1dOnToFkGst91WUSmW2/w9DJ4lNCPHali9fTt++ffH19eXp06fs3r1btW/BggUsWLAAf39/KlSoQEhIiNp5M2fOZMCAAVSuXJmlS5fmeg0nJyc+/PBD2rRpw2effcbGjRtznfz40aNHTJ48mblz5zJy5EgqV65Mq1atSElJ4cmTJzRr1oyYmBgGDRrE48ePadKkCc+ePSMhIYHJkycTEhKCl5cX5ubmzJkzh88//5zhw4fTqFEjhg0bxpQpUxg2bBhPnjxhyJAhr/XZOTk5MWzYMH799Vfu3r3LmDFjsu1fv349Z8+eZfr06fkuf9SoUQwcOPC1YtQ3MnhECPFazp8/T1RUFH5+figUCgYOHMjixYtp27YtAPPmzWPBggW0atUKeN5seffuXdW+OXPm0L59ewBSUlK4dOlSjtcJDQ1l5cqV1K5dm+TkZGrVqsXNmzcpXbp0tgfTMzMziY+PZ9asWbi7u9O8eXMWLlzI9evXOXXqFHZ2dqom027dutGxY0dWrVpFhw4dSEpKYs2aNbi5uanK++yzz+jQoQPNmjVj+vTpTJo0iXr16uHo6Ii3t7fGPksLC4scH7KvVasWrVu3JjQ0NN+rYvfs2VNT4ekNqbEJYQBu3Lihs2sHBwdTvHhxOnXqRJs2bfjtt9/YsWMHsbGxZGZmEhMTQ6VKlVTHV6lSRfXzpUuX1PZ5eHjkeI2bN28yatQodu3axY4dO0hPT+eDDz7A39+f5cuX53hOsWLFcHd3B54va2Npaanqu6pWrZrasZ6enkRFRama7F5MavC8WRBQ9WNmrXtnaWlJSkrKKz8jTXjjjTde2lQr/iU1NiH03LZt2+jRowepqalav3ZaWhqrV6/m22+/VUtKEyZMYNmyZUyaNAlzc3MePHigSjIPHz5UHVeyZEni4uKoWrVqtn0vOnHiBC4uLtStWxeATZs20ahRIxITE9m4cWOO5+TUTKlUKrG1teXBgwdq2xMTE3F1dX3l+/1vX5U2+68cHR158uSJVq6l76TGJoSee/r0KYBORgj+8ssvWFpa8u677+Lj46P6N3ToUJYtW0Z6ejqdO3dm6tSpZGRkkJmZqZaI3n77baZPn05aWhpKpZKff/45x+vUrFmTmJgYtm3bBjyvoRYvXpzU1FSOHz+er5jbtGnD7t272b9/PwCnTp3i119/pUePHgX8FIq2+/fvk5SUpOswtEpqbELoOV2OeFuxYgX9+/fPNpy8T58+jBkzhi1btjBz5kx69+6Nh4cHpUqVUjXrwfNn2nr16oWHhwcODg65PnTt6enJokWL6NOnDxUrVuTp06eMGTOGYsWKMXjwYK5evZrnxx2qV6/O/Pnz6dSpEx4eHty5c4egoCBq1qzJzZs3C/5hFFEBAQFUqFCB+fPn6zoUrZHEJoSe02Vi+/3333PcbmVlpfag9oEDB7h8+TIODg7Y29urtjs6OhIeHs7ly5ext7fHwcEh12sFBATQq1cvrl69Sp06dVTJdMCAAdmSmoeHR7Ya7IvzMA4ePJiePXsSHR2ttuSNq6trtibd69evq342MTFR2+/u7q61PraCSkpKMromTElsQgityG1gyKv2vcjGxkbVz5aloNNOWVtbU79+/QKdK4o26WMTQghhUCSxCaHnKlWqROvWrXU6pZYoumRKLSGE3vHy8mLnzp26DkMUUcY4pZb0sQkhhAFr2rSp6oFyYyGJTQihRqFQEB4eruswDNLp06e13iwYFBSk1esVBZLYhBBqPD092bdvn+oBZqFZ/fr103UIBk8SmxB67ujRowwZMqRAy6fkJGvhS32xcuVKBg0apOswRBEig0eE0HPXrl3j6tWrervo5uu4f/8+H3zwgWoNMyFAEpsQei+3NcmMwdq1a0lJSVFb402oGzFiBNOmTdN1GFplvH8RQhiIzMxMXYegM1kJLTg4WLeBFGHR0dFERkbqOgytksQmhNBLZ86c4cKFCwBcvnyZgwcP6jgiUVRIYhNC6KWffvpJ7fXKlSt1FIkoaiSxCaHnsqbSMqYptdLS0vjpp5/w9fUFwNfXl/Xr1xvdumN5ZWxTaslwfyH0XOfOnXWyerYuJScnM3z4cGrXrk1YWBg9e/akRo0aJCcnY2VlpevwihyZUksIIYo4GxsbgoKCuHz5MgAVK1Zk8ODBug2qiKpatSru7u66DkOrJLEJIfRWVhObsdVI8mPRokW6DkHrpI9NCKG3JLGJnEhiE0LPxcTEMGLECF2HoRNZD6cb87N8IjtJbELouWPHjrFixQqjnFJLamwiJ9LHJoSe0/SUWoGBgXz33XcaLbOwdezYUdch5FnFSpW5FKWZCavzYuHChTg7O9O1a1etXVPXJLEJoec03QwXFRWFU4XKtOwyQKPlFparkRG4V62NabGi/3V2NfI0x/du1eo1N2zYgIuLiyQ2IYTxUiqVOLlVoe/or3QdisH5Y+Nyju/dSnp6OsX0IBHrK+ljE0IIYVAksQmh54xxSi2RP8Y2pZYkNiH0XOfOnVUzcAjxX8aW1EASmxAGwc3NTdchiCLK0tLS6GrzktiEEAWycck0ungq1P75Ny3Hvm2rX6vc9zvWIOLALgC2rpzD2SN7APhp9ufMnzT8teN+leDp41g85YNCv462rFixgunTp+s6DK2SYTlCiAKr82ZrgkJ2q15HnT7CxIEtcXKtjGdd7wKVOea7lZSrUBmA339eSsD4mQD49hpKenra6wf9Ch36jiQzM6PQr6MtZcqU0XUIWieJTQg9Fx8fz86dO/Hz89N1KFSr9yZOFSpzPfo8nnW9iX94n+0//cDVyAgqVa9Lz+ETMLd4vqzMhePhbAudy9OkJzRt15N2vd9DYWJC9LnjWJe048KxfSQ8vE/41tXYOjjy9Ek8Kc+eUt69KkqlksNhmzi8ayOmxYrTrvd71GzUAoADO9bhWN6dQ7s2EHPxDHWbtqX7u+O4Hn2eaxfP0Lr7YABO7d9JUsJjWrzdF4Ajf2zGwdGZp4kJpKen4ezmwcN7sexcu5DIkwdxqVyNHu+Nx7G8OwD/3LrGL8tmEHf3Jg1bdqKDn3FOa1YUSVOkEHouLCwMf39/nj17putQuHz+BLE3rlC1dmMSHsXxUfcGJDy6T9seAcTdvcVnfZuRkZ7G2SN7+P7TgbTt+S7dAsayJWQ2v61dCMBvq+dz5+8ruFSuTgkLK9yr1cbB0ZmzR/Zw/M9tAKz7cTJr5k6iTpM2VKpRj9mf+nNy3w4A9u9Yx5RhnahSqyFvDxzNlpDZ/LJ8BtYlS7F4ygdkZKQDsPbHySyb+pEq9hXTxmJSrBinD4VxKvw3AL4Y1BoT02L4jf6SYsXN+GpoBwDu3ozhk97eWFqXpGWXARwJ+4XQWRO09jmLl5MamxB6LmvmkYwM7TefXfnrFBMHtgTg4T+x/HPrGt3f+5SK1erw25oFuFauzsivniesN327M7ZnYw7u3IASJdYl7ShpVxqP2o0JCtlNyVIOamW7Vq5OCQtL3Kq+gV0ZJ7V9m5ZNZ/q6w1SqXhcAR2c3fpr9OQ1bdgKgeSc/VU0s+uwxYq9H41jendJOrkRFHMbdszb3bl/H0qokt2KiUCqVpKYkU6VmAw7sWKe6zsN7sZRxcqVStbp41vGm65CPAdi4eCqtuw1m0CfTAGjUshN9G9rRa8RELKxsNPwpv56DBw9ib29PjRo1dB2K1khiE0IUWDnXSqoZSiytSuJWtRbFipsBz2s1zu5V1Y53rVKD29cu0feDLzlz6A/G9XkTa1t7GrfqTN/RX+Ho/OrRnfEP7pGa/AyXip7/llu5OrdiolSvndyqqH62sLIh7s5NALzbvEPEwd95/PAeDX06YlbCgrNH9pDyLImm7Xtmu9anc9Yz4+O+zA8cTtU6Xrw9cDSOzm7cuXGF88f38csy9UEZd25coVKNeq98D9o0ZcoUXF1dWb58ua5D0RpJbELoOZ0t2aJ8Xut6o3HLHHdb2djy95VItW3JTxOxKlmKtNQUBoz5mncnfM+Zg2Hs/TWUHz4fSlDwH6+8rIWVDQqFgoRHcZR2cgXg2dNErEvaqY4xMTHN8Vyv1l1ZOHkUCY/iqPNmG8xKmLNv6yqexD+k3+jJ2Y4v4+zG6qNxXDp79Hnz6ScDqFitDpY2tgz7Yh5vDxz9/x+FkptXIqngUfOV8Wtbeno6aWmFP+imKJE+NiFEoajX1Jejf2zmyoWTAESeOsiZQ3/g3eYdflu7kC8DfFEoFDTv5Efzjn0o/v81vReZlTAn+VmS+jZzC2o0bM5Psz9HmZlJWmoK6+ZPoWmHXq+MqWodLx7ei+VI2C/Ua+bLG95vce7Yn9y8EkmNBs3Ujk1+lsSHXepwMvw3qtdvSo/3xmNpY0ux4mbUb96OLSGzuXf7OgD7tq7i456NeJqYUMBPS2iS1NiE0HNZk+mamuZcS9GVqnW8GPLpDD71a0p596o8vBfLsMAfKOtSkfZ+w7n61ymGtHChSq2GmChMGDVlUbYy3uo6kO8+7KXqy8ry0fRQgoa9zbtvuZGS/AzPOl4M+F/QK2NSKBQ0avk20WePUdKuNPC8OdWt6huY/OfzM7ew4pNZq5n72WDKOFegmFkJ+o3+inKulWjvN4Lrl84x3LcqnnW8iH94ny+X/oaldcnX+MQKh0KhMLrZRxSpqamyQp8QekzTw/179uzJrUcpfLVsl0bKE//6Y+Nyfvh8KE+fPs337P7z5s3jiy++ICEhf7XC1q1b4+LiwsqVK/N1nj6Tpkgh9JytrW2ReIZNFE2mpqZFrjZf2KQpUgghDNikSZOwt7fXdRhaJYlNCCEMWLNmzV59kIGRpkghDMCNGzd0HYIQRYbU2ITQc9u2baNHjx6kpqbqOhSN2RY6lyN/bM62/a2uz6fhmvVJfx78czvb/hGT5mNiasqCL0cwdOIc1cwkADEXz7B+/hQm/PhLocYudE8SmxB67unTpwAkJiYazLpbsdcvk5TwGO8276htL+tSEYBLZ49RuXq9bA9EW1qX5OG9WC4cD+f7cQOYt+Wsahh/0pPHREYc0s4bKELu37+PpaUlVlZWug5FaySxCaHnlErDe2JHqVRSsVod1XRdORxAk/Y9ad6xT7Zdj+LuYmldkuSkRDYt/Y5eIyaq9hnb81wAAQEBVKhQgfnz5+s6FK2RPjYh9JwhJrbXoVQqKVbcjI9nrmLtj5OJvXFZbZ+xSUpK4smTJ7oOQ6ukxiaEKHIUCgURB39XrRwA4FC2PGNnrs46gHXzp7Dz/5e6AWji20M1dyNAjQbNaN1tEN+PG8iM9Ue0FbooAiSxCSGKpErV6tJj+Geq1yVKWKjtb9a+F7W8Wqpely7r8vwHpVJVM3t3wveMbF+N7T/Nw71anUKPWRQNktgMSHh4eI7b3dzccHd3L/TrJyQkEBkZibe3d6FfS/zLy8uLgIAAgxk4As+bDEuVLpvrygEolbhUrp77/v9nbmnNmO9WEjSiM6O+WmiUfWzGOFekJDYDoVQqadu2LQ0aNMg2+qlfv34EBAQUegyRkZH06dNHnqnSskqVKrFoUfYJhI2VwkR96ECdN1vTtF1PgqePy7bPGChfqMEaC0lsBiLrF3fp0qXUqlVLx9EIoTvKHNanGx74A8PbVTW6L3iAXr164ezsrOswtMr4bl+M2NixY1m/fj0NGjSgRIkS9OrVi0ePHgGQkpLC+++/j5mZGW+88QZbtmxRnbdkyRLq1KmDg4MD/fr1U50D8N1332Fubo6dnR1r165Va/L47bffqF+/PnZ2dvTs2ZMHDx4AsHv3bj7//HPq169P6dKl1coTAqBhy054t+2W6/7O/v/DzSPnGziHci70eO9TtW2WNraMn/Mz3d8dp9E49cHIkSPp2rWrrsPQKqmxGZjFixfj6Oiotm348OE4Ojpy9uxZ9uzZw549e8jMzMTHx4eVK1cybINUfAAAIABJREFUZswYPv/8c+7cuUNkZCS2trY0adKESpUqcebMGWbPns2SJUuoUqUKs2bNolu3bvz5559s376d0NBQwsPDsbe353//+5/qmsePHycgIIBly5bh5eXFihUr6N69O+Hh4dy7d4/Zs2fz3XffUbFiRezs7P77NoSRa+jT8aX7O/t/mOs+h7Ll6T7002zbazX2oVZjn9eOTRR9ktiMiFKpZNCgQTg4OADg6+tLbGwsACEhIezbt48qVaoAz2tb5ubmbN68mQ8//JDmzZsDMH36dMqUKUN0dDSrVq3ivffew8vLC4DPP/+c/v37q8pr3bo1NjY2qgEl3377LTExMQBUr16d0aNHI17f0aNHGTJkCBcvXtR1KEIUCZLYDMzw4cNf2sdWtmxZ1c8lSpQgLS2NlJQUEhISVAkPwMPDA4DY2Fi1GqCJiQllypTh5s2b3L17V205jBePu3PnDlFRUQQF/buqcaNGjYiPjwegVKlSr/EuxYuuXbvG1atXDWpKLSFehyQ2I5JTx7lSqaREiRI4ODgQFxeHk5MTAMuWLaNMmTI4OzurallZx9+/f59SpUpRrlw5tX1Xr15V/ezs7Ey1atWYOnWqatv+/fupXLkyFy9eNMpO/MJiYoQj/UTejRgxAnd3dz777LNXH2wg5C/CQGQN2jh16hTh4eFq/86fP//K8/v168f06dPJzMxk9+7dTJw4EVtbWwYPHsySJUtUAz++/fZb7O3tqV+/Pu+++y6hoaHcv3+fjIwMfvzxR1V5AwcOZPny5Vy6dAmABQsWMGDAAMzMzArh3Ru3zBxGAQqRJTo6msjISF2HoVVSYzMgLVq04Keffsq2vVGjRkydOpW6deuqNRdWqlSJ9PR0AKZOncr48eNxcnKiTJky/PDDD7Rs2RKAx48f06xZM+Lj4+natStbt27FxMQEX19fJk+eTLt27Xjw4AFjxoxRNYV5e3sTHByMn58f169fx9fXlyNHjmBubo6joyN169bNFqcoGkxMTHjy+CHnj+/TdSgG5/a1aACKFZOv3sKkSE1NlTYhIfTY2rVrGTRoEA8fPtRIH9vgwYNZs2aNBiITuSnI2nnz5s3jiy++ICEhIV/ntWrVChcXF0JDQ/N9TX0ltw1C6LmKFStSuXJljQ0cmTt3LkOGDNFIWdoQFRWFp6en3kwb5eLiotXryZRaQgi94+3trdGh/ra2tvj46M/zXnPmzMHT01OvYtYmmVJLCCH0yL179/j9998pVaqUqk9YqKtatapWJkEvSiSxCSH01urVq0lPT2fTpk3MmTMHW1tbXYdU5BjjBNky3F8IobeCg4MBSE5OZt26dTqORhQVktiE0HMxMTGMGDFC12Fo3alTp4iKilK9zkpyQkhiE0LPHTt2jBUrVpCYmKjrULQqNDQUR0dH7O3tqV69OhEREfz111+6DqvQKJVKTE1NdR2GXpDEJoSeM9YptdLS0hg0aBClS5emXbt21KpVy6AXub1+/TqVKlXK93kLFy5UW4bKGMjgESH0nLFOqbVgwQIA1qxZg4WFBRERETqOqHCdOXOGevXq5fu8DRs24OLiYlRrshnnrZ4QwmCYmJgYfHLfvHkzhw8f5oMPPtB1KHpBEpsQQq8pFAqDfgB5zZo1vPfee4wYMULmWM0jaYoUQs9lTaVlrGuxKRQKTpw4obb2n75TKpXcvHmTc+fOcfr0aTp16sS3335b4PJkSi0hhF7p3Lkzly9f1nUYOpOZmcmhQ4f4888/dR2KRpUpUwYnJydmzpzJhx9+WOByjC2pgSQ2IQyCm5ubrkPQmWLFijF69Gi1RW3FvywtLY2uNi+JTQih14xh8MjrWLFiBZaWlroOQ6sksQkh9JqhDx55XWXKlNF1CFoniU0UyKNHjzh37hwmJiZq/xQKRb5ea/IcY+xLAIiPj2fnzp34+fnpOhSdkMQm/ksSm8iXJUuWsGjRIi5cuKDrULJ5MdlpM6Hm9NrW1pbGjRtTo0YNunTpUqjvOywsDH9/f7p27YqFhUWhXqsoksQm/ksSm8izunXrEhkZSWBgIFOnTqVdu3ZkZGSQmZlJRkZGnn7Oz7H6XF5cXBxLlizh1q1btGvXjm3bthXa/0tW/1JGRkahXaMok8T2cuHh4djb2/PGG2/oOhStkcQm8qRZs2YkJSXxxx9/qK1UbGpqiqmpKcWLF9dhdEXXjh07GDVqFGZmZqSmphbKNYx94IQMHnm5yZMn4+LiQmhoqK5D0RpJbOKVgoKCOHPmDFu2bFFLauLVOnXqxNatW2nbti1jx45l1qxZug7plSIjI/n4449JT0/XdSh5cuPGDTZv3sz58+d1HUqeWFhYsGTJEpycnHQdisGSxCZeKTIyks6dO9O6dWtdh6KX6tSpQ2BgIGPHjqV169Z07NhR1yG91MGDB9m7dy+BgYG6DiVP7OzssLW11Ytn+RISEpg7dy4RERF06tRJ1+EYLEls4pWOHTtGjx49dB2GXvPz82Ps2LHExsZqvOxixZ7/GWt6rS59SWz65Pbt28ydO1er1zTGEcMyCbJ4pVu3blGqVCldh6HXypQpg4+PD3fu3NF42b6+voSGhhrliEghciKJTeSJrNyrGYUxyMHW1tZon2ETr5Y1wMuYSFOkyJOs5i5RcDIsXejCpEmTsLe313UYWiXfViJPjO2OrzAoFAoZli60rlmzZroOQeukKVLkidTYXl9h1thu3LhRKOXmN4YSJUowYcKEVx5rZWXF1atXc9xnb29PZGRkrtfo1q0bXbp0oXv37ty8efO1Yi5KlEol27Zt48cff9R1KHpPEpvIE0lsmlEYNbZffvkFDw8Pnj17pvGy8yM4OJiuXbuyfPnyQnsY/dtvv8XDw4OtW7eSmZnJ/PnzC+U62pSSkkJwcDC1atWiR48ezJ49W9ch6T35tnqJ5ORkDh8+THh4OBcvXiQjI4P4+PhsxzVu3Djb6rZff/01+/bty3asvb09oaGhmJubq7Zt2bKFH374IduxxYsXZ+7cuVStWlW17WUPz3788cdqz0glJSUxcOBAEhISsh3btm1bxo8fr7Zt3LhxnD59OtuxkL0pMjg4mNWrV2c7ztzcnKVLl6o9fHr06FEmTZqU7UtdoVDw1Vdf0bRpU9W2f/75h2HDhpGUlJSt7D59+vDee++pbQsICODvv//OdmytWrWYM2eO2rbZs2ezY8cO7OzscHZ2xsPDg+7du+Ps7Jzje9a0wqqxpaWlAbqdUisjI0P1OxEZGcnGjRvp16+fav+dO3f46aefSE1NpX///mrDz+/cucOqVatISUnBz89PNe9mTpRKJTdu3CAhIYHExES1v43/+vXXX6lcuTKxsbGcOnWKZs2a0aJFC9X++/fvs2PHDpKTk+nQoYPqObjt27dTrlw5jhw5grW1NXXr1iU2NhZTU1NOnDhBpUqV6NevH/v37+fMmTP4+vpSvXr1fH9m9+7dY/78+UyfPl31f1ezZk28vLwICgrC3t6exo0b06hRo3yX/aL79+9jaWmJlZXVa5WjTySx5eCff/5hzpw5LF68mMTERKysrGjSpAne3t45Hp/TshAuLi55nqXDysoq12P/m1BMTU3VEsGLchruXa9evRyPzWnWAzc3N0qWLJlt+/79+7PV2BwcHPL8/szMzGjevHmu+16kUCho2LBhjsc6ODhk21a1alUqVqyYbbutrW22bWXLlsXHx4d79+7x999/s27dOj7++GO8vb3ZuXNnof/hG3IfW1hYGBkZGTRt2pQ+ffqwaNEiVWJLTk6mSZMmvPnmm3Tv3p3evXurknFycjItWrSgbt269OnTh379+uV4U5Plyy+/pFatWnh4eDBgwAAGDx6c67GbN2/mzJkzfPLJJ9SpU4eBAwcyZcoUBg0axMGDB+nbty9jx47F3Nwcb29vZsyYwYABA9i6dSu///47vXr1ws3NjdOnTzNp0iRatGjBsGHDGDRoEEuWLGHAgAG4ubnRtGlT9uzZk+vfWk6uXr3Khx9+yK1bt7CyssLa2hpLS0tMTU3Zv38/zs7OPHnyhEmTJmFmZsbMmTPp379/nst/0cCBA3F1dWXp0qUFOl8fSWL7j+3bt9O9e3csLS0ZO3Ysfn5+eHh45Lucl/3B/VebNm1o06ZNno719PTM84OzVlZW+XrI9oMPPshxe1BQULYE26VLlzzPWl+/fn3q16+fp2MdHR3zFfNnn32W52NfrEFk2bVrF2FhYVq5my2sxFYUkmVwcDADBw5EoVAwcOBAgoKCiIyMpEaNGvzyyy9YW1uzevVqFAoFderUoWbNmsDzvzdTU1PWr1+PiYkJXl5euf69JSUlMWPGDGxsbLh79y6tWrUiIyODGzdu5Hhzk5mZSYMGDRg4cCAA7733Hrt372bQoEGMGTOGr7/+mkGDBgHPb3o+/vhjBgwYgFKpxMvLi5kzZwLPF+q0tbVl1apVmJiY0Lt3b65evapqPVi/fj179+7NV2KrXLkyV65cITw8nM2bN/Pzzz8TExNDiRIlaNWqFatXr1ater1gwQKGDBnC5s2b2bhxY56vkSU1NZWUlJR8n6fPpI/tPzw9PRk9ejSXL18mMDCwQEnNEBlqH1v79u35/vvvtXItQx3uf//+fbZv387du3cJCgrip59+wsHBQdX/FR0dTaNGjVTNjx4eHqrad3R0NA0aNFA1Pbq6ulK2bNkcrzNu3DgOHDjA2bNnGTt2LAMHDmTFihU0bdo013ktX2yqLFmyJMnJySiVSv766y+1VoRmzZpx+/ZtkpKSUCgU1KpVS60cNzc3VYw2NjZqMVpaWhYocSgUClq2bMncuXO5ffs2YWFhDBo0iLi4OFVSAxg1ahTbtm1j69athISE5Ps6xsgwv61eg4eHh15MVKtthprYcnLmzBnq1q1bKGUXhdqVpq1evZpGjRqptVKULl2aCRMmMHXqVKysrHj06JHaOVmJyNraOtu+3JL/4cOH+fjjj7Gzs+Obb77h/PnzjB49mnHjxuX6+5lTX51CocDKyorHjx+rtmUNvDE1NSUzM1OtD/C/8WRmZqptUyqVr33DYmJiQsuWLWnZsmWO+9u1a8fo0aOZNWtWvlqDjJXU2ESeGNNzbJ07d2b06NEaL7ewamxeXl4EBASo3eVr09KlSwkICMDHx0f1b8SIEdja2rJ69Wo6derE7t27uX//PgC///67ahBWx44dOXDggGqqsQMHDnD37t0cr1O7dm127doFPE8EWfOXRkRE5HsUZvPmzdUGP61Zs4ZGjRqpDeoqarp3786lS5d48OBBvs4zxrkijec2/CXGjh3LxIkTcxycIJ4zphpbUFAQw4YNY+TIkdSoUUNj5RZWH1ulSpVYtGiRxsvNiyNHjnDz5s1sk2QrFAqGDBnCvHnzGDlyJN9++y1vvfUW5cqVw9TUVDXgqkqVKsyaNYs2bdqoBjTltpzLzJkz6datm6rpMSEhgX379jFs2DDmzJnDp59+mue4g4KCaNOmDSdOnMDU1JS0tDTmzZtXwE9BO7IWCj148CBdu3bN83maqFHqG0VqaqpxveP/2LJlC7169eLEiRPUqVNH1+EUSWZmZmzatInOnTvrOhStady4MXZ2dvz+++8aK7Nr1664u7trfXb3/FqyZAkffPCBxp9FS05O5tKlS7zxxhvZmghTUlKIiorKcd+LlEolUVFRPHjwgMaNG2NmZkZCQgLm5ubZRti+yt27d7l06RJVqlShfPnyBXpP+XX79m0qVqzI5s2bC7RsjZmZGQsWLGDo0KF5PmfhwoU4OzvnKxnqO+O5Dc9FaGgonp6ektRewZhqbPB8BN3777/PjRs3NLrOlyH2seWVubl5rn9nJUqUyNPfoEKhyPbMWE6PqORFuXLlKFeuXIHO1ScjR47UdQhaZ/R9bOHh4fj7++s6jCLP2BJbVif+sWPHNFamIT/HJkRRYlzfVv8RFxdHQkICTZo00ep1w8LCNPqFqQ1r167l6NGjug4jT7y8vPD19X2tMjw8PHB2dubSpUsaiqrwBo/s37+foUOHEh0drfGyRdFjbP1lBWHUiS0mJgZA680R48aN4+LFi1q95utatWqVrkPIs2rVqnHu3LnXLmfHjh24u7u/fkD/r7BqbHfu3OH69eskJibqbGSkKLpkSi0j8+TJE0D7iS0jI4MPP/xQNbNBUZc1g4Q+GD9+PFu3btVIWVmzY2hKYdXY5A5evExAQAAVKlQwiAmj88qoE1vr1q25dOmSUd3JFIS+JDV9UBg1tsJKbOHh4YVSrjGLi4vT+jWTkpJUN/HGwqgTG5DjHHNCFAZ9mVKrUqVKwPMVIITmmZubF3ikrb78Duma0Sc2IXJz/Phxihcvnq/JbV9GX0ZFtmnTptDWUysMBw4coEKFChp9LEPoN6Mf7i9EbqZOncq0adM0Vl5h3W1XrFiRypUrG+3AkZUrV7JixQpdh1FkGeOUWkad2BITE/VqtN+hQ4f4+uuvX3nXf/LkSdatW5fjvtOnT+e4QGiWu3fvMmbMGIYOHcqtW7deK159l5mZmeus8QVRWDU2b29vvRtlqymJiYls2LCBlStXGkUTXUFujoxxSi2jTmzh4eEEBARkm128qPriiy9YsGABO3fufOlxJ06ceGliyy2ZZ2Rk0K5dO9544w0aN25MkyZNVLOeC83Qh6ZIffLLL7/w7NkzYmNj2bt3r67DKZKqVq1qdAPAjDqxZd2NZ63mqykJCQkaTwhXrlzhr7/+4osvvmDx4sXZ9icnJxMeHs6VK1eyzbWXtS/rAd7c5uKLjY0lOjqa/v37M3jwYP755x+1pT1yc/nyZU6cOJFte0pKCidPniQhISHbvqSkJMLDw9U+++joaA4dOqR6HRMTo9Nao6aTkHT8a96LTZDBwcE6jKToWrRoUb4W5DUEMnikECxatIhp06bRrVs3/P39adGixWu3ca9YsYIuXbrQr18/xo0bx/Xr11UPD9+5c4d27drx5MkTEhISqFmzJvb29gD8888/dOjQgQcPHvD06VOqVauW69x6rq6u1KtXj+HDhxMbG0vv3r1znWk9Li6OevXq0aZNG27evElUVBS1a9dm27ZtmJqaEhISwscff4y7uzuXLl1i8uTJfPLJJzx58oSKFStSrVo1jh8/TkhICNOnT6dt27YcOnSIuLg43nrrLWxtbTl16hSRkZFMmjTJIOa705fBI/ri6tWrHD58WPX6119/5fHjx5QqVUqHURUuuTnKG6OusWUlG010rMbHx3Pw4EHCw8MpX748TZo0YdWqVbRt25aqVasyefLkAj9LkpmZSUhICIMHD6ZUqVK88847arW2wMBAWrduTUxMDJcvX1ZrWp0yZQpvvvkm165d48qVKyQmJuZ6nYSEBDw8PFi7di2mpqasXLky12OVSiX//PMPjRs3Zvfu3Rw7dow9e/Zw5coVoqKiGD58OKtXryYiIoLjx48zdepUDhw4gEKhICEhgW7dupGUlKSacTw+Pp7Dhw8TFhZGcHAwpUuXZs+ePWzatIkvv/yyQJ/b6ypWrJhG16ErrC+lo0ePZpsY2BiEhIRgZWVF48aN8fHxIT09nfXr1+s6LFEEGHVi04TFixdTrVo1ypQpQ6tWrWjbti1DhgwhLCxM9SV248YNvvnmGxwcHAr0Jb19+3aUSiUZGRmEh4dTrVo1li9frhqS/fvvv9OnTx8UCgX29vaMGjVKde6uXbvo06cPJiYm2NravnQBzT59+pCcnMzvv//O4cOH2bNnD0uXLuWXX37JdmzWe+vVqxcA5cuXx9nZmbi4OE6cOIG3tzcdOnQAns/g4efnx2+//aY6z9/fn+LFi6sejn/77bcBcHd3x8bGhvbt2wPg6enJ48ePX5qQC8uECROYMGGCRsssjBrbtWvXuHr1qk4+I11q2LCh6oYxMzOTiRMn4unpqeuwRBFg1E2RWXfjBZm5Pjk5GX9/f3799Vfq1avHpEmT8Pb2pnjx4sTGxrJ69WrCwsKA51/6gwcPZtCgQbi7u7Np06Z8XSs4OJgyZcoQFBSk2qZUKtm4cSP9+vXj6dOnamtRZTVDAtn25baY6okTJzh69CixsbFYWFiwePFi+vfvj4WFBQsWLMg1theHmJuYmJCZmUl8fLxaDACOjo78/fffqi/2/66dVaJECdXPCoVCtf9la3MVtsaNG2u0vMKqsenyM9KlrNr+1q1bcXJyYtKkSTqOqGgaMWIE7u7uRtXPZtSJzcfHhxUrVmBnZ5fvc7/88kt27drFokWLCAgIUNs3ffp0Dh8+jL+/P/7+/jRv3rzAzZ137txh586dXL16VW0xxEmTJrFo0SL69euHh4cHZ86coX79+gBERESojvP09OT06dN4e3tn2/ei9PR0MjIyePbsGRYWFvTt25fly5dz5MgRmjZtmq+YK1euzPfff09GRobq5uFl803+dzhyZmamKgFmbTeEfoXC6mOTfjvjUZCbo+joaJ4+fVpIERVNRp3YrK2tGTBgQL7PO3nyJHPmzGHevHnZkho8v0MaPXo0FhYWrx1jcHAw3t7e2Vb4fffdd5k2bRqRkZFMnDiRTz75BFdXV5KTk1m3bp1qtozx48fzwQcfULlyZdLS0li5cmWOk/s2btyYOnXq0LlzZyZOnEhERAQXLlygRo0adOrUiW3btmWrheWmffv2uLq6MnHiRDp27EhkZCQ7d+5kxowZr/156DMZPCKEdhh1YiuoBQsWUKVKFYYPH57j/oKu6JsTJycnpkyZkm27m5sbs2fPJi4uji5dumBnZ8fy5cuxtbVl3bp13LhxA4AOHTqwatUqlixZgrW1NWvWrOH69evZyjM1NWXXrl1Mnz6d+fPnY29vz7Fjx7C2tubHH3/MVqu1srIiMDBQrRn3f//7H25ubigUCnbt2sWsWbOYPXs2TZs25a+//sLV1ZWUlBQCAwMxNzdXnTdy5Eg8PDxUr8ePH0+ZMmUAsLCwIDAwUK2pUlsePnyIqakptra2GilPRrQJoR2K1NRU+UvLJx8fH5ydnVm7dm2Bzq9Vqxbt27fXm2Vr9EnWsjWamInDz88Pc3NzQkJCXj8wng+YiY+PZ8uWLRopL8u2bdvo0aOHRud3PHTokEZnXSlMY8eOxcHBgYkTJ+o6lDyxsLAocP+tlZUVM2bMUBsg9iqtWrXC1dX1paOcDY3R19iuXbuW7xn+4+Li8PLyKqSIRFHx7NkzjT68X1g1ts6dO2s0qa1evZohQ4ZorDxt+fPPP3UdQp798ccf+Pj4aO16xtZSYNSJbffu3XTs2JGHDx/mewJZY/tFMUaa/j/Wlz62pKQkAN6erR+J4tnDu5iWsMDMSjNNxoUp+fF9dk/urdVHM6ysrLCxsdHa9YoCo05sWX/AT58+zVdiMzU1JSMjo7DCEkVEYSQ2fbohcq7bUtchGJyk+9qfIm7btm1av6auGecDMK8p63ktIfJDX2psoujSt5sjXZHEVgBSYxMFVRiJLSYmhhEjRmi8XCH0lVE3RRZ0rsjXrbGZmpoyb9485s2bV+AyRO6qVaumkXJ69Oih0ccMCutu+9ixY6xYsYKZM2ca7WKjQrzIqBNbQWe1eN3ENmPGDI4dO1bg87UtMTFRr74wNTVidfDgwRopJ0thNUUWxSm10p4lcv/SSSztylLKTX2C5tSnCcRFR2Dr4oFV6fK5lKBeVnELa1ITH/P45iUcq2f//01NiufxjYs41vDW2HvIyZ2z4ThW98LUzPzVBxeCgtwcLVy4EGdnZ9UUZC8TEhJCVFSU2srx69at48SJE8yaNUvt2KyJ0C0sLLC2tubatWtUqVIlX7EVFqNObA0aNGDgwIE4Ojrm67zXbYr09fXF19e3wOdrk1KppGXLluzbt8/olpfXtMKqsRXFfrv4W9Fs/+gtSpavgt+qy2r7Lv22giPzP6LJ6HnU6p77pNwAl3YG8+jaBbxHzSLuyhnCvxtC37XXsh33MOY8e7/uR7/1f2v0ffzXto/eou+aGGzKuRfqdTRpw4YNuLi45CmxDR48mNmzZzN58mS+/PJLNmzYwK5du3J8lvPixYs0bNiQiIgI9u7dS2BgIBcvXsz392lhKHq3elrk4uLC8uXL832eMQ0e2b9/P0eOHJHViTXEWH5vQIGZZUky01KIu3xabc+VPWuwc6+ZpxulhzHnUCqff2bOdVvmmNSEZn300UcUK1aM9u3b8+uvv+Y6QYFSqaRx48YcOnSIYcOGYWZmlusk69pm1ImtoIwpsWX9Umtq9g1jZowj2iq91Yere9epXifeu4mJaTGsyrioPov9s4Zx7+K/TfNn100nelcIt06GERO+kZjwjZwMnsSDK2fY+3W/l1xNwfFlE1nZxZ4VHaz569f5qj33L53k15FerGhvxfaP3iIh9qpqX9Rvy1nd25Ulbyn4qXs5on//d4aOv4/9RkhnO5a2NuXogrE6b7XQ5u/Q2bNnSUhIyHX/zp07MTc3Z8iQIRw5coRGjRppdP3C1yGJrQCMZVRkQkKCai22rNWJjcknn3xCYGCgxsorrD62rPk6i8qXyosqt+zN1b3/Tj13OSyUyq36qh0Td+kkyQkPVK8f/x3Fk7vXcWnoSyWfnlTy6UnDIVNISXzMP38dyfVaiff+xtLeiUFbH9L2qw0cXTCWzPQ0ku7f4rdx7ajeZQT9fv4bzw4B7BjbhvSUZzy+cZHji8fz9vd7GfanknbfbiV8+rukpzwl6f4t9k7pi8+nyxmw6Q5KZSZKPbyhVSgU+UrIM2bMYOPGjdy+fRtXV1e6deuW43G7du1i5MiRmJiYaH0mlVeRxFYAxlJj+/nnn3n27BkAKSkprFu37hVnGJZLly4RGRmpsfIKK7G1a9eO8PBwjawmoWllqjUCUNXILu0KofJbvV+73Phb0Wr/AMwsS6r67Mo3aE1GWgqpiY+5uu9nSlXwxMapIg9jzmOm9F/uAAAgAElEQVTl6IppCQtiT+/F1rUq7yw4iq2LB88e3+NJbAxKZSbJ8Q+ICd+Ic4PWVGzeHYtSjngNn46JqWEPSwgJCeHnn3/m9OnTmJiYsGDBAhwcHLKtYpKQkEBUVBQdO3YE4Pjx4yiVyhwnWNcFw/5feoUzZ87Qq1cvLl++/OqDX2AsNbbQ0FAcHR25d+8epUuXJjQ01Kiel9L0aMPCakYqWbIkb775psbLfT1KlDx/r1XaDiDmz58pVsIS6zIuWNiV/c+xChTkr4lvxye+PHv0DwC1uo3GrWkXzKz/nVLLxLQ4AJmZGTyNi+XJ3RucCvlKtd+ilCOZ6WmkJSdxfNlEHl49h6WDE+al/n/ggzKTZw/vYm7z71JNJsWKY2aT/7Ubdc3U1DTPtfm6dety4sQJtW3Lli3jzJkz2Y7duXMnxYs//5w/+eQTnJyccHd3f+14NcGoE9uNGze4ceMG9+7dy9dIHmOosd29e5dTp04xatQo5s6dS+/evVm6dCl37tzByclJ1+FphSwK+jr+TVaVW/Zm18TOKExNqdzK798jsp4jNTEhI/3fSZxTEh5i7Vjh/4/J+eai37rraq/vnj+YayRWpctT2qMe7aduV227uG0xZao1IvLXBSTcvkrPFecxKVac1MTHxOz7GaVSiYV9Oe7+dVh1TnLCA5If38/j+y8cBbk5+uGHH9SWiXqZunXr5ml7yZIleeONN1Sv27Rpk6+YCps0RRaAMSS2cuXKcfv2bXr16gVA7969uX37ttEktcJgjINHAByq1MXUzJxLO4Op6NMz234bp0pcP7AZZWYm9y4e4+6FQ6p9xSysefT3RR5eu1Dg61dq2YvY038SETqF5Mf3Ob50AofmfUhmehqmZuaYmBZDmZlBespTji97vvRNZnoqVVr3Je7SKc5vnMOzR/9wYOYwvWyK9PT0xM3NTddhaJUktgIwlqbIUqVKYWZmBkDx4sUpVaqUjiPSb4XVxxYfH1/k+j+LW1hT7o1mqte1e31EldZ9MS/5fDi4Q+XaqoezW4xdjJl1KXaO70Ds6T/xHjFD9ZxYjS7DMS1mRtT2JZSwLkXZmjk3uZpZ2eJY44V9CgVOdXwwLW6GVRkXOs8N587Z/fzxVS8expyn++KT2JRzp+Y77+NYw5ud4zuwf8ZQSlepR9V2g0hNjMfCriwdp+/i9sk/2D9zGJ4dA6jQpLPOHs4Wead/tx8apKsptYR+8PT0zHMTTl4UVo0tLCwMf39/unbtWmQGkNi6eNB+2g7V6xpd1RfG9Bo+XfWzmXUpmnwwJ8dyLB2c8f36V9XrVl+syfE4+0pv0ObL9WrbOs/Zp/q5jGdDOs3ane08k2LFaTJ6rtq2am+/p/q5XO3mtK/dXPW6gnenHK+vLcZa688vo05srzOllvxyGb7CWOG8MPvtjKEVQeTfwYMHsbe3p0aNGroORWuMOrG5ublRoUKFfE8BY2Ji8lorFt+5c4fo6OgCn69NV65cASAiIoKnT5/qOJq8qVq1apHsC5S7baELU6ZMwdXVtUCzLOkro05sdevWVX1x58frNkV26foOZ8+cfvWBRcjo0S+f068oqV2nLidPHNd1GNkUVh+bNIuLl0lPTyctLU3XYWiVUSe2gnrdwSNPk5Jo2r4XHfuPevXBRcCtmChcKmlmKZjCtnPNQu5eKZo3DbLQqHhdUuvPG0lsBaCJwSMOZcvzRuOWmgmokOlLnAAn/txObPQpjZQVEhKCubk5fn5+rz44DwrrS6koT6mVF5kZ6URtX0qNriMBeHT9L549vo9z3ZYFL1Sp5K9f51Oz2wcAbBhcE++RM3H16qCBiPVLfqfUMgQy3L8AZFSkcdi0aRMbNmzQaJmF8Xvj6+tLaGhokRkRmV/3o45zetU3qtdHF43j8d9Rr1Vm/O3LHFkwVvW65WchONbQzDp9ougz6sR27dq1bHOg5YWxPMdm7DRdAyqsGputra3GapWFKfHe35xbP5NTKydz/cBmUCrJTE8jasdyUp8mcCrkK26f2k38rcv8fWQ7tyP2AJCe8pSYfRs4t34mcZcjVOU9jDnHtQO/8DDmHOfWzyR6VwjKzOd/lxe3LkaZmcGpkK9IT07i/9g777Aori4Ov0tvCiJFEAugInZFRWOvibFGbEmsRGNNotEYTaKx5FOjJiaxGyVYsBvFgoq9i70gikpTBASk97L7/bFhBUVhl4Vd2Hmfh0d2Zu6Zwzg7v7n3nntOTOB1MpPiZG1jAm9wb9dyQi8eQJwv68mtLQvITI4n8Og/3PZaRNqryDK6OsVDkXtInpRaFQWNFrZ79+6xbds2oqOj5Won9Ng0A2W/vGjyHFv4jRPsHdMYwyrW2DTpyJ2dS7m8elqR7VKin7Hz8zpEP/TDxLoW55Z+wbUNswB4FXSPK6u/5daWhWSnp/DoqAenFhZe1ubB/tUkhktzwl78YzKXV35NJRt7wi4fZOfndWWpsm5uXsCphZ+SHBVK2qtIdo9uQFpclJKugmqYO3cuM2bMULUbZYowx6YAZSVs4cGPiI8t+KWqZueApW3NEtn1v3aOek1d0dM3IDcnG7FYjK6ePs+ePMCokikW1exKZL8owp74U8nUHHMr21I9j7qhyRP/ktwcus/bjV2rDwFoMXIO1zbMQktHl/q9vyD8+nFcRs8DpIu7a7btQ/UW3bj05xTsOwykzUTpmkKbph3ZOrAaTYZ9B4A4J5tuc3ch0tLCpmknTs6TpoBz7jce//2rZDbziH7oR9DpHXy26xm6hibYd3TjyIwePPBeg8uonwFoMuRb7FpKK9yHXfImNvAGNdv2Ke1LVGq0b9++6IMqGIKwKUBZDUXu3bCEu5dPYlOrjmxb0INbDJ00h4Fjv1PY7g8jOrPxdAhW1WszfVBrfli9H6vqtfH6cw4NWnag/+ii36RLwpbfZtOiw0f0/nxyqZ5H3SjNHltYWJha5wOs4dqLoNM7OfxtV5BIyEiKQ5xTdAh6UmQwic8fc2hqZ9k2LW0dksKfgESCafU6iP6rwmBkXo2crIz32osLuodFPRd0DU1k22yadiIh7OF/nySYVq8r22dkblOkTQH1Q6OFTdFIobIcivzgw0GM+/F1uqHnTwOY3Lshrt37U712PYVsHgx83WsIeXRX9vvsVf8q7qgczFl3qEzOU1KMjY3R19dXqs3SuG8OHTqEm5tbiZIGlDY3/plL2KWDuI7/FXOHxsSF+HP5r6+LbCfS0qaGay/sO7oV2G5aw4mE54EyUZNRRI9Yz8SUzOT4AttyM9NlyY0lYrHcNssSTe71y4NGz7HlIa/AlW3wSMGb2KZWHbS0tUlNlH45LxzZydQBzRnSzIS57j15fFda0DE54RU/jepGPycRg5oasX7hV2RnZQLQz0lE9ItQpn7SAolEwtiu9jy4fp7FUwbi7bkCgNjI5yyf/hmftTJn4kf12bFqPuL//uaJH9Vn/6blTP64Af2dtfn9uxFkpqfx78alLJv2OojhW7dWrJ47XvZ5fM+6PLl/nYUT+nLEazUAPtvXMLCRPv2cRMwc1o6gB6+DA/b9/StfdKnFZ63M2bhoGrm5Ocq+uO9lzZo1/PXXX0qzV1oPpbyMMCkpKUq3rSzCr/vScOBX2LX6ECNzG4JO75L12LS0dQtcFy1tXZmYWNZzIS7oHtYN2mDbrDNaWtqc/HkQb34v3kRaj+3tY6wbfkBc8D3iQx8AkJudSdDZ3dg0U5/qz8omJiaG1NRUVbtRpmi0sBkZGQHIHSZdtsEjr0U3PPgRGxdNw7SKJfbOzbhx9giblkxn5IwlbDwTSsOWHZk3thcpSfEc3rYK40qm7A/I5p9zz3l46xKP7lwpYPmP/bcQiURsPB1Cw1YdZdtzc3OY/2VvTM0tWXXEn8kL1nP+8A4Obn7dczx/ZAe/7b3G36eCuXvlFBd8dtKqS1/u+Z0BID01mbDH9/G/dg6Al+EhZKanUbdxK5mNxLgYPJZMZ41PAAcDJTRv14MjXqsAOOK1mgs+u5i5Yhd/eN8mKT6Wzcu+V/7lfQ/m5uaYmpoWfWAxKa2hyPLwBl+n+2dcXDGJ88vGsveLJmhp65AWF4k4N4dKNvbkZKSya4QTWamJWNRrweWVX+O/70+aDJ1BdnoKe8Y04tDUzvjM/IhGg6ain68AaGEYmldDv5I5Oz5zICX6mWy7saUdzYf/yMGvO3Joamf2jGpAJeta1PtwVGlfApXh7u7OzJkzVe1GmaLRQ5Hdu3cnMDAQExOTog/OR1kK26Etf3JoizT7uJmFNXUauvDjWm909fS57PsvHw79khbtpRPyQyf9xIk9G3l6/wZVravjs30NPl6radmpN3/sv/W+0xQg6nkw0S9CGfvDH4hEIsytbOk/ehqXffcxwF26NmjAmOkYGJlgYGRCo1YdSYyLoYajM/oGRoQ9vs/L8FBad+nL7Uu+JL6K5ub5o7Tu2rfAefQNjdDVN2DP+sV07j+cwRN+QEdXWibHd/fftO05kKysDF6Gh9CsXQ82/PI17rN+U8ZlVQml1WMrD8LWaODX2DbrTEZSHK3HLcbAzBLHbp8izsnCwNSCIZsDyM3KRM/YFJdRP2PXsidWzq0RaWkzYM0VovylBT+NLapjaiedA6vR+iOq1nldANOkWi0+XnoMAB19QwZ73CczJR4Tq5p0nuVJ5eqOALiM+plaH/QlKzUJXQNjLJ1awn+jNn3/OIuheTWZzfbfrsXEskaZXKPioMg9lJqaSnJycil5pJ5otLAB2Nvby92mzIYiJRJ6D5/C+DkrC90d9/IFdRu3LLDNzMKapPhYeg4ei7mVLYe3/MXf/5uKQ4PmTF3iSW2nJkWeNi46gspVLAoM0ZqaW5IUFyPzy9TcUrZPW0eX3BzpMGGrLn24e+UUL8NDada+JxIk+F8/x83zR/lo6PgC5zEwNGblofsc3rqSXyb0A2DIxB9xG/c9cTGR+J3y5t7V07LjHZybkZmehr6hUZF/g7qiqeH+AOYOBe+9/JlFjKoWjJDNX3dNS0ev0CwkhlWsMaxiLfuso29EtXwlZgzMLDEwk96nlvVbFWhrUbdFoT7aNO1UrOME1BuNHopUFHVZx2ZuXZ3w4EDZ59ycbCLDnmJhU4OAmxcxs7Bm3qZjrPd9QnV7Jw788/vbRgqZXzS3tCEuOoK0lCTZtudBD7GwKfrNtVXn3tw458PdKydp2rYbTdt24+b5YwTeuUrz9j0LHJv4Khr/a2cZ/d2vbLkUxdeLNrHlt9mkpyZT1coWt3Hfs2jrWRZtPcvUJZ50HzgGPYOyy65x5coVbt5UTnouECb+BQTKCkHYFEBdhK272xiO71rPxaO7SYyLYfXc8VStZodzi3bcvujLipkjeXzvGlmZ6USGPS20t2ZoXIk7l0+SmpQg21bd3gnHhi6smDmSuOgIbl04xn6P5Xz8WdFJmxu7duHJ/etkZaRTrYYDTdp05Yz3Vhq4tJcNM+aRnZXJn7PdObpjLRnpqTx78gBrO3sMDI3pMegL1i/8iruXT/Ii9DFLpw3j3OHtZZrzbtGiRSxatEhp9kprjs3V1RV3d3e5h9QFyh+KvBxpYq5IjR6KTEpKYv/+/YwaJd/EcVkNRdo5OmNgaPzO/Q1c2jN9uReHtv6Fz/Y1WFWvzXyP44hEIoZNmYuWlhabl32PSEuLjn0+pd/IbwCp+OjqSytDj5+zkhN7N2FTqw416zaS9crmrD/EhoVfsXz6Z+jo6jFh7mpadPgIgHpNXTExez15X7NOAyz+WzSuq6dPj0FfUNmsKiAVSZeOH9FlwEjZ8bWdmmBRzQ4Lmxos2nqGXasXctFnN9Y17Jm/6TgiLS16D59CeloKu9b+Ij1nk9aMnL5YWZe2WGi9GfZdQkpL2BwcHFi3bp3S7QpUDCQSicaNFGi0sJ05c4Zx48bRq1cvuYqNllWPbdCXs4o8pm3PgbTtOfCt7draOnz61bxC2/xvy+t5qy79R9Cl/wigYBb/SqbmTF/uVWj7aUu3FPRz/OwCn92/L1h5+qe1Bwt8HjHtdcJb5xbtmLfpWKHnGfTlrGJdg9JC2f/HwlCkgCoYPHgwtraaleVHo4VNUYQkyAKKog5D2MXlpuc8VbtQ4chKSyr6ICUzceLEMj+nqhGETQHUZY5NoHxRXnpsDg4OANzcPF/FnlRM9PQNFE5/Vl7uIVWj0cKWN6Eq78SqlpaWcHNpADo6Okot91Fac2xXr15lzJgxPHz4sOiDi0H37t2Vnp4rISGBS5cu0bt3b6XaBfDy8mLIkCHo6uoq1W5UVBT379+nR48eSrUrUPpotLApipaWljAUqQHMnj1bqQ/L0nrbDgkJISgoiJSUFLWNjNyxYwenT58uFWFbtmwZpqam9Omj3Az8f//9N2FhYYKwlUM0Otw/721cR0c+fa8IQ5FzRnenn5PorZ+zB7eRk51V6L5+TiKSE15x6l9PBjTQITjgdgGbR3esZfbwipNzr3Xr1jRv3lxp9kqrx6bs6M3SwMvLCx8fH+Li4oo+WA78/PwICAhg9+7dSrUrFovZtGkT3t7eZGcXXYWgrFDk5WjChAksWbKklDxSTzS6x9apUyc8PDyoUqWKXO0qgrABfDhkHB37FizMWMPBWTY0+/WiTVjXcCiw36iSNHeiODeX32eO4E/vO2hra/RtJBelcd+o+70YGhrKtWvXANi9ezcTJkxQmu0NGzYAcPjwYTIyMjAwMFCKXR8fHyIiIgA4fvy40nuDZcnjx49libI1BfV/1StFTExMGD58uNztKkpUpHUNBxq37lzgx8zCWvZG6NjQ5a392to6iEQi6jR0ISszg30bflXxX1F+0NSJfw8PD9nvXl6FLyFRhKSkJFlPLSUlhcOHDyvNdp5gAuzcuVNpdgXKBo0WNkWpKD22kqCrb8B3v+9g5+oFRIQ9UbU7pUJcXByJiYlKs1eahUbVFYlEwrZt22Sf/fz8CAoKUoptT09PMjMzZZ/37NmjFLvPnj3j2LHXayuPHDlCenq6UmwLlA2CsClARemxbfltdoH5s4UTCmbf/6Z/swL782qo5VG3cSv6j57G79+NqJA9kXHjxil1DVBp9djs7e1xdHRUy8CRs2fPEh4eTsuWLXFwcMDExIStW7cqxfbatWvp2VOaf7Rbt24cPnxYKVnsN27ciJGREU2bNqVLly5kZGRw5MiREttVBkJKreKh0ZMjKSkpHDhwQO7hyIrSYxs5ffF7M3v86X0H+/pN39qeP0XP598s4Jv+zTi4+Q/09JUzv6Eu5OQov7Bpadw3bdq0UVqov7KJjY3F1dUVZ2dnbty4weeff05GRkaJ7WZlZTFs2DCaN2+Or68vffv2xdTUlJcvX1KpUqUS2W7RogW//PILf//9N/r6+kydOrVcv7hpYkotje6xnTt3Dnd3d+Lj44s+OB8VRdiUgY6uHjN+38H2v34m+kWYxr0ZyoOpqSkSiUQpD/bywuDBg7lw4QIGBgbUrFmTlStXKiVCT09Pj59//lm2mLxFixbs3LmTOnXqlNj2gAEDmDJlCkZGRtja2rJ48WIGDx5cYrvKIDMzEz09vaIPzEe9evVo0KBBKXmknmi0sOW9kcsbzltRhiJLQn4Bs6/flAHu0wsvi1OOUfbLS7Nm0qKYwcHBSrVbHjh//jyNGzdWul0/Pz+0tLRo2vTtkYWSkpWVJbeIlCaRkZGkpqZSv359udqtW7eOWbNUl3NVFWi0sCmK0GN7u2rzkIk/UrNOA40b8pCHvLdmX19fFXtStuzbt4+AgABatFBu0c6MjAx+//13mjVrhqGh8uv0JSYmYmlpWfSBZcSFCxeA1y9IAu9Go+fYFKUipNRa6Hnynft0dPU4GPjuv6/bwNF0Gzi6wDZtbR3+9L6jLPcqJJaWlnz//ffMmTOHTp06KW3xd3BwMEuXLlXb0jV//vknbm5ufPLJJ0qzmZ6ezrhx43jy5Ak+Pj5Ks5tHYmIiz549o02bNkq3rQixsbFMnTqVYcOGYWNjo2p31B6N7rEpmisyL2OJpg9HVnTc3NwYNGiQUm0uXLiQ9u3b07FjR3766ScCAgJKbNPPzw8PDw9SUlKU4KFyyMjIwNvbm8aNG3P16lX++OMPpdgNDg5mw4YNNGrUiEOHDuHl5UX37t2VYjs/M2fOxMnJic6dOyvdtrycOXOGdu3aUbNmzQLr6wTejUb32PJ6XfL2vvJSGInFYqUmyRVQL0aPHl0qdo8ePcr69ev56quvWLp0KQ0aNCjRkFd0dDQA/fr1K/P78enTp6SkpLz1XcrbVqlSJerVq0f37t3Jzc1FLBbL/n3zJ//2vN/ftX5s8ODBLFu27K06Y4mJifj5+fHw4UNyc3ORSCSFnivvRyKRyI7LyckhJiaG69evExQUxKRJk1izZo3Mn/z+57V7829SdFuevfz70tLSCAoKIi4ujnHjxvHbb78plFll7dq12Nra0r9/f7nbllc0WthcXFyYO3euXEVGoWCPTdkZxQU0g/Hjx1O3bl3Cw8OJjIwsUTZ9f39/Hj58SLt27co82KFq1arExsa+td3W1hZLS0vMzMyUer569erRq1cvKleuXGB7VlYW06dPZ/369SWyr6WlhY6ODpUrV2bnzp1oaWnJ1oG9+ZN/35vHvWufPMdZWVnRu3dvunTpQtu2bRX+m/bs2YOdnZ0gbJqCnZ0dP/30k9zt8vfYBAQUpWvXrkqxs2PHDvbv38/333+vlou0SxuJRMInn3yCvr4+J0+epGnTppiamqraLQEVotHCpiiCsGkGcXFxaGtrCw9JNeePP/7g6dOnPHjwQO5KHQIVE+EuUABlBI8E3r3KjpXzlOSRQB6Pbl9W2iLxSZMmYWBggKenp1LslRZ5vTRN7K0BbNu2jSFDhgii9h40LXGCxt8JISEh2Nvby9WmpD22OvWcOHrkEIF3rirUXuD99Ordt+iDikF6erpa1eJ6F3379uXJk4qZiLoocnNz8ff3Z/Lkyap2RW3RNFEDDRe2kydP8vHHHxMXFyfX225Jhc17/z6F2qmKzZs3M2rUKFW7UeaUp7WKtWrVUrULKiErKwuJRIK+vr6qXVFbjIyMNK43r9HClpqaCkBaWppc//GatI4tNjaWKVOm0Lt3bywsLFTtTplSnoRNU8lLiycMQ74bDw8PjIyMVO1GmaLRC7QVRZOCR7y8vMjMzGTz5s2qdkVA4C0EYSsaS0tLjI2NVe1GmSIImwJokrDlCZogbOpLYmKixlZ5zhs1ERIlCORHo4VN0ZRamiJsN27cwN/fH4BHjx5x9apmBbu0adMGV1dXVbtRJL6+vowcOVIjqzwLPTaBwtDou0EZKbUqMm9WOt66davaJIUtC3788UdVu1As8u5DZc35zp07l8uXLyvFVmmTmZkJSH1WVj7K0qZ///589dVXZXa+ixcvYm5urlE12TS6x1arVi06d+5copRaFZWMjAy2b99Oz549AejWrRvbt2/XqCKZmsrmzZsJDQ1VtRvFQk9PDysrq3IT9ffkyRO8vLzK9JwLFizgt99+K9NzqhqN7rE1a9ZModpY5ubmgHRuo6KSkZHB2LFjcXJywtfXl08++YRmzZqRnp6uUCJWgdJD2SMHEomEUaNGMWfOHKXaFYAJEyZw507ZlnfKyckpF+sxlYlG99gUpXHjxmhpaXHjxg1Vu1JqmJmZsXjxYllRw+bNm7N48WKqVKmiYs8EBAQE3o8gbAqgq6tLw4YNWbNmTYUejtR0ZsyYUS56LXmBE0JkoEBh5FUM0CQEYVOQH374AX9/f37//XdVuyJQSgQGBiqlEGhp07NnT7Zs2YKhoaGqXREQUAs0Wtju3LlD3bp1FWrr5ubGt99+y48//sigQYO4fv06r169UrKHAqokL/pV3TE1NWXYsGGqdkNATdHW1ta43rxGB4+EhYURFhZGdHS03JGRAEuWLKFTp05MmTKFdu3alYKH6oMminZFX86hbFatWsWxY8c4cODAe9eV7dixg9DQUGbPnv3Wvn379vHgwQPmzp1baNuVK1eyfv16cnNz+eabb5gwYYLS/K+ozJ07VxbwpilotLApg169ehEUFMSdO3e4ffs24eHhqnZJqURFRfH3339TtWpVVbsioMbk5OSwfPlymjdvzr///suQIUPeeWxYWBgPHz4sdN+zZ8948OBBoftevHjBDz/8wKNHj4iIiKB9+/aMHDmywuRBDA8PZ8OGDXz66ac4OzsrzW779u2VZqu8UG6FbcOGDYwePRo9PT3ZtlevXnH8+HE+++yzMvenWbNmsgjCisSdO3f4+++/Ve2GQBGEhYWpNMP/sWPHqF+/Pp999hnr1q17S9hu377N4cOHsbe3RyKRFAhmuHfvHt7e3tSsWfO958jNzUUsFpOQkICJiQlGRkbvHGJLT0/n/v372NnZ4e3tTWZmJmPGjClQNPbChQtcv36dRo0aydZrZmZmcvv2bXR1dfHx8eHzzz8nOjqaWrVqsWPHDtLT0/n888+pXLkye/fuxdzcnN69eys8vymRSDh27BgbN27k8OHDmJmZ4erqqlRh00TUbhIhKyuLc+fOyR6mV65c4fjx428d165dOzp16kRWVhYgrXbct29fPvroo2KfS9MihQTkw9jYuFws/D106JDCc8XKYtOmTQwcOJC+ffty69atAkE3Z86coUePHoSGhuLp6cmqVatk+y5evEjXrl0JDg5m+/bt711IXLNmTSZPnsynn35Kv379WLFixTvL1URERNCnTx8GDBhAbGws+/fvp3Xr1uTk5CCRSBg8eDDjxo3j2bNnTJ8+nc8//xyAmJgYBgwYwKRJk/D19eXVq1cMGzaMLl26EBMTg7+/P3369GH06NG8fPmSJUuWKDS/GRMTw9KlS6lZsyb9+/fn0KFDSCQSnJ2dWbhwId27d6dPnz7MnTsXHx8fue1rOmrXY9PT0yMiIhHXcBQAACAASURBVAIfHx8++OADzMzMGD9+PB9++GGB4xo2bMjGjRvp1KkTu3fvZujQoRw+fFiusWShLInA+ygviYXT0tIASElJUYkQx8bGcvLkSTw8PDAwMMDNzY1169bx119/ATBnzhxWr17N0KFDARg9erTsuzdv3jxWrFjBiBEjAPjyyy/fmfjg9u3bHDlyhPj4eBo0aFBkjcCEhARWrlyJq6sr06ZNw8LCgtDQUAIDA7l37x7+/v7o6uoC4OLigre3Ny1atCAuLg5fX1+aNGkis/XNN98wceJEEhISsLKyYsWKFfTo0YNBgwbRsWNHua6XRCJh06ZNbNmyhfj4eKpUqSKrmZaUlCTzKTk5mc2bN7NkyRK6du3K5s2bsba2lutcIBVRIyMjjcrwr3Y9NoDr169jaWlJ7dq1CQ4OxsXFpdDjGjZsyLfffouzszMbN26Ue4K0Vq1a1KxZU6HAEQEBASmbNm3CwsKCVatWsXDhQlJSUvDy8iItLQ2JRML169dp0aKF7PjWrVvLhO3q1asF9r0r6XRycjJ9+/ZlxowZXL9+nYCAAJYuXcqIESPw8PB463iJRIK2tjatW7cGwMTEhEqVKpGRkUFAQACtW7eWCQhA27ZtuXr1qmwUp1GjRgXs5Ylc3lBmXt5FIyMjkpOT5bpeIpGIWbNmERAQgJ+fH5MnT0ZPT4/AwEBiYmL49ttvOXnyJOfOnSMsLIwrV67w6NEjWrZsSVRUlFznAhgxYgRTp06Vu115Ri2F7eTJk7Rv3x5jY2NOnz79zuHFx48fs3LlSh4+fMjYsWOJi4uT6zzNmjXj6dOnynBZQEBlqDp608PDg27dusk+N2zYEFNT0wI5EfOndHozqcH79uVx5swZdHV1GTNmDNWrV2fPnj0sXLiQf//9t9AeU56wvTndIBaLkUgkb6WYejMh+ptLPfI+vznKI5FISjTy07BhQ+bOnUtgYCDXrl1jzJgx2NraFjjGxcWF69evo62trVAUaFZWlixZtKagdsIWGRlJZGSkbPL55MmTdO7c+a03lcePHzNp0iROnjxJjRo1OHz4MH369JFb3AQEBBTn3LlzxMTEsGrVKubMmSP7GTt2LKtXr0YkEtG2bVv27t0LSIVl7969MsFp164de/bsAaQikff7m1hYWPDixQvZ3F2TJk2oW7cuenp6BXpexcHFxYVTp07JnikJCQmcPn2aTp06KXQNlEWzZs1YsGABHTp0eGufpaUlmzZtwsfHR3gZLwZqN8d26tQpBg0ahIGBATk5OYSHh3Po0CG++OKLAsedO3cOX19f2ZuUubk53t7eHDt2TCVRkfLQr18/jh07pmo35KI8rdP78MMPOXToUInteHp6YmBgICx+fg8eHh64ubm9lRh7zJgxzJ8/nytXrvDrr7/Ss2dPnj59SmhoKGZmZrLj8uaPQkJCiIiIKBC1mJ8PPviAzz77jB49euDs7Mz9+/eZPHkypqamdOjQgYCAgGLPL3br1o3+/fvj6urKwIEDOXToEK1bt+ajjz7i+fPnil+MUqZbt24YGxtz4cIF6tSpo2p31Bq1E7bhw4czfPhwQJoDz9/fHxsbm7eOGzdu3FvbLC0t1V7UAIKDg3Fzcys3i0uvXr1abuqwrV+/nrt37yrF1r59+9DT01N7YXN1dcXd3V0lgSOTJk0qNEzfxsaGCxcuUK1aNWrWrEloaCj379+nUaNGZGVlkZCQAEiTawcHB3Pv3j0aNWpETk7OO5MBeHp6cunSJXJycqhRowYODg6A9KXrzb/dzs6Oo0ePFth24MABHB0dAdi4cSNXr16VLQPIm0OzsrLixIkTBdrt3LlTNqempaXFiRMnsLCwAKBatWpvHV+aNG3alCtXrjBmzJhit9HEXJFqJ2xvUpioKYvw8HDmzZvHxo0bS+0c76J69eoqH/ooLuXFTwAfHx9u376tFFvlJaWWg4MD69atU8m531dhPC9wA6BKlSoF5sKqVatWYF/+e+x9kX+FjRy0bNnyrW2GhoZvDem92bawlzV9ff237vc3j8u/38DAQO6oyJJgYmIi93RLSecByyPl45tbSty8eZMtW7YQHR2talcE1BBVB2UICLyJRCKR+4Vr8ODBuLm5lZJH6ona99gEBAQEBKSIxWK5hxUnTpxYSt6oLxrdYxMQEBAoT7yZjkygcDRa2PJukPJyo0RERHDp0qUij4uMjMTf3/+d++7fv//e9jExMTx79kwhHysSOjo65aLcx/nz56lXr56q3RAoAwRhKx7CUGQ5YsaMGXh7e3Pp0qX3Jlw+cOAAx48f58CBA2/tO3r0KHv27HkrYiwPd3d3xGIxubm5JCcns2/fvnLxcC8Nli1bVi4CSF68eEFoaKjSUmqJRCJCQ0M5d+6cErwTyM/Lly9L1F4QtuKh0cKWV+6iPFQefvXqFT4+PkyZMoW1a9eyfv16pZ8jMjISLy8vWZYCfX19IiIiqFGjhtLPVR4oL2uFlC2+RkZGbN26la1btyrVroCUkkRRKiJs7u7u2NvbM2fOHIXPW97QaGHr3r07gYGBSl//c+XKFU6dOsXo0aOxs7NTis1t27bRoUMHJkyYQOPGjfn1119lC12zsrKYP38+fn5+VK9evUD5kuzsbBYuXMjly5exsbHBwcHhnT0wMzMzrKysWLNmDVFRUTRq1Oid/ickJDB27Fi++uorNm7cKMsW8+WXXwIQEBDA3r17uXnzJvXr18fd3R0nJyfS0tL49NNPadSoEX5+fvz44494eXnx8ccfs3XrVlJTU3F3d6devXr89ddf6OnpMWnSpApZEkhZKDt681210tSVbdu2yda+VnQUEbbQ0FBycnJKySP1RP3HWUoZe3t7pds8e/YsCxYswMHBgZ49e7J9+3ZSU1NLZHPDhg2MHDkSe3t72rRpU+BtevHixXh7e7NmzRpGjhxZYE3Tb7/9xq5du1i5ciVjx45lw4YN71zTYmhoyJw5c5g6dSrHjx/Hx8fnnV+inJwcjh49yu7du9m6dSuzZs3i66+/JioqipcvX9KlSxfS09P5559/cHBwoHXr1oSEhCAWi/H19SUsLIxZs2bh5OTEjRs32LBhA56envz000+4u7uzZs0a/vnnH9q1a6f2C6QFVEdERASTJ08mIyND1a6UCYqE+2siwhVSAsHBwezbt4+FCxeycOFCoqKiGDBgAPr6+pw9e5bRo0djY2PD2LFjOXPmjNz2/fz8iI+PZ8CAAQCMHDmSNWvWyPZv376dX375hXr16tGtWze+/vrrAvsWLlyIs7MznTp1Yvr06e8UtlWrVrFu3TpmzpxJSEgI6enpnD9/njt37rx1bF4i2e+//x6Q9n6trKwIDQ3l/PnzVK1alcWLF2Nubs748ePp1asXW7dulc3f/e9//6N79+6yhK95RSA7duyIrq4uEyZMQCQS0atXL4KDg0lPT5f7upWUa9euKW2xt0DpsG3bNtLT0/n3339V7UqZIMyxFQ+NHoosKQ8ePGDChAn4+fnh6OiIra0tIpGIpKSkApW9QTpc+OrVK1lhVHnw8PAgNjb2rXpKZ86ckRVAzN/zzOsFAURHR1O7dm3Zvnr16hUqrkFBQcycOZMnT55QvXp1goKC+OSTT9DT0+PLL79851Bg/pI/enp65OTk8OLFC5ycnAocV79+fcLCwmSf8+cLBArkCNTR0ZH9rTo60lv0XVnfS5PFixejp6fHrl27yvzc8mBvb4+jo2O5KIqqbPKyBm3durVcpNMrKYoImyam1NLoHltKSgrbtm1TqO3+/ftp3rw5VatWJTY2locPH3Lq1ClOnjzJtGnTCAkJITMzE2tra3788UdCQkLYv3//WwVTiyI1NZXdu3dz8eJFsrKyZD+jRo2SBZDk9ZTyiI2Nlf1ubW1dYN+78vA9f/4cY2NjWQqzDRs2kJKSgr+/v6xAZH4K6/Xlpe6pXr16AREDaTSYmZnZO9sVZqeo85U2YrG4XMxNtGnTptzNiymDmzdvyu7tU6dOERERoVqHygBFhE1IqaVhnDt3Dnd3d+Lj4+VqFxkZyfjx4xk6dCgHDhygcuXKBfbr6+vTtGlTdu/eTUhICD///LPCOS93796NlZVVgbx7IK1CfODAAaKionB3d2flypVkZWWRmJjI6tWrZce5u7uzevVqMjMzSU5OllU1fpMWLVpgYGDAli1bAAgMDERLSwtjY2MWLlwol8+9evUiNjZWlmE/ICCA7du3M3jwYLnsCAi8jzejNnfs2KEiT8oORYStXr16siTOmoJGD0XmvY2/WXSwKDZt2oSxsXGBea78DBw4kIEDB5bYP5AKzIwZM97a3q5dO/r168fly5eZPn06GRkZODk5YWpqytixY2W9tq+++orU1FScnZ0xMTFhzJgxha6lqVy5Mr6+vkycOJHJkydTtWpV1qxZg62tLZMnTyY2NlaW0Rykw44dO3YsMJHdpk0bzMzMMDEx4eTJk0yZMoWRI0fSvn17Nm3aRJs2bUhLS5PNo+XRqlUrqlatKvvcoUMH2bCarq4uHTt2lA1JliVCrkj1JTs7m+3bt9OqVSuuX79O8+bN2bx5M9OnT1e1a6WKIim1VJUgW5WIsrKyNKuPmg9vb28GDx5MeHh4gbmioujVqxe1a9dm7dq1Cp23UaNGfPTRRyxfvlyh9gLv5vvvv+fgwYNKGZrr27cvenp67Nu3TwmeCSiTsLAwBg4cSL9+/fjf//7HvHnz8PX15eDBg2+NoFQk2rdvT/369VVSkaQ8odFDkYqm1Lp8+TKNGzcuDZcE1IjyklIrMDCw0PqEFZlatWpx8+ZNunTpAsCgQYM4e/ZshRY1EML9i4tGD0UqQlZWFunp6RoZgaZpzJ49u8CQqbpy69YtNm/ezIoVK4T7soIjhPsXD40Wtry3cXnmb/Kii4Sbq+LzZsCOuiK8wWsOigjbhAkTqF27NrNmzSolr9QPjRa2Tp064eHhQZUqVYrdRhA2AXVD2UEuhw8fLjcL0/OWlaxZs6ZAAJI607FjR4Wr0isibI8fPyYtLU2h85VXNFrYTExM5M4xJwibQEVn0pSviYoIV7UbcvGuCGV1xKVVa65cuqhQW2EosnhotLApgrKEbd++fYWmqhIoGUFBQbKqDSUlLi4ObW3tAllRNIHcnBxcRv2My+h5qnalWIhzstHSUf+5UIDzy8eRE3FL4faCsBUPYXBeBXz++ec4Ojqq2o1iU56yFjg6Oiot0/ukSZP45ptvlGKrNMkLGNHUwJHyImrKQFFh0zQx1PgeW0hIiFwZ/pXRY5s9ezazZ89WuH1ZM23aNFasWKFqN8qc9PR0uRfvq4K+ffvy5MkTVbshUAYoEu6vaaIGGt5jO3nyJE5OTqSkpBS7jabNsQUGBrJ69WoCAgJU7UqZU556qvlr8AlUXBTpsRkZGWlcb16jhS2vRpo8EUOaJmyenp4A/PPPP6p1RAWUJ2ET0AwUSanl4eHB0qVLS8kj9USjhU0RNEnYcnJy8PLyAqR13crDsJyAeuO3fiaHpnYmMfztodOzv47hxM+DSmTf57uepMaULKIz6PRObm1ZUCIbpYUiPTZLS8u3Sl5VdARhkxNNErbjx48TFRUFQExMDD4+Pir2SKAwgoODmTBhgqrdKBavgu4R+/gmwef2FNieHBnCE9+tvHxwpUT2I++eJzujZNXqU6KfERfyoEQ2SgshKrJ4aLSwKZIrUpOEbfPmzRgYGADSUjybN29WsUdli5ubG4MGlawHURb4+fnh4eEh11yxKqnZtg8h5/YW2Pb01Haqt+haYFtGYiz+/67k5ub5PPHdijj3dW28jKRX3PFazJ3tS0iJflagnUgkfaxlJMQQceesrF16/EseHf6bBwdWk/YqskCbV0/vcNNzHo+Peaq1eKizb+qERgtbnkjJM5eiKcIWGxvLwYMHZTXU3Nzc8PHxKVDEtKIzevRoPv30U1W7USTlLaVWtcbtSY2NKCBIgUf/oU631xWwMxJj2evemPjQByCRcHvb/zgxV1oKKvrRNXaPciY7PYW0V5HsG9uctLgoWVuJRExGQgzeX7UjPsQfLW0d4kL82ftFU0IvHyTq/kX2jGlEXIg/AFH3LnDwm44kR4YQcHAd93b/VkZXQn4UEba1a9fi7e1dSh6pJxod7u/i4sKIESPkKlmjKVSpUoX9+/cD0oKOAwcOZOjQoXKlHxMoG8pb3TiRSIRj12EEnd5J02EziQu+h35lcyrZOgDSF8fE8Cc06D+RFiPnAlC7/QAOTG4LwPOrPtRu159WY/8HgFWDNqS9isTIvBqIRGQlx+M75xMaDfyahp9MAeDyyq9xGTWXBv0nAXBn+xKurJpK799Ocu3v2bSfuoa6PYYjEYs5NK1z2V4QOVAk3H/Pnj3Y2dnRv3//UvJK/dBoYbOzs2PTpk1ytdGUHpu2tja9evWSZUexsbGhVatWKvZKoKLg2GUIl1dNpemwmTw9taNAbw3AumFbTO3qcttrEeKcbBLCHpKblQFA3R7DOTC5LcFndlOzbW/sO7phUaeZtKFEwskFwxBnZ1K/91iZveiAq1S2deSm5zwAUmNfEPtEmg8z6sFlOs74GwCRlhaOnYcQee9CKV8BxRCGIotH+RrDUAM0RdgEBEoPEdYNPyDtVSQp0c8JOrOLOt0+RYQIkH6vQi95s3WgNelxURhWsaZB/4my1pWr12HYtid0mL4ekbYOJ+cPIeDg66K/jQdNxdyhMX7rZ+Y7pRbWDdti06wzNs06U6f75/RY8LqAbG5OVr5j1fe7LQhb8RCETU4EYdMcZsyYwZw5c1TtRpHklV0qD0VRAZlwOHYdxpVVUzGtXgfDKtYgEsm+V6EXD9B48Ld88NVfNOg3gYykV7Lmd3cuJfTiARy7DqPL7C00H/4jUfcvyWzXbPMxnb7/h8Cj/xBx5ywAlvVcyEpJxLZZZ2ybdSY7LZknvlsAsGnSkcj/jgN4ceuU2n6/FRE2Ub7rqilo9FCkIihD2P63aDGnT51SlkulSl6k3eTJU6hUqZKKvSkeXbt148cfSp6yLDAwED09PSV4VLr07NmTLVu2YGhoqGpXikYiQSLOBcCh82AOTHSl00yP/3aJkUik84XVGrfn2oZZ6OgbkpkcT/RDPwAyk+Oxcnbl+A/9iA97iJa2Do98NtFxxobX9iUSjC2q4zp+Kad/+YwhWx7xwdd/4fPdh6TGvkBLV4+AA2voMH09AG0mLuf4D33JSIwlIymOuKd3sayvnsPuQo+teGi0sN25c4fBgwfLlWdPGcK2zcuLqIQ0KtuqfyJkSa4hBmaWRGYb8jJJ/b9QSRFBvIiMVIqwlZdoQ1NTU4YNG6ZqN4pFm4nLMDC1AMCqfmv6rDiDlbO0oGtVx6b0mC8dHqz/8ReIRFqkvAzDqn5r2k76jZjAm4hEImyaduKjJUd4cfMkiER8uOggVvWlNj5e7ouJVU0AGvSfiFktZ3Iy0qjq2JRBm+4SduUwqdHP6TF/L9VdugNg6dSSwZ4BBJ/bg0XdFrQY8ROZKfFlfWmKhSKZR7S1tctPb15JaLSwhYWFERYWRnR0dLEjI5U1FOnQaRBtJ2teYuHS5uraGSTdOKAUW+Ut2rA8YO7QpMBn22adZb/rGZti3bCt7LNTrzEFjs2/r1rj9lRr3P4t+zZNOr7TvmEVa+p//EWhfulXqoJzny9ln42q2rz7j1AhivTYVq5cKVuPqilotLAJCAgIlCcUCfd3cnIqJW/Ul/Ix1qJGCMEjAupGYmIiO3fuVLUbAmWAMMdWPDRa2ISUWgLvw8nJCWdnZ1W7USS+vr6MHDmS9PR0VbsiUMoIwlY8NHooUpGUWgKaw/Lly1XtQrHImwvMzc1VsSfK49nVIwDUbNO7wPaMhBhSYsKxqNv8rTbSfc+xqNui1PwS52QT5X8JmyYdEakguEgRYbt48SLm5uY0aNCglLxSPzS6x1arVi1q1qwpV0otVffYcjLT2dBFxOZ+VeENQX4VdJcNXURc/GNykXbO/erO7W3SlEQp0c8Ju3wQgOfXjrF7dOFfgPAbJ9g1onTH63OzM9nQRUR6/MtSPY+AehPo40FyVCgADw6sxv/flQC8uH2ai39MKrRNxN1zXPi9dKscZKbEc3haF8T5F3SXIYoI24IFC/jtN/XNf1kaaLSwNWvWjKdPn8rVRtXClnfe3OxMIu+dL7Av+OwedAyM5fbt9rb/8TLgKgBWzq3pMkuzsviXdyp69GbU/YvkZEqLATt2GcqA1SUrbVOeUUTYcnJyNK6WokYPRSqCqoUtj1of9CX43F5smnaSbXtyYhu1271OdBpy4V+MzG1kYdIvH1wmNTYCh06vS7HEBN4gJvAGOvqGhFz4l6oOTYh+dK3QBap5GQySIoN5dvkQYnEuTh+NQb+SNDGyOCeb8OvHiQ8LwNKpFbbNu8jaZqclE3R6J6mvIjCuakvdniPQ1pOGIKdEP+PJiW1IxGLqdP/sv3Np9DtXuSXheSB3d/xKZlIcoZe8MahclW5zd/LEdyshF/dj5exKh2lrqVy9Dtf+nk21xu1lw42PfDaRlZJAkyHTZfaCTu8k4tZpYh5eQ0fPAHPHpoSc20u7b1YVen6JWMzFPybx5MQ2tHX06DB9PfYd3QCIuH2Gq2tnkPDsEbbNOtPxu42ysP4725dwb/dvZCTGYmJdi3Zf/0WtD/oB8MR3K+eXj0MiEdPI7ZvSvHwCSkJ4epRTHLsMlda0+k9oXwXdpZJ1LQyrWMnEN+TcPl4+uCxrE3X/EsFn9xRqL4/EF095cGD1O/cnvwzjxFw3MpPjeXblMEdnfQxATkYqe79oQsiF/VS2deS21yKO/dAXgLS4KLYPq40ECTZNOxH96BoHv5GuN8pKS2L/hNYkPHtEZVsHjs3uo/hFUTKenp5CtKGcZKclE3j0H2ybd+HLMxLq9xnH8R/749BlCKMOxiER5xLgLc3rGBd8v0BdtOTIEBKeBxaw59h1GLYtulK/75c0cvuG9PiXxDy++c7zxz6+iU2Tjow5kkSDAZO54SGtDpAQ9pATPw+i2Wez+GxXGHatP8Jn5odIxLlE3jvP3Z3LGLjhJl+ekfDBV39yZvGo/3y8x5XV0/hw0SGGeQW9VcetrFEk3F8TEXpscqIuPTYr59Zo6ejyMuAK1g0/IPjMbhy6DCHphXxDq5ZOLbF0aol+ZXPsOwzk+bVj7z1eJNJiwOoraOsZkPIyjO3DaiPOzSHw6D+YWNWk00xptYRaH/Rl26DqRAdcRdeoEq5fLqF+n3GANMPE5n7mZKUm8vSkF8aWdnSZLc3bZ1bTmX+/LL3Jf3nYt28fenp6ap/Vo02bNsyfPx8TExNVuwKAtp6BrFyMRd3mmFSrJeuV1XT9mOhH15RynsJExtSuHo5dpf9f9T9+PY/82HcL1g3bYmBmSVyIP+YOjUmPe0ns41tYN2jLJ+uuYWJVk+TIEFJjwslKSUCcm8PTk9tx6DIEu5Y9AGgzYRlPT3opxX9FUDQqUtXPq7JGo4UtPDycefPmsXHjxmK3URdhA+nbbPDZPVg3/IAnJ71w+/s2t7YsUJr9o7NeR6RZOrXEpkkHjC3tZEOIBmaWAORkppEUEURcyH0OTe0sa5ObnUli+BPq9hxBTkYax2b1JiczDfF/uQLFOdkkPAvEytlV1saibnO0tNXjtiwvb8b29vbMnl3yFGLKQs+oMiItaQonLW1ddPSNZPtE2jpI3jMnKKL436sdnznIStm0mbAMk2q10Tcxk+3X0tWX5aVMiX5OfOgDWdkaQJpuKyudrLQkLvw+gfS4KAxMLdCvXFV2TNqrSIytasg+G5lXK7Z/pYEiKbVA8yK/1eMJoiJu3rzJli1bWLRoUZmn1FIGjl2HcfyHftTtMRzT6nWkc135M3m/4WNuVoZcftf+oG+Bz+/8ckgkiLS0sarfmkaDphbYZVajHs+uHuH8srG0mbgcc4cmVLZ1wKOXCUgk6BqakBwV8tqUGgVCVPSgjNJCwuv7JC+pcb4NsuFzLW0dxLk5sl2ZyfGFlowRibQKnXMdcySpwOfQS94Fzp0fY4vqVG/Zg47TN8i2vXxwBbOaTtzf+ycikYhBm+6BSERC2ENCzu9DIs7FqKoNieGPZW0S5RwRUTaK9NgmTZqEqalpKXmknpSPV1I1Qm2ETaSFRd0WaOsZcHHFJNnwS/4HgK6hCXFB9wBp7yhvbdCbaGnrvLV0AMC534QCP+/D0qklr4LvYW7fCNtmnalkXYtT84eSnhBDxO0zVGvSkTrdP8fcoTFP/hvKkSDBumFbnvkdJSs1EZAGvOR/2AlUXCrbOhJ2+SDinGziwwIIf8cwuI6hMa+C7hYQGAAtHd0CP++jbo/hBJ3awaun0sK5T09t5+j3vRCJtKQvfNo6iMW5ZCbHccPzZwDE2VnU+3AUoRf28/j4ZiRiMXd3LVPCX644igjboEGD6NGjRyl5pJ5odI9NEVQtbLJF5XmlP7oM4e6OpfTqeEy2Pe+Yuj2Gc/zH/hyY1IbM5DjM7RsXatPSuTVnF49CIhYXiGSUB8cuQwk6vZO9XzTB1K4e8SH+1GrXj6oOTchu158j3/XkxFw3MpJeYWReDQMzS1Kjn1OzbR8cuwzlwERXDM2roa2rj46BsVoXe1RHwsLCqFWrlqrdQNeoEtUatZN9NjSzwrKei+yzsVUNqtg3AqDVuEWcmOvGP70r49xnHK4Tl8nWruXHvv0n3NnxK09ObMO2edcC9vJjaGZZYJ+2rp4satjcoTE9fznA2SWjSQx/QnWX7gz8+xZ6Jma0GDmHS39MxrO3KYZVrHAZPY+c9FTSE6Ixq+VMz/95c2vLQq6snkbTT7/HtnkXlSzOBiHzSHERZWVladbgaz4OHjzIoEGDCA8PL/ZQZHBwMPXr1+fYsWN07dpVofM6N2yEUdOPFcruLxGLibx3nmqNPkBLUChgUQAAIABJREFUR4+MpFckRwTLwvOTIoKQiMWY2tUFpFFqr57eoWqdZuRmZZCeGEOVWg1kD5BK1WoD0mgys1oNyM1KJ+lFUKHh/pnJ8SS+eCIrEZLni02TDtI5FYmEqPsXEYtzMahsXiCTe8rLMJIiQzCxtKNy9TrEPrmNUVUb2ZxFTkYqSRFBmNs3Jsr/ElbOrkW+hRdGXnb/x48eyt32TYYNG4a+vj6bN6v3ur5Dhw7h5uZGVpZyFg1Xt6tJzV7jcRk9Tyn2BF5zfvk49CNucd3vqkLtra2tmTFjBt99952SPatYCD02yleuSJGWVoFSHAaVq2KQb7L7zRpvukaVqNakg+z3vICPPEHLw+K/N10dfUMs65sXem79SlVkolaYL4hEsnO9iYl1LUysX/co3kyJpGNgLBPCwsqRqII1a9aUizpWaWnSxcspKSlqExkpUDooEu4fExODkZERxsbGpeSV+qHRc2xGRtJorXJReVigzDE3Ny8Xk+6aFvGmySgyFOnu7s7MmTNLySP1RKOFrXv37gQGBsr1lqvqHpuAwJsIwqY5KCJsqampJCcnl5JH6olGCxtI1wDJgyBsAgICqkIIHikeGi9s8lJehS07PaXQ35VhMykymAf7C8/dV565du0at2/fVrUbFZ740AdE3j0HSAOSArzXlNhmclQoz/2OAhB17wIXV0wssU11QBC24iEIm5yUR2G747WYhwfXAdKaVfvGvV3LSl4eHf5blq4oKzleaWmS1InFixezZMkSVbtRJA4ODnTr1q3cBo5cWT2NxOfSNWoxj29w03N+iW1e3/ijbM2agalFqdZoK0sUETZR/qQNGoJGC1tSUpLcodzlUdhin9yS/Z6RHEdq9POS23x6W5YlxKKeiyzXY0VCLBaTk6P+i8VdXV05evSoqt14LxJxLmGXD3Fz83zu7PiVtFcRgLS3n5kcT0L4Y5IjQ4h9fAtxbjYRd87KkgbEhwVwb8/vBJ/dTW52psxm9EM/MpPjCT67m1tbFpIY/gSQps9KT4gmKSqExPDHGJhZYuH0en1bdloyT09tx3/fnyQ8eyTbnvIyjOSoUF4+uMKd7UsIOb+vDK6MfCiSUksikWjcPKxGh/ufOXOGcePG0atXr3KZUis/4TdOcHfnUiS5OaTGRqCtp0+f307x8MjfBJ/bS/C5vaREP+PRkY2yYp4j9r8kOz0Fv7XfkRQZDEiTF7uM+hmRljb/fumCQ+fBxIX4E/v4JuLcHAZuuEnw6V2yDO0p0c9w6uXOpT+nMHRrIDmZaVxdO4Poh9dAIqZSNXtaffELZrWcub/3D2mJHAMjUl4+I+L2aXou+JeabdUno39+hJRayuP88nHShdEtupHy8hl7xjTCbeNdkiOCyUyKI/F5IEmRIcQ+vkludhaRd85i06QDwWf2cOG38dh3GsTzqz7c2b6EfisvoqNvxOlfPkdbz4Aarr1Ij3/JnjENGbDGj9ysdGmhWomExOePyc3O5M72JXyy7joJzx5x6JtOWDi5YFjFmuubfqLFyLk0HfYdj3238sR3K6Y16lHVsSnnlo0l+uE1XMf/qurLJ0ORcP/Bgwdja2tbSh6pJxotbBUFiVjMyflD6PfnecwdGpOTmc6+sc14fv04zT//gVdPbmPl7EqToTNoMGAy+75oyhe+GSCRcGR6d5x6udNjwT6y0pI48m03DEwtaTTwK0Ba5PGjxYeRiHM5MKkNj49tptHAr4h9ehtdw0q4jv+V8BsnZL5c3/QTUfcv0u/P8+iZmHFt4w8c+6EvQ7ZI34xDzu1l2PYgjC2q47/vT254zlNbYRNQDuKcbHIy0+n161F0DaXDpbGPbxLz6Br2Hd2oXN2RWm37Ur1FV3SNTAi7dBCX0fPITk/h3LKxfLLWjyq1GwJwccVE7u1aTouR0nI0Dp0H4zJKmgIrOTKEqPsXaTTwK8ztG2Nu34iabfsU6HldXTOdRm5f03z4jwA06Dueg990pPF/OU4lEjEf/nIAkZY2larVlr3AqQuKDEVOnFgx5hflQRA2OVHHHptIS4vRh+JJiX5GxJ2z5Gamo6WtU2SQSOqrCOKC72NWs7506Afp4ujwG77/CZvkdQ5KLW2q1mlGRkL0e21GB1yl6dDv0Psvy3rL0fO5t2s5yZHSRMfVmnTA2KI6IB3CvLtreQn+coHygJaOLh9M+QP/fX+SmRxPlP8loh9dk2XmfxeJ4Y/JzUrn4h+TZdtSY19g/l9KLiSSAov5jaraFmkz/tlDmn72veyzlbMrErFYmohbIsG6QRtZZQJji+pF2itrhOCR4qHRwpZ3g5SnzCPv4tzSLwi/fpwq9o2wbtAGXaNKhSY2zk92ahKIREQHvE7vo2dsSq3/elASiURq5z9EIq0is+9npSSiX/l15hItHV30TaqQkRgLIHtjB6kgq1M2/zfR0dEpF5lHrl69ypgxY3j4sORpxEqDtLgo9n3RFOe+X8pyg15eVZxK1CK0dPTeSu2lZyxdNC9BIhMhyPtOFj2XJM5+nXpMLM5FIhEj0tKW/Zufd1ULUBWCsBUPjRY2RVBHYYsLvkfQ6R0M8wqSlboPu3zodcmQfBn/82f/N6lWC5FIhGO3TzGr4QRAxJ2zxawSXHiklaldXWIf35QVlsxIekV6Ygwm1jWJfuin4F+oGmbPno2urvz5KsuakJAQgoKC1DalVlzQXRCJaOm+EJDW74sPeyiry6el/foa5//d1K4uIpEWOekp0uFqiQSfmR9SrUnHt1Kyvcm7avpZ1G3B4+Obqe7SHYCnJ70wsbSjUjX51rOqCkHYiodGC1ve27iOTvEvgzoKm6F5NSQSCc+uHqGyrSNBp3eS8DyQnIxUQNpLCr3kjUW9FpjVdCY3J4vbXoto+MkUmg//kTOLRuD65RKyUhI5t+wLOuSrWfUu9Iwq8fz6cWyadkKU7yHSbPgP+P40AHP7xuhVqsKd7Uuo1baPbPixPNG6deuiD1ID1L0gqpWzK3rGlTm/bCxGFtWJD32ARZ1mZKUkAGBRrwU3N88nJyuDuj2Gk5uThfeUdvRaepQO367Dd64bdXt8zquge2SnJdN+2qdFntOyfitubVmIRCLGrGZ92XbXCUs5+FUHDn/bFRPrWgSf2UXPhftVlq1fXhQRtgkTJlC7dm1mzZpVSl6pHxotbJ06dcLDw4MqVaoUu41aCpuZFZ1mevDo8Aa0dPWp22M4jl2HyubYmg77jssrvyE1NgLb5l1pOXoe8SEPyMlIo+WYBVS2dcR//yoyk+JwnbAMh06DAGjQb0KBh0KtD/qiYyDNr9lgwCTiwwJIjgrFrvWHsmATq/qt+WjxER7sX0l2eir1P3andvsBAFg3aCPrUQIYW9agydDpZXKNKjLqHr2pZ2LGJ+tvEPv4Fjr6hrQcM5/kqFBZ6H5L94XUcO2FvkkV9CtVYYhnAAnPA9HS1qVuzxFYOrcm7VUk9UQirBt+IKv60G3ODtlIA0CLUXPRNZQOnTf8ZAqW9Vuho2+EUVUbKtlIe2SVbRwY/M99Xv1Xp7DtpN/QryQdOnf6aDQ5mekye1YNXOkyS70qOygibI8fP5YlytYUNLpsjSLcvXuXVq1acenSJVq1eru0S3EoSdkagfejzLI15YUdO3YwatQo4uLilDIUKZStKT1KWrZGX1+fNWvW8MUXXxS7TdeuXbGzs2PLloq31vRdlI/+t4CACoiLiyMxMVHVbggIyBDm2IqHRg9FKoI6DkUKlA7jxo1DX1+f7du3q9qV92Jvb4+jo6NaBo4IKA9Fnz1CSi0NJCQkRK7jBWHTHHJycsjMzCz6QBXTpk0btQ31F1Aeij57NDGllkYL29GjR3FyciIhIaHYbQRhExAQUAWKPnvq1atHgwYNSsMltUWjhyKzsrIK/FscBGHTHNQ92rC0EIlE0kw0nvNU7UqFI/bxLaorOGKs6LNn3bp1ip2wHKPRwqYIyhA2bW1t7u/9g/t7/1CWWwL5qOtUv+iDBN5Jx67dCX8eBkFnlGq3tAIfSjOgQtm261ib0KK5YiV0hJfq4iMIm5wo4+b6ffky/PyUn4WjtDJPlGZGi9Kw7erqqlR76k5wcDBLly5V2pv59s2blGInP6Ghofj4+DBp0iSl2542bRorVih/6UxMTAxbtmxh+nT1WGuZ9+xR9wX56oBGC5siuSKVQc+ePenZs6dSbd6/f59Nmzbx66/KLbEhkUjo3LkzZ8+eVfp1CgsLY8GCBUr3WVm4ubmhr6+vajeKxM/PDw8PD5YvX662kZFbt27l+PHjShe2O3fusHbtWmbPnl3s0lPFZdu2bWopbEKPrWg0WvrzbhR5IobU9eby9PRk586dZGdnK9Xu+fPnuXLlCqdPn1aqXQAPDw/27dtHSsr7qxCoitGjR/Ppp0Wnb1I15eENfuvWrVy7do3Q0FCl2xWLxWzdulWpdkF6fz58+JBbt24VfXAZoOizZ+3atXh7e5eGS2qL+n8jShEXFxdGjBgh15ueOgpbdnY2W7ZsIS4ujkOHDinVtqenZ4F/lYVEIsHT05O0tDT27VO/SsXlCXUPcrl06ZJM0P755x+l2c3JyWHXrl0AeHl5Kc0uSDMMBQYGloptRVH02bNnzx6N+45ptLDZ2dmxaZN88wnqKGwHDx6UZchQZtqcpKQk/v33XwAOHDgg17KIojhx4gSRkdIqApqU6kcTyd+b2rx5s9LWVB0/fpzoaGl9QH9/f+7evasUu1DQ5507d5Kbm6s024qijs8edUWjhU0R1PHmyt+bOnbsGDExMUqxu3v3btLTpUlhMzMz2blzp1LsQsE39wsXLhAWFqY02wLqQ0ZGBvv27ZPVtouIiODChQv/b+/O42pM/8ePv9qRSIsSimIqJUT2rZE0Za1kZxhjm8GMdZhhzFg+GDOMmbEOQvZtLM0w9hYVoshkKO2LoiiStvP7o5/760xZUjkt1/Px+Dw+zrnPfZ33Od1zvc9939f1vsqkbS8vL2llDlVV1TKrEJOXl8fevXulmFNTUzl16lSZtF0aFbHvqahEYiuhinZwJSYmcurUKerXr4+WlhbKyspldga0Y8cO6TKtnp5embX74pKpgYEB6urqaGlpsXXr1jJpuyxNmzaNuXPnvvmFCvZiwEhFHDhy/PhxHj9+jJOTE02aNMHIyAgvL69St/vo0SOOHTtGnz59AHBwcMDLy6tMzqz+/vtvUlJScHR0RF9fHwsLizKJubReXHJ+l76novRX70u1T2yVvaTW6dOn0dDQoGfPngC4urry559/lrrd5ORkgoODGTJkCACDBw8mNDRUunxYGhcuXCA/Px8Hh8LFHocMGYK3t3ep2y1rMTExREREKDqMN+rXrx93795VdBjFMjU1Zc6cOWhpaZGTk8O3335L9+7dS91ubm4uEydOxMnJCSg8PsePH18mJdAaNmzItGnTMDIyIj8/n6+++ko6VhXpXYf7V5S+6n2q1ontzJkzmJubl2hUXkVLbGPGjCEiIoJmzZqhpaXFTz/9xN9//13qdg0NDUlISJAS25AhQ0hISKBBgwZv2PPNXF1diY6OxtraGg0NDb777jsCAgJK3W5Zq0z19UxMTBQdQrHatm3LkiVL0NfXp2bNmowdO5aRI0eWul19fX1++uknLC0tgcK5i9999x21atUqddutWrVi1apVGBgYoKqqyvDhwxk3blyp2y2td+17atWqVSHP5stTtZ7H9vRp4QrTWVlZb/2HV1dXByjzYfWl8eKSXl5eXpnO5dHW1pY+r5qaGtra2mXWtoGBAbm5uWhoaKCvr19m7ZalypTYKjoDAwMePHig6DBKJDk5uUx+yJWV5ORkgBL/N75169YySfiVSbU+Y3sXVlZWABWumrqlpSUpKSmkpaUpOpS3dvv27WpXnLW6atWqFWlpacTHxys6lLcWGhpKmzZtFB2GJDQ0FGVlZdq2bVui/fT19dHU1CynqComkdhKSFNTkyZNmpTZyK6y0rp1awD8/PwUHMnbycvL49KlSxWq46isHj9+XKYjVsuDvb09jRs3Zs2aylEf1dfXl+Dg4BKtVF2e8vLyWLt2LUOGDKFmzZqKDqfCq9aJ7V1Lak2bNo1Nmzbh4+NTHmG9k6ZNm+Lo6MjUqVNJT09XdDhvtHDhQpKTk5k8ebKiQ3klc3Nz6R5ORfb3338zevRoaWpGRaSmpsbatWtZu3ZtmU/2L2u3b99m1KhRjBo1inbt2ik6HACmTp3KzZs3Wb58uaJDqRSq9T22dympBfD5559z9OhRBg4cyPfff89nn31WIQaTbNu2DWtrazp27MjGjRulkZIVSXp6OnPmzGH79u389NNPmJqaKjqkV1q1apWiQ3grL4aBV4RJxK/j4uLCmDFjmDBhAvv27aN///40bdq0VGcgN27cAArrZZZkxG5YWJjc9yWTyUhJSeHOnTucOHECAwMD+vbty8WLF985ttLKyMjg7t27bN68mcjISDZt2vRO9/z8/PzQ0dGpVpf9lXJycqrtHfKQkBDc3d3faUj3kydPmDhxIgcOHEBfXx97e3vMzc3LIcqSefjwIQcPHiQlJQVdXV1MTU3lOg4VFRXat28vDQp5k+TkZDZv3szQoUNp3rz5O8eVl5dHUFAQ/v7+5Ofns2zZMr744ot3bk/4P/v27WPUqFGkpaVVitFvmzdvZsaMGZVidfKKoGHDhuzevZtOnTq90/6Ojo40bty4xFWWKrNqndjKwp49e/D39ychIYHMzExFhwMU/oJPSEjg2bNnPH/+vEgtQTMzs7fuAJ88ecK1a9cwNTWlUaNG7xyTkpIS+vr6GBkZMWLECHFvrQwdOXKEIUOGkJycjI6OjqLDeSu5ubkkJSWRmJhYqgR348YNZs6cyZYtWzA2Nn7r/f57xqasrIy2tjb6+vrUqFHjneMpS7Vr18bIyKjUIzPbtWtHp06d+OWXX8oosoqvWl+KLAvDhg2rFBXg31VISAjt27dn586d2NnZKTocoRgvpkukpaVVmsSmpqaGsbFxiZJRcV7cAujQoQMffPDBW+/Xo0ePUr1vZRIfH1+qH6WVUbUePCIIr/Ls2TM6duxY4so0imBjYwMU/ggRhJfduXOHtLS0Uv+AqGxEYhOEYuzZs4cbN25Qt25dRYfyRnXq1GHt2rUlnt8kVH0vpoFUpzNUEImNiIgI9PT0Kty8NEGx1q9fj7u7e6W5tDdp0iSaNm2q6DCECub8+fO4uLhgZGSk6FDeq2p/j61JkyYYGhryySefcPPmTTQ0NBQdkqBg27dvJzQ0tNJMJhaEV/npp5/Q09NTdBjvXbU/Y1NVVeX3338nOjq6QhQ6FRQrMjKS6dOn4+7uTpcuXRQdjiCUSps2bWjcuLGiw3jvqn1iA+jYsSMTJkzgwIEDLFiwQNHhCAo0efJkjIyM2Lx5s6JDeSdxcXGYmppy7NgxRYciCAojEtv/9+uvvzJmzBhWrFhR4Uv+COVn2rRpHD58uNIWjW3cuDGtWrXC3d2dH374QdHhCO+Zt7c3EydOVHQYCicS20s2b97Mjz/+SEZGhqJDERSkb9++WFhYKDqMUjly5AhTpkzh66+/pk2bNnh6epKdna3osIRykpWVxdmzZ3F0dGTQoEGoqKgoOiSFq/aDR/5r6tSpRZ4LCAhg5cqVtGjRokhVghEjRsjVO8zKymL9+vVkZWUVaadHjx5FVg/etm1bsUt5mJmZMXz4cLnnzp07h7+/f5HX1q5dm8mTJ8vFdvfu3WIrvisrKzNu3Di5agbp6els2rSJnJycIq8vbtLr+vXri11by8bGhgEDBsg9d/z48WLnV+nq6jJlyhS550JCQjh+/HiR16qqqjJx4kS5EYrJycls2bKlSFUVKFxN+b/J6eeffyYjIwOZTEZsbCx37tzhn3/+wcXFhe3btxdpo7Jbs2YNvXv3ZvPmzUyYMIH169cTFBQk95oTJ05w/fr1IvuW59/Gw8OjSOm5F3+b/+rYsSO9e/eWe27v3r1yq4XHxMQAcOjQIebNmyf3Wj8/P86fP1+k3Ro1ajBlyhS5s/KYmBh27txZpG6skpISo0ePlpsH9uTJE9avX1/sj4VevXrRuXNnued+//33YutYmpub4+HhIffcqVOnuHz5cpHX1qlTh+nTp8s95+3tzfz586UltDp37kxgYCC2trZF9q9uRGJ7C9nZ2WRmZhbpGJSUlOjRo0eRxObj4yMtYvoyfX39IoktICCAe/fuFXltampqkcQWFhZWbFFWLS0txo4dK5fYYmJiin2tiooKLi4ucoktIyMDHx+fYksbFVdeyMfHh9TU1CLP5+bmFkls169fL3YVhOI6z8jIyGJjVlNTY8iQIXKdZ2pqKj4+PsUW/rWzs5NLbBkZGVy8eFGu86xduzYzZ85k8ODBRfavKlxcXHBxcSElJYWUlJQi269du1Yuf5sHDx689m/zcmLLzMws8rd5QVNTs0hiCwoK4ubNm9Ljx48fS5/lv27fvl1szDVr1mTMmDFyiS0hIQEfH58iyVhZWRkHBwe5xJaZmYmPj0+xqyk0bNiwSGLz8/Mr9sfr48ePiyS2GzduFBuztrY2n3zyiVwpvFq1avHBBx8wadIkevbsWSlWonhfRK1I4bVelNTy9/cXJbWECsfHxwcHBwfCwsJKVFJLqNrEPTZBEAShShGJTRAEQahSRGITBEEQqhSR2ARBEIQqRSQ2QRAEoUoRiU0QBEGoUkRiEwRBEKqUcpugffLkSa5cuVJezVd7xVVlEASh/L2qOohQNjp06ICjo2Op2ii3xDZ79mz+/fff8mq+2rO0tCQ0NFTRYQhCtTNnzhypjJVQ9iwsLLhx40ap2ii3xJaXl8eXX37JihUryustqq1Zs2Zx8uRJRYchCNVSXl4e06dPF6snlIM5c+Zw4sSJUrcj7rEJgiAIVYpIbIIgCEKVIhKbIAiCUKWIxCYIgiBUKRU+sbm6uuLg4CD9b8yYMfz555/FrvX0ti5fvsz48eOlxy+PLvzoo49ITEwsVcyvEh8fz4gRI8ql7fLw7NkzYmNjAYiLiyt2/SlBUJSsrCzi4uIAiI2NLXY9wYps8ODBcn3b6NGj+fPPP8nNzX3nNq9cucInn3wiPX65b+vbty8JCQmlivlVkpKSKlTfVuETW0BAAI0bN6ZHjx706NEDExMTxo0bx/fff//Obero6NCuXTugcBHAMWPGSNu6du1a7OKaZeWPP/4ot7bLgq+vLx9//DHm5ubUrVsXd3d3AIYOHUrdunUxNzfn448/xtfXV8GRCtXR2bNnGT16NM2aNUNbW5uxY8cC4OzsjJaWFlZWVowfP75SzDMLDAykYcOGUt/WpEkTxo8fz6JFi965zZf7toCAALlk06VLl3Lt2w4ePFhubZdUpVhBe8SIETg4OEiPLS0tmT17Nt9995303L1793j+/DkWFhYoKSlJz//7778kJyfTuHFjaaXrF3/8nJwcAgICePr0Kf7+/nTp0oXu3btTs2ZNaf+srCzCw8OxsLCQVtx99uwZN2/exM7OjvDwcJ4/f06bNm3kYo6NjSUqKgo9PT2srKzK5XspS48ePeKLL75g9+7d2Nra0q9fP2xsbLC2tsbQ0JD79+8TFhZGaGgofn5+9OrVi+HDh7NmzRq0tbUVHb5QxaWmpjJ16lQOHz5Mx44dcXV1pVWrVlhZWWFoaEhCQgI3b94kNDQUHx8funbtyvjx41m5cqXcqtMViUwmY9iwYTg5OUnPWVlZMX36dJYuXSo9FxUVRXZ2dpG+7c6dOyQlJdGoUSPMzMwAqFevHnZ2duTm5hIQEEBWVhZ+fn507dqVbt26UatWLWn/4vq27OxsQkNDad++/Rv7Nm1tbVq1alUu301pVYrEVhx1dXWg8PKeu7s7DRo0oEaNGly/fh0vLy/atWuHp6cnW7ZswdHRkeDgYAwNDdmwYQNBQUHMmzePc+fOsWfPHlJTU1m5ciVHjx7FycmJ0NBQmjVrxg8//ICnpyeOjo4cO3YMd3d3VqxYQWJiIoMHD8ba2prnz5+TlJSElZUV+/fvRyaTMXLkSPLz87GysuLixYvo6uqyb98+BX9jrxYZGUnfvn2JjY3lf//7HzNnzizyGiMjI9q0acOoUaMA+Omnn1iwYAH+/v6cOHECc3Pz9x22UE3cunWLfv368eDBA9auXcukSZOKvMbQ0JC2bdsCUFBQwNKlS1m2bBm+vr6cOHECExOT9x32O1FSUpJ+WCckJODh4UH9+vWlvm3nzp3Y2dmxY8cONm/ejKOjI9euXUNfX59NmzZx5coVZs+ejY+PD7t27eLhw4csX76cEydO4OzszNWrV/nggw/48ccf2bJlC3369OH48eO4urqycuVK7t+/j7u7O23atCErK4vk5GQsLS05cOCA1Lfl5ORgY2ODr68vderUYf/+/Qr+1oqqFInt5s2bqKmpkZeXR1BQEBs2bJCuI0+YMAEnJyfp9H3ZsmVMmTKFy5cv8/PPP7Ny5Up69+5Nbm4u48aNIycnR2pXR0eHpUuXMm/ePI4ePSr3nufPn+fnn3/m5s2b1KtXj3nz5tGyZUucnJwwNjYmKSmJffv20bFjR1JSUmjUqBExMTE8f/4cJSUl9u7dCxRWYNHV1SUqKgo1NbX384WVQGhoKL169aJevXr4+PhIncObzJgxgx49ejB06FA6d+7M6dOnsbW1Ledoherm0qVLODs706hRIy5duoS1tfUb91FWVmbBggXY29szcuRIOnTowIULF7CwsHgPEb89JSUlwsLCqFmzJvn5+QQFBbF+/Xqpb5s0aRL29vYsWbIEgBUrVjBp0iSCg4P5+eefWbp0KU5OThQUFDB69GiysrKktrW1tVm+fDlffvllkQnPFy9e5KeffiIsLIx69eoxf/58WrZsiaOjI82bN+f+/fvMnTuXLl268ODBA4yMjLh37x75+flkZ2fjpsvGAAAgAElEQVRz6NAhAJ4/f46Ojg5RUVFyZ4IVQaVIbF5eXnh7e6OiooKJiQnLly9n6NChAPj4+LBmzRrptSNGjOC7774jLy+P/v374+LiQt++ffnkk0/YsmWLdKb3Jj4+Pjg7O1OvXj0A6tevj4ODA1euXMHY2BgVFRXat28vbdPW1ubJkydYWVmxZcsW1q1bx8OHD3n48CEAT548kdqqKOLi4ujXrx/6+voEBQVRp06dEu3ftm1bgoOD6dSpEwMHDsTPzw9jY+Nyilaobu7evcugQYMwMzPD39+/xPeHunbtSnBwMHZ2dvTt25fAwED09PTKKdqSk8lk7N69m5MnTxbbt50/f16uusnIkSNZuHAheXl5DBgwQOrfxo0bx9atW0vUt/Xp00fqj/T19enduzdXrlyhefPmQGG9RgA9PT20tbXJzMykVatW7N69W+rb0tPTUVJS4smTJxUusVX4wSMymYz//e9/nDlzhlOnTrFp0yaGDx+OsrIyMpmMgoICuderqakhk8l4/vw53333HWFhYXTr1o0VK1ZgYWHx1qOC/tsugKqqKtnZ2chkMlRUVFBWlv/68vPziY+Px9bWloCAAOrUqcPYsWPR1NREJpO9+5dQTqZMmUJKSgq7du0qcVJ7oU6dOmzfvp2UlBSmTJlSxhEK1dno0aPJzMxk9+7d7zzoQVdXly1bthAbG8u0adPKOMLSKSgoYMmSJa/s21RUVOT6jRePs7KyWLhwIbdu3cLe3p5Vq1Zhbm4ujRB9m/f9L1VVVZ49e0ZBQQEqKiqoqv7fOY+KigoFBQUkJCTQtm1b/P390dLSYvTo0dSpU6dC9m0VPrG9jpKSEjY2Npw5c0Z6zt/fHxMTEzQ1NZk4cSJqamp8+eWX+Pj4oKWlhZ+fn1wb/01OL9jY2HD27FnpIHhxqeBNl0IOHjyIsbExO3fuZPr06dSpU4eMjIxiDyZF8vf359SpU8ycObPUlxDbtWvHnDlz+Pvvv8VoSaFMeHt7ExwczLffflvq+7f29vZMnjyZgwcPlrq47vuipKSEtbU1Z8+elZ57MUK8Tp06TJ48GSUlJaZNm8bFixfR1tYu0re9PNDkZS1btuT8+fNyfVtAQMAb+7bDhw9jZGTErl27+OKLL6hXrx7p6emlmnpVXirFpcjX+eqrrxg7diz3798H4Ndff+WXX34BCi//DR48mAEDBnD//n1SU1Oxt7cnODhY2r9BgwZERUUxbdo0fv75Z+n5AQMGsGjRIlxdXWnbti2BgYFoaWnRv39/oqOjXxlPy5Yt+eabb1i6dCmampps374dfX190tPTK9RlkPXr12Nubs63335bJu0tXLiQP/74gw0bNtCtW7cyaVOovjZu3IitrS2zZ88uk/ZWrFiBt7c3GzZsYN26dWXSZnn76quvGDNmDPfv30dFRYXffvuN1atXA//Xt7m6upKSkkJiYiL29vZy89aMjIykM9WX+7b+/fvz7bffMmjQINq1a0dQUBCampq4urq+9qyvZcuWzJs3jyVLllC7dm127NiBvr4+jx49wsjIqPy+iHdQ4c/YZs2aRbNmzV65feDAgezbtw9VVVVUVVU5evQow4cPB2Dnzp3S5TEzMzOuXbtG/fr1ad68uTSyysbGhu3bt9OhQwfy8vKYP38+Ojo6qKqq4uPjg52dHVA4cfvs2bOoqqqio6PD/Pnz5eKYPXs2BgYG9OrVi0OHDlFQUICGhgYXL15k1apV0jXo9/UfVXJy8iu35efnc/LkSSZOnPhW1+VfnvD5KqqqqkyYMIG///67Qv6CEyqPZ8+ece7cOT777LNXXlF52dscnzVq1GDs2LFvnEf6uv9uytrMmTP54IMPXrm9X79+7N+/H3V1dVRUVDh06BAjR44EYPv27UydOhWApk2bEhISgqGhIc2aNWPy5MkAtGjRgh07dtChQwfy8/OZN28eurq6qKqq4uvrK91Hc3Jy4vz586iqqqKtrc3XX39dJE5DQ0N69uzJ4cOHkclkqKurc+HCBbm+bdOmTWX+Hb0rpZycnHK5QGppaUn//v3FsjXl4MWyNWFhYcVuf/bsGYaGhrRs2ZLRo0czbNgwtLS0pO1hYWHY2tpy4sSJt1rQz8bG5q0u4fz999/07duX4OBgWrZs+fYfSBBe4u/vj729vVzn+zpve3wePHiQ4cOHExERITfIKT09nT179rBjxw7u3r1LSkoKKioqr2zHysoKZ2dnsWxNOXixbM0///xTqnYq/aXI6iovL++Vpb8yMzP54osv8PLy4vPPP2fGjBkMGDCAkSNH0qdPH2JiYgBe+2vxXby4FxITEyMSm/DOXhyfZV3Y4MXxHh0djZGREX/99RdeXl4cP36cvLw8TE1NmTZtGtHR0XJFGv4rLy+vTOMSyp5IbJWQr68v9+7do0mTJm/1+pycHA4cOMCBAwewtbWVymS9amh+UlISv//+u/T4wYMHLF68WHr8ySefFHtN/cUk2PKqtSlUD8nJyWhoaLyyYkh0dDQ7d+6UHv/3+JwyZQq6urpF9mvUqBFQOHdz+vTp3Lp1S277vXv3WL58uVzVj1cRg6QqNpHYKqG2bduSkpLCb7/9Vux2mUyGt7c3Z86cITo6GnV1ddzc3Bg2bBiOjo4cOXIEgPDw8GJ/FdeuXZvu3btLj7dv3y73+OXLmi/7999/AUSJLaFU6tWrx/Pnz4mPj5eS0cu0tbVfe3y+ak5VREQEAM2bN+fKlSucOnWKXbt28ccff5CXl4eZmRkODg44OTm9ckQhFCbOty1kICiGSGxvITQ0FENDQwwMDAgMDKRFixbvPO+rLNSqVQtNTU2cnZ2L3f748WM8PDykUWVDhw6VS0b6+voAhISEFJvYtLS06NGjh9z7vfz4Va5fvw6AgYFBiT6PILzsxfETEhLyysRWmuPT0NAQVVVVXFxccHFxIT09nd27d7Nz5068vLxYvny5VDuxOJqamhVuQvK7unHjBvXr18fQ0JCgoCAsLCyoW7euosMqtQo/KrIimDFjhjRXbujQoUUuYVQ0devWJTIyEl9fXz799NMiZ1itW7dGRUVFbmhwWQgJCUFFRUWU1hJK5UXR3ZCQkDJtNyQkhJo1a9KiRQu55+vVq8dnn31GYGAg4eHhr01qVc3s2bM5deoUAMOGDePmzZsKjqhsiDO2EnrdHLaKxNDQ8JXb6tSpg729/Vt3HC+mPLzJ9evXsbe3f+WlSkF4Gw0aNMDOzq5cjs+PPvrotVNcXvffTVV37949RYdQZirNGVt4eDgzZ85kwIABLFu2jPT0dKBwYb158+axe/duBg0ahIODAxcvXpT28/HxYeDAgQwYMICffvqJzMxMoHDpheXLlzNo0CC++OILuUnbd+/elRYB9PDwIDs7W7rmPnToUP755x8ePXqEq6srFy9eZNSoUTg4OMgNuAgICGDgwIH079+fDRs2MGPGjAq1RtRnn32Gn58fV65ceeNrt2zZ8sbXXL16FV9fX1FWSygTkydP5u+//36rYd9vc3xeuHCB69evS3O/KpJX9W3BwcHMmTOHPXv2SAsunzt3TtrP19dXrm/LyMgACmvArlixAldXV6ZNm0ZQUJC0T0REBEOGDMHBwYHBgwfz9OlTqW8bPnw4YWFhZGZmMmjQIHx9fRk9ejQODg5s3LhRaiMwMFDq23799VdmzZpFQEDA+/iq3lqlSGz//PMPvXr1onPnzmzZsoW0tDScnJzIz88nLS2NdevW8eTJE44cOYKjo6O0OnZcXBwuLi44Ozuzf/9+aTTUs2fPcHBw4M6dO2zatIlu3brRq1cv/Pz8kMlkuLm5oaury549e2jZsqVc5x8YGMjjx4/Jy8vj5MmT7N+/n507dzJv3jw+//xzkpOTSU9Pp2/fvtjZ2bF161Zu3rzJr7/+SlpamqK+wiJcXFxo06YNHh4ePHr0qFRtPXr0CHd3d1q1akXfvn3LKEKhOhs+fDgmJia4u7vLVa1/Fw8fPpQGTnXp0qWMIiwb4eHh9OrVi06dOrFlyxYeP35M7969yc/P59GjR2zatIn09HQOHz6Mk5OTNBk9MTERFxcX+vTpw/79+7lx4waff/452dnZ9OrVi/DwcNavX0/Pnj3p06cPFy5cAApX7a5bty579+6ldevWcj+2AwMDefToEfn5+Zw6dYrdu3ezY8cOvv76a7788kuSkpLIyMigX79+tG3blq1bt/Lvv/+ydu3aCtW3QSVJbDt27GDQoEG4ubmhp6fHypUriYuLk64H16xZkwkTJgCFhVNjYmLIzc1l7969fPjhh0yYMAENDQ3WrVvHJ598QmhoKI8fP2b9+vXo6+vj5ubGxIkT2bZtG9evXyc+Pp7Vq1ejr6/PggULsLS0LBKTTCYjLy+PuXPnAtCrVy/q169PdHQ0f/75J40bN+brr79GT0+PtWvXoq+vX+GKhW7dupX09HS5FcTfxahRo3j06BGenp5lE5hQ7SkrK7Njxw5iYmL4/PPP37mdF4t55uXlVchSWjt37qRfv364u7ujp6fHihUrSE5OJiQkBJlMhoaGhnQVZNSoUSQkJPDs2TP27NlD9+7dmTx5MhoaGvz22298+umnhIWFkZaWxsaNGzEwMMDV1ZXJkyezbds2QkNDiYqK4ueff0ZPT4+vv/662MFjL/q2F+XM7O3tMTAwICoqij///BMDAwMWLFiAnp4ea9aswcDAoML1bZUisSUmJnL69GkcHBxwcHDA0dGRFi1a8OTJE6Bw2ZgXNDQ0gMJJlMnJyTRt2lTapqmpSZcuXUhKSqJJkybSawEsLCyIj4/n/v37GBkZyU3QfF0R1pffW11dnby8PFJTU+XKgKmoqEgr3FYk5ubmeHp68tdff/HRRx9J9TbfVmpqKv379+fUqVN4enqKxUaFMtWmTRvWrVuHl5cXrq6uJT4rSEpKwtHRER8fH/bu3Uvjxo3LKdJ3l5SUxLlz56S+zcHBAQsLC54+fQr83whmKNq3mZqaSts0NTXp1q0biYmJGBsbF9u3JScnY2hoKNe3vW6Nuv/2q7m5uaSkpEhL20DF7dsqRWJr2LAhvXv35syZM9L/Fi9ejJWVVZFfCi8qVhcUFGBkZCSthwaQm5vL4sWLqV+/PjExMXI1DZOTk6lbty6GhobEx8fLLUj6chsvvOoXikwmo0mTJnI3YvPy8oiMjHzt3BhFGThwIHv27MHf359WrVq99Urf+/fvx8bGhvPnz7Nr1y4GDhxYzpEK1dGYMWPYvHkzJ0+epGXLlpw8efKt9vP09KRly5ZcvnyZQ4cO0atXr3KO9N0YGRnRq1cvub5tyZIlWFtbv7aPadCgASkpKdJzeXl5Ut8WFxcnVx3l/v371K1blwYNGpCYmEh2dra0rbi+rbiVSGQyGTKZjKZNm3L37l25962IfVulSGwjRoxgz549Uj243bt34+Li8sYCqR4eHpw5c0a6Ab1t2zaCgoLo0KEDBgYGbNiwAShcgn3Tpk24ubnRpk0bmjdvLm3z8fEpcZUBZ2dnnj17xtKlS3nw4AEzZswgNTW1pB/7vXFzc+PChQuYmJgwatQoTExM8PDwYPXq1QQEBJCZmUlAQACrV6/Gw8MDExMTRo4cSePGjblw4QKDBw9W9EcQqrAxY8Zw5swZDAwM6N+/P6ampgwbNoxffvmFK1eu8OTJE/z9/Vm1ahXu7u40bNiQCRMmYGlpyaVLl3BxcVH0R3ilYcOGsX//fmkE6P79+3F2dn5j3zZ48GAuXrwoTT3y9PQkICAAOzs7GjduLF12TUpKYsOGDbi5uWFjY0OLFi1Yv349UDj45OWBdm/DyckJgMWLF/PgwQNmz55d4is970OlGO5vbW3Nvn37GDduHGFhYejo6LBv3z7q1q2Lrq6u3HBfdXV1unfvjqqqKo0bN+bw4cOMHTuWiIgInJ2d8fT0RFVVlZMnTzJlyhQWLFhAmzZt+OqrrxgyZAgAx44dY9asWejp6dGjRw9mzpwpnZZ37NiRunXrSu/z8gHYoUMHtLW1UVdXx8/Pj2XLljF8+HBatWqFqalphZ7UaWtrS1BQEMePH2fr1q14e3sXWwldTU2N3r178+uvv9KvXz8FRCpUR507d+batWscPHgQT09P/vjjDw4dOlTkdRoaGjg5OTF+/Hj69OmjgEhLxtramoMHDzJ+/Hi5vk1bWxsdHR25vk1VVbVI3zZu3DgiIiL46KOP2L59OyoqKnh7e/PZZ5+xaNEiWrVqxZw5cxgxYgQAR44cYc6cOejr69O1a1dmzJghTYjv2LGj1H91795drhB0hw4dqFevHmpqaly8eFGub2vWrNlra2sqgqjuXw7u3r3L3r17WbBgAVB4ut6gQQNu3LhBgwYNSt3+m6r7l4WMjAwuXbpEfHw80dHRNGnShEaNGtG5c2eFVl0RBCisyB8YGEh8fDwxMTGYmprSqFEjunTpUu4TrKtzdf/IyEh27tzJokWLgMK+rWHDhgQHBxdbJaakRHX/Cqxx48Z4enoSExODiYkJZ86cYfr06WWS1N6XOnXq4OTkhEwmo2fPnixevLjCXUcXqq969erx0UcfUVBQwIcffsiSJUsUHVK10LBhQ7y8vIiLi6NJkyacP3+eyZMnl0lSK0uV4h5bZVOjRg38/f0xNTWldu3abN68mW+++UbRYb0THx8fAgIC5CaGCkJF4e3tzaVLl+QKLAjlp0aNGvj5+WFmZkbt2rVZv369dPZWkYgztnJiaGhYZJXtyujF3DRPT88KO7JMqL62bdsGFB6fouL++1EZ+jZxxia8UkZGBocPHwbgjz/+KHWFEkEoS/fv35eG/+/fv5/c3FwFRyRUFCKxCa+0f/9+nj17BsDz58/Zu3evgiMShP/j5eUlzddKT0+X1hkUhHIbFWllZUVWVlaFnJVe2UVGRqKpqVmuoyIBunfvzr1790hJSUFPT48mTZpw6dKlcn1PQXhbNjY2pKWlkZKSgr6+Pm3atOHEiRPl/r7W1tY8ffpU9G3lIDIyklq1apV6abByO2MbPny4+MOXEzMzM0aNGlWu75GcnExwcDAjR44ECv+eoaGhJCUllev7CsLbiIyMlCrVQ2GNWF9fX6nCfXkaMWKE6NvKiZmZmdTnlEa5nbEJld+jR4+4c+cOXbt25cKFC7Ro0QJtbW1FhyUIAKSkpBAeHk7v3r25cuUKpqamYi1AARD32ITXeFGFAAorjoikJlQk9evXl+ZW1qxZUyQ1QSISmyAIglCliMQmCIIgVCkisQmCIAhVikhsgiAIQpUiEpsgCIJQpYjEJgiCIFQpogiyAvz1119cvXpV0WG8leTkZAC2bt0q1eWr6Nq1a8dHH32k6DAqraNHj0qr1Vd0MTExAKxbtw5dXV0FR/N2unbtir29vaLDqNLEBG0FqEwleZ4/f84///yDpaUlNWrUUHQ4b1RWJXmqMxMTE9TU1GjSpImiQ3mjrKws7ty5g5WVFWpqaooO543u3r1LgwYNCAwMVHQoVZo4Y1MQNzc3Vq1apegwqpy5c+dy7NgxRYdRqclkMsaMGSOtAC+UnUmTJhESEqLoMKo8cY9NEARBqFJEYhMEQRCqFJHYBEEQhCpFJDZBEAShShGDRyqJw4cPs27dumK37du3r0RDnZcsWYK1tTUDBw4sVUyHDh3i1q1bLFy4sMi248ePc+XKFb7//nvWrVuHsrIykyZNKtX7CRWXl5cXnp6exW7z9vZGQ0PjrduaN28ePXv2pE+fPqWKaceOHaSmpjJz5swi2/bs2UN0dDTz5s1j1apVGBoalsk6YELFIBJbJREfH8+jR4/48ccfi2wr6XId//zzD3Xr1i11THFxca8cVh8fH8/NmzeBwsUDXywvIlRNMTEx5OXl8d133xXZVtJh+Ddv3sTS0rLUMUVHRxMfH1/stpiYGG7fvg2Aubl5mfz3IFQcIrFVItra2vTo0aPYbU+fPuXff//FysqKoKAgdHR0sLa2Jjc3l1u3bmFubk7NmjUBUFJSQllZmfT0dG7evImhoSEffPCBXHuRkZE8f/4cS0tLuaR0//59bt++jbKyMjKZ/BTIBw8ecOvWLZSUlJDJZNJ+zZo1k/4dGhqKiYkJBQUF3Lp1i/r162Nubi61ERsbS0xMDK1ateLp06dkZGTIbRcqpoKCAnR0dF55fD5+/JiYmBiaNWvGlStXMDAwwMLCQponaWVlJa3990JaWho3b96kcePGmJqaSs/LZDLu3LkDUOTYSExM5O7du6iqFnZtLx+7SUlJ3LlzBxUVFbl9zM3NpTmawcHBmJub8+zZM8LDw2nYsKHcfNOoqCgSEhJo3bo16enp5OTkVIr5qNWNSGxVRHR0NB4eHpiamtKtWzd27NhBnz59ePz4MWZmZmzZsoWtW7fSu3dvALZt28aBAwcwMTFh7969nDlzhm7dunH79m2GDh1K06ZN0dLSIjg4mAMHDtCiRQsCAgLo06cPrq6uREZGEhUVRZcuXQAICgrC0dGR/v37ExcXR0REBO3btwcKq0IoKSmxatUqZs6cSf369alfvz4FBQVs3ryZq1evYmVlxcGDB/n4448ZMWIEs2bNQkVFBUtLS7Zs2aKw71UoG2FhYUycOJGGDRvStWtXNm/ezODBg0lNTcXExIR+/fpx4MABOnXqBMAvv/zCzp070dHR4fjx4/j5+WFra8v169cZNWoULVq0QFlZmdu3b3Po0CHMzMw4deoUbm5uDB06lBs3bpCYmIiLiwsAFy9epG/fvgwePJjbt28TGxtLr169AFi5ciUmJiYsWLCAiRMnYmFhgaGhIZmZmezatYsbN25gamrK1q1bmTp1KqNHj+aLL74AoEePHsVeRREUSyS2SsTHx6fIr9ru3btz5swZoPBs59y5cxgbG2NoaMi8efOIiopCS0sLFRUVdu/eLSU2HR0dTp06hZKSEiYmJsyfPx9fX1+mT5/OJ598wtSpUwH48ccfmTFjBidPnmThwoXMnDmTb7/9loKCArl7IN9//z2fffYZy5YtQyaT0a9fv1d+jtq1a7NmzRoAHj16JCXO2bNn89tvvzFmzBhycnKkpClUDidOnChyfPbr149Dhw4BhVcBLly4gJ6eHjVr1uTnn3/m7t271KhRg6ysLPbu3SsltsaNG3P48GEApk2bxrfffsvx48eZMmUKc+fOZdSoUQAsWrSI+fPns2/fPr755huWLFnCF198QX5+Pt26dZPimD9/Pt988w1z584lPz//tSWtGjRowA8//AAUlpQ7fPgw06dPZ/78+ezcuRNXV1eysrJo06ZN2X15QpkSia0SsbGxKfLrUFtbGyi8PFO3bl2MjY0BMDIywtjYWLr/pqury/Xr16X9hgwZIl2mcXNzk9q9fPkyxsbGLF68GCi8fHP58mUALl26JFVLUVZWZtCgQVy8eBGAwMBAFi1aBBRe/hk0aBAnTpwo9nN07txZ+nfDhg3JyMggKSmJhIQEPDw8AFBXV8fV1ZWIiIh3+aqE90xZWZnOnTsXucemp6cHFB6fhoaG0mMjIyOaNWsmXQLU19cnPDxc2m/o0KHSv93c3BgxYgR5eXlcv36dy5cvEx0dDRT+mLt69Sq5ubmEhoZy4MABAFRUVOjXrx9RUVHIZDKuXr3Ktm3bpG0DBw4kNDS02M/y8vFpZGTEkydPiIiIICMjg0GDBgFQq1YtXF1dycnJeefvTCg/IrFVIq+7x1ZQUFBkgMZ/H7+4JyaTyVBWVpZ7/sWoNRUVFTp27EizZs2k7UOGDEEmk6GioiJ3X01TU1P6t7KyMgUFBdLj2rVrFztgRCaTyQ0mkMlkFBQUlGjUnFDxvOke24vj52UvHx//vV/73wEnL84ElZWV6dq1K4aGhkDhFYtx48YV+54vH4NKSkpyx+fLx+5//fe9ZTJZpaiTKvwfMY+tGlJSUpLOwgDOnTsn3Q9r164djx49okePHvTo0YOsrCy2b9+OkpISnTp14vz589J+/v7+0r87d+4st83Pz69EMenq6mJlZcXevXsByMvL48iRI+/0+YTKLygoSPr3+fPnadeuHaqqqtjY2PDkyRPp+ExNTWXv3r2oqalha2srdwz6+voChcd7hw4dXnnsvg1jY2MaNGjAH3/8AUB2drY4PiswccZWiYSGhuLg4FDk+SVLllCrVq0StXXu3Dnmzp1LjRo12L59O97e3kDhPTVnZ2dSUlJQV1dn48aN0v2w5cuX07dvX9LT08nMzMTHx4dWrVpJMTg7O/PkyROys7M5c+YMFhYWJYpp27ZtDBgwgMDAQK5du0ZmZmaRX/lCxaSsrExAQECxx+fq1atL3N7Ro0dRVVVFJpOxe/duzp49CxQOKnF3d+fevXsArF+/nh07dgCFx+6wYcOIjY0lJSWFkJAQ6V7aypUrcXNz4/79+6SlpREYGCjdz3sbKioqeHl54eHhwenTp7l06ZL0vFDxiGVrFMDa2honJ6cSVfdPSEh45f0ma2tratSoQWhoqHR/4OHDh0RHR9O2bVugcBh0eno6VlZWhIeHU69ePQIDA4mPj8fV1RUjIyOpvfv37/Pnn38SHx9Px44dpQEnAOnp6Rw+fBhdXV06derEw4cPadGiBVA4pPvQoUPo6OjQuXNnUlNTsbKyIjIyEiUlJUxNTQkNDcXQ0BADAwOgcPh0QUEBZmZmREREYGxsTGhoKCoqKuzfvx8VFRWWLl361t/Ti+r+L9+vEUrG2NiYTz/9tETV/WNjY4mKiip2W+vWrQG4ffs2HTp0AAqPseTkZOmHUVxcHE+fPsXCwoKbN29iYGCAj48PqampuLm5Ub9+fam9xMRE/vzzT5KSkujZs6fcIJGUlBQOHTqEsbExtra2ZGZmSlNZ0tLSOHz4MIaGhrRt25bHjx9jYWHBnTt3qFGjBsbGxgQHB9OkSROp4MHdu3elJXwiIyNp1KgRISEh1MRxS2gAAAwXSURBVKxZk40bN2JiYsKcOXPe+nt6Ud1fLFtTvkRiU4B3SWzVQceOHZkwYQLjxo0jISEBJycnNm3aVKJf1iKxld67JLbqwMrKiu+//x43NzeioqJwcnLiwIED2NjYvHUbIrG9H+Iem1BhrF69mkWLFlGjRg1GjRrFsmXLSpTUBKE8rV27lqlTp1KrVi0mTpzIL7/8UqKkJrw/4h6bUGF06tSJ2NhYRYchCMXq1asXiYmJig5DeAvijE0QBEGoUkRiEwRBEKoUcSlSQRISEqSqHULZiYuLk5t8LpSckpIS0dHR4vgsB/fv31d0CNWCGBWpAB06dJArbyWUrdatW8tNQBdKxtLSksjISEWHUWW9XN9VKB8isSnAi+UzKovbt2+XeLK1In3wwQc0aNBA0WFUWvHx8ZUqsVW249PS0lJuXp5Q9kRiE14rOzsbc3Nz/v33X1EvT6hwnj59SsuWLYmIiBCXoAWJOBKE1zp69ChJSUnS0iOCUJHs2rWL+Ph4/vrrL0WHIlQgIrEJr+Xp6Sn3/4JQkYjjUyiOuBQpvFJcXJzcsvd37tyhSZMmigtIEF4SHh4u1ZpUU1MjNjZWqvEoVG/ijE14pe3bt7/2sSAo0ouFQwFyc3PZtWuXAqMRKhJxxiYUSyaT0axZM+rUqcOtW7ewsLAgMzOTe/fuFbuAqCC8T7m5uTRt2hR9fX1u3bqFpaUlSkpKhISEKDo0oQIQZ2xCsVJSUjAwMGDo0KFoaGgwePBgGjRoQHJysqJDEwQSExMxMDDA3d0dDQ0Nhg0bhra2NhkZGYoOTagAxBmb8FohISG0b98ef39/7OzsFB2OIMjx8fHBwcGBsLAwad01QRBnbIIgCEKVIhKbIAiCUKWIxCYIgiBUKSKxCYIgCFWKSGyCIAhClSISmyAIglCliMQmvFaNGjWoXbu2qOwvVEg1atRAS0sLDQ0NRYciVCBiHpsgCIJQpYgzNkEQBKFKEYlNEARBqFJEYhMEQRCqFJHYBEEQhCpFJDZBEAShShGJTRAEQahSRGITBEEQqhRVRQcglK1Tp06xbt06nj59SqNGjfjf//5HgwYNFB2WIEiWL19Obm5usdvGjx//Xo7Xhw8foqurW+7vIyiGOGOrQv744w+GDx/OkCFDWLBgAfb29nTu3JmzZ88qOjRBKNbixYtJSEh4r+85c+ZMNm7c+F7fU3i/ROWRKmTgwIF06NCBefPmSc8tX74cX19fvL29pedSU1OJj4/H2toaNTW1t24/NjaWtLQ0WrduDUBMTAxJSUnY2tqirq4uva6goICwsDDq1atH48aN5dpITk7m33//xcLCAgMDg3f9qEIVoaGhga+vL+3bt5eei42NJSoqCm1tbVq1aiX3+oyMDK5fv063bt1QVlYmPj6euLg42rRpU6TsW35+Prdu3UJHR4dGjRpJz48dO5bmzZszf/58AGQyGYGBgaioqGBnZ4eSklI5fmLhfRBnbFWIsbExp0+fJjQ0VHruq6++kpJaTk4Oo0ePpnnz5owYMYJmzZpx+fJlAH7//XcGDRok7Xf16lWpM9i1axc9e/bEysqKDh06kJGRgaenJ1ZWVnz55ZeYm5uzbds2AO7evYuVlRWurq60adOGMWPGkJ+fD8CyZctwcHBgyZIl2NjY8Ouvv76X70WoPGbOnEnPnj1ZsmQJ7u7ueHh4AJCQkICxsTE9evSgd+/eeHt7c/r0aVq2bMmkSZMwMzPDycmJlStXAhAeHo6lpSVubm60atWKTz/9lPz8fA4dOsSZM2fYtm0bq1ev5t69e9jZ2TF//nwmTZpEu3btePDggSK/AqEMiMRWhcyZMwcNDQ3at29P586dmTNnDpcuXZK2//DDDyQnJ5OYmMg///zD+vXr8fDwIDs7+7XtKikpERwcTGBgICkpKWRkZDB79mxCQ0MJCAjg0KFDrFy5kvz8fIYPH86UKVOIiIggMTGRnJwc1q1bR25uLsuWLePcuXOcPn2aY8eOkZycXN5fiVCJJCQkcOzYMW7evMnp06cJCwvD29ube/fuAYVn+5MnTyYzM5OePXsyZswYDh8+TGhoKJcvX+bGjRtA4RWDwYMHM2PGDO7evUtiYiLp6els3LgRNzc3HBwcGDt2LF9++SU7d+6ke/funD9/nmvXrvHhhx8SFxenyK9BKANi8EgV0qhRI/766y/S09MJCAjA29sbR0dHvv/+e2bMmEFgYCAeHh7UqlULAGdnZwoKCggJCXltuzKZDFtbW6ysrADYv38/dnZ2mJmZAWBra0t4eDjJycmEhoby4MEDFi9eDEB2djanT5/ms88+o0OHDvTr1w9HR0ccHByk1wgCQMOGDQkLCyMwMJC0tDR8fHwAyMzMlKr3jxo1Cg0NDa5du4a6ujr29vbSvg4ODgDExcVx584d7t+/Lx1jubm5nDlzhilTpsi9p52dHZ9++imxsbH069eP2bNnU79+/ff1kYVyIs7YqoicnBwWL17MkydPqFevHs7Ozvz222/4+PjwzTff8Pz5cx4/foympqbcfrVr1yYjI6NIezKZTLrXUFBQIHcPLTs7m5o1axbZ5/HjxwCoqv7f7yVbW1v69u2LsrIyR44cwdXVlaCgIJycnOjWrRt5eXll8vmFyi8tLQ1bW1s2bdpEWFgYZmZmRY6zF8dhTk5Okf21tLSAwvtwampqKCv/X/fWrl07+vbtW2QfZ2dnvLy80NfXZ9GiRZiZmXHs2LGy/FiCAogztipCXV2d7du3o6urK/er9OUE1bx5c3x9fRk2bBgADx48IDExESsrK5KSksjMzJT2e93lGFNTUzZv3iw9fvLkCVZWVvj7+6OsrMzgwYOxsLAA4OLFiyQlJZGSksKsWbP4/fffmTt3LllZWejp6XHv3j0++OCDMv0uhMrp8OHD1KtXj127dgGFP5Rmz55NQUFBkddaWFiQnJxMREQEzZo1A8DX1xcTExOaNGlCfn4+H3/8sTR46dy5c6SlpQHIJbwtW7agpaXF+vXrAZg3bx5Hjx6lf//+5fpZhfIlElsVsnLlSsaOHcv58+exsbEhOTkZLy8vVq9ejYaGBrNmzaJLly5oaWnRrl07vv/+e0aMGEHDhg1p3749M2bMYNeuXWhra+Pl5fXK93FycmLZsmUsXrwYW1tb1qxZg52dHY0aNWLevHmMGzeOpUuXkpGRwZQpU9iwYQM6OjqEhITg5ubGpEmTiIqKwsrKSuqUBKFp06ZER0dz4sQJ1NXVWbNmDRoaGmRlZRV5rYGBAQsXLmTo0KEMGDCA69evEx0djYqKClpaWsyePZuRI0fy3XffkZ6eztSpU/n9998B0NbWxtvbmxYtWqChocHUqVOJj4+nZcuWnD9/ngULFrzvjy6UMZUFCxYsUnQQQtmwtLRk2LBhPH78mKtXr2JkZMTKlSulSzD6+voMGDAAPz8/goODmTBhAnPmzEFJSQl9fX26dOnCb7/9hqamJgsXLqRWrVp06tQJJSUlDA0NpaHXysrKDB06lIsXL3Ly5El69+7NihUrUFFRoWfPnqioqLBnzx6Sk5P59ddf6dKlC8rKyowaNYqEhASOHDlCWloa27dvp3bt2or8yoQKoGfPnmhpaWFqaoqVlRVbt27lxo0bzJ49m06dOtGoUSMMDQ3R0NCgR48e0hWIbt26YWFhQWJiojQFpXXr1rRu3ZoPP/yQgoICdu/ezYMHD/jtt9/o2LEjAM2aNePZs2fUqVOHESNG0K5dO06fPs2pU6eYMGECbm5uCvsuhLIh5rEJglDp5ObmYmdnx9mzZ9HV1eXRo0dYWlpy5swZaZCTUH2JS5GCIFQ6ampqzJo1ix49emBoaEhKSgoLFiwQSU0AxBmbIAiVWHZ2NuHh4bRs2VJuNK5QvYnEJgiCIFQpYh6bIAiCUKWIxCYIgiBUKSKxCYIgCFWKSGyCIAhClSISmyAIglCliMQmCIIgVCkisQmCIAhVikhsgiAIQpUiEpsgCIJQpYjEJgiCIFQpIrEJgiAIVYpIbIIgCEKVIhKbIAiCUKWIxCYIgiBUKSKxCYIgCFWKSGyCIAhClSISmyAIglCliMQmCIIgVCkisQmCIAhVikhsgiAIQpUiEpsgCIJQpYjEJgiCIFQp/w9VOhErwGo/3wAAAABJRU5ErkJggg==)"
      ]
    },
    {
      "cell_type": "code",
      "execution_count": null,
      "metadata": {
        "id": "V2MKymUjL5e8"
      },
      "outputs": [],
      "source": [
        "class Transformer(nn.Module):\n",
        "    def __init__(self,\n",
        "                 input_dim,\n",
        "                time_stride,\n",
        "                feature_stride,\n",
        "                embed_dropout,\n",
        "\n",
        "                d_model,\n",
        "                enc_num_layers,\n",
        "                enc_num_heads,\n",
        "                speech_max_len,\n",
        "                enc_dropout,\n",
        "\n",
        "                dec_num_layers,\n",
        "                dec_num_heads,\n",
        "                d_ff,\n",
        "                dec_dropout,\n",
        "\n",
        "                target_vocab_size,\n",
        "                trans_max_len):\n",
        "\n",
        "      super(Transformer, self).__init__()\n",
        "\n",
        "      self.embedding = SpeechEmbedding(input_dim, d_model, time_stride, feature_stride, embed_dropout)\n",
        "      speech_max_len = int(np.ceil(speech_max_len/self.embedding.time_downsampling_factor))\n",
        "\n",
        "      self.encoder = Encoder(\n",
        "            num_layers=enc_num_layers,\n",
        "            d_model=d_model,\n",
        "            num_heads=enc_num_heads,\n",
        "            d_ff=d_ff,\n",
        "            max_len=speech_max_len,\n",
        "            target_vocab_size=target_vocab_size,\n",
        "            dropout=enc_dropout\n",
        "        )\n",
        "\n",
        "      self.decoder = Decoder(\n",
        "            num_layers=dec_num_layers,\n",
        "            d_model=d_model,\n",
        "            num_heads=dec_num_heads,\n",
        "            d_ff=d_ff,\n",
        "            dropout=dec_dropout,\n",
        "            max_len=trans_max_len,\n",
        "            target_vocab_size=target_vocab_size\n",
        "        )\n",
        "\n",
        "\n",
        "    def forward(self, padded_input, input_lengths, padded_target, target_lengths, mode:Literal['full', 'dec_cond_lm', 'dec_lm']='full'):\n",
        "        '''DO NOT MODIFY'''\n",
        "        if mode == 'full': # Full transformer training\n",
        "            encoder_output, encoder_lengths          = self.embedding(padded_input, input_lengths, use_blstm=False)\n",
        "            encoder_output, encoder_lengths, ctc_out = self.encoder(encoder_output, encoder_lengths)\n",
        "        if mode == 'dec_cond_lm': # Training Decoder as a conditional LM\n",
        "            encoder_output, encoder_lengths   = self.embedding(padded_input, input_lengths, use_blstm=True)\n",
        "            ctc_out = None\n",
        "        if mode == 'dec_lm': # Training Decoder as an LM\n",
        "            encoder_output, encoder_lengths, ctc_out = None, None, None\n",
        "\n",
        "        # passing Encoder output through Decoder\n",
        "        output, attention_weights = self.decoder(padded_target, target_lengths, encoder_output, encoder_lengths)\n",
        "        return output, attention_weights, ctc_out\n",
        "\n",
        "\n",
        "    def recognize(self, inp, inp_len, tokenizer, mode:Literal['full', 'dec_cond_lm', 'dec_lm'], strategy:str='greedy'):\n",
        "        \"\"\" sequence-to-sequence greedy search -- decoding one utterance at a time \"\"\"\n",
        "        '''DO NOT MODIFY'''\n",
        "        if mode == 'full':\n",
        "            encoder_output, encoder_lengths          = self.embedding(inp, inp_len, use_blstm=False)\n",
        "            encoder_output, encoder_lengths, ctc_out = self.encoder(encoder_output, encoder_lengths)\n",
        "\n",
        "        if mode == 'dec_cond_lm':\n",
        "            encoder_output, encoder_lengths,  = self.embedding(inp, inp_len, use_blstm=True)\n",
        "            ctc_out = None\n",
        "\n",
        "        if mode == 'dec_lm':\n",
        "            encoder_output, encoder_lengths, ctc_out = None, None, None\n",
        "\n",
        "        if strategy =='greedy':\n",
        "          out = self.decoder.recognize_greedy_search(encoder_output, encoder_lengths, tokenizer=tokenizer)\n",
        "        elif strategy == 'beam':\n",
        "          out = self.decoder.recognize_beam_search(encoder_output, encoder_lengths, tokenizer=tokenizer, beam_width=5)\n",
        "        return out"
      ]
    },
    {
      "cell_type": "markdown",
      "metadata": {
        "id": "bW2_f7NsOuqX"
      },
      "source": [
        "Your config is already set to the early submission architecture."
      ]
    },
    {
      "cell_type": "code",
      "execution_count": null,
      "metadata": {
        "colab": {
          "base_uri": "https://localhost:8080/"
        },
        "id": "pXfcbJkjL9Iq",
        "outputId": "a895639e-9823-4818-dc21-b425987bd06f"
      },
      "outputs": [
        {
          "output_type": "execute_result",
          "data": {
            "text/plain": [
              "===============================================================================================\n",
              "Layer (type:depth-idx)                        Output Shape              Param #\n",
              "===============================================================================================\n",
              "Transformer                                   [16, 89, 1000]            --\n",
              "├─SpeechEmbedding: 1-1                        [16, 970, 512]            1,576,960\n",
              "│    └─Conv2DSubsampling: 2-1                 [16, 970, 512]            --\n",
              "│    │    └─Sequential: 3-1                   [16, 512, 970, 76]        2,364,928\n",
              "│    │    └─Sequential: 3-2                   [16, 970, 512]            19,923,456\n",
              "├─Encoder: 1-2                                [16, 970, 512]            --\n",
              "│    └─PositionalEncoding: 2-2                [16, 970, 512]            --\n",
              "│    └─Dropout: 2-3                           [16, 970, 512]            --\n",
              "│    └─ModuleList: 2-4                        --                        --\n",
              "│    │    └─EncoderLayer: 3-3                 [16, 970, 512]            3,153,408\n",
              "│    │    └─EncoderLayer: 3-4                 [16, 970, 512]            3,153,408\n",
              "│    │    └─EncoderLayer: 3-5                 [16, 970, 512]            3,153,408\n",
              "│    │    └─EncoderLayer: 3-6                 [16, 970, 512]            3,153,408\n",
              "│    └─LayerNorm: 2-5                         [16, 970, 512]            1,024\n",
              "│    └─Linear: 2-6                            [16, 970, 1000]           513,000\n",
              "├─Decoder: 1-3                                [16, 89, 1000]            --\n",
              "│    └─Embedding: 2-7                         [16, 89, 512]             512,000\n",
              "│    └─PositionalEncoding: 2-8                [16, 89, 512]             --\n",
              "│    └─ModuleList: 2-9                        --                        --\n",
              "│    │    └─DecoderLayer: 3-7                 [16, 89, 512]             4,205,056\n",
              "│    │    └─DecoderLayer: 3-8                 [16, 89, 512]             4,205,056\n",
              "│    │    └─DecoderLayer: 3-9                 [16, 89, 512]             4,205,056\n",
              "│    │    └─DecoderLayer: 3-10                [16, 89, 512]             4,205,056\n",
              "│    └─Linear: 2-10                           [16, 89, 1000]            513,000\n",
              "===============================================================================================\n",
              "Total params: 54,838,224\n",
              "Trainable params: 54,838,224\n",
              "Non-trainable params: 0\n",
              "Total mult-adds (T): 2.79\n",
              "===============================================================================================\n",
              "Input size (MB): 9.98\n",
              "Forward/backward pass size (MB): 12312.73\n",
              "Params size (MB): 162.62\n",
              "Estimated Total Size (MB): 12485.32\n",
              "==============================================================================================="
            ]
          },
          "metadata": {},
          "execution_count": 26
        }
      ],
      "source": [
        "model = Transformer(\n",
        "    input_dim      = x_pad.shape[-1],\n",
        "    time_stride    = config['time_stride'],\n",
        "    feature_stride = config['feature_stride'],\n",
        "    embed_dropout  = config['embed_dropout'],\n",
        "    d_model        = config['d_model'],\n",
        "    enc_num_layers = config['enc_num_layers'],\n",
        "    enc_num_heads  = config['enc_num_heads'],\n",
        "    speech_max_len = MAX_SPEECH_LEN,\n",
        "    enc_dropout    = config['enc_dropout'],\n",
        "    dec_num_layers = config['dec_num_layers'],\n",
        "    dec_num_heads  = config['dec_num_heads'],\n",
        "    d_ff           = config['d_ff'],\n",
        "    dec_dropout    = config['dec_dropout'],\n",
        "    target_vocab_size = Tokenizer.VOCAB_SIZE,\n",
        "    trans_max_len     = MAX_TRANS_LEN\n",
        ")\n",
        "\n",
        "\n",
        "summary(model.to(device), input_data=[x_pad.to(device), x_len.to(device), y_shifted_pad.to(device), y_len.to(device)])"
      ]
    },
    {
      "cell_type": "code",
      "execution_count": null,
      "metadata": {
        "id": "RAYh_dgdm8rU"
      },
      "outputs": [],
      "source": [
        "# checkpoint_path = \"/content/Aditya Aayush_fbank_Transformer_ENC-6-8_DEC-6-8_512_2048_AdamW_CosineAnnealing_token_char/checkpoints/checkpoint-epochfull-0-2.pth\"  # Replace with your .pth file path\n",
        "# state_dict = torch.load(checkpoint_path)\n",
        "\n",
        "# # Step 3: Load the state_dict into the model\n",
        "# model.load_state_dict(state_dict['model_state_dict'])"
      ]
    },
    {
      "cell_type": "code",
      "execution_count": null,
      "metadata": {
        "id": "uaQa1DoyMAN8"
      },
      "outputs": [],
      "source": [
        "gc.collect()\n",
        "torch.cuda.empty_cache()"
      ]
    },
    {
      "cell_type": "markdown",
      "metadata": {
        "id": "A2iTo6TuMCyu"
      },
      "source": [
        "# Utilities"
      ]
    },
    {
      "cell_type": "markdown",
      "metadata": {
        "id": "MnKTIq6xMFDa"
      },
      "source": [
        "### Evaluation Metrics: WER, CER, and Levenshtein Distance\n",
        "\n",
        "To evaluate the performance of the `Transformer` model on sequence-to-sequence tasks, we use three main metrics: **Word Error Rate (WER)**, **Character Error Rate (CER)**, and **Levenshtein Distance**. These metrics assess the model's accuracy by comparing the model's predictions to the reference (ground truth) sequences.\n",
        "\n",
        "---\n",
        "\n",
        "#### 1. Word Error Rate (WER)\n",
        "**WER** measures the edit distance between the predicted and reference sequences at the word level. It’s calculated by splitting both the reference and hypothesis into words, computing the number of word-level insertions, deletions, and substitutions, and normalizing by the total number of words in the reference.\n",
        "\n",
        "- **Formula:**  \n",
        "  $\n",
        "  \\text{WER} = \\frac{\\text{Edit Distance at Word Level}}{\\text{Number of Words in Reference}}\n",
        "  $\n",
        "\n",
        "- **Interpretation:**  \n",
        "  Lower WER indicates better alignment between the predicted and reference sequences at the word level.\n",
        "\n",
        "---\n",
        "\n",
        "#### 2. Character Error Rate (CER)\n",
        "**CER** is similar to WER but calculated at the character level. It measures the edit distance between the reference and hypothesis characters and normalizes by the length of the reference in characters.\n",
        "\n",
        "- **Formula:**  \n",
        "  $\n",
        "  \\text{CER} = \\frac{\\text{Edit Distance at Character Level}}{\\text{Number of Characters in Reference}}\n",
        "  $\n",
        "\n",
        "- **Interpretation:**  \n",
        "  Lower CER signifies that the predicted sequence closely matches the reference sequence in terms of individual characters.\n",
        "\n",
        "---\n",
        "\n",
        "#### 3. Levenshtein Distance\n",
        "The **Levenshtein Distance** (also known as edit distance) calculates the minimum number of single-character edits (insertions, deletions, substitutions) required to transform the hypothesis into the reference sequence. This metric is used as the foundation for both WER and CER calculations.\n",
        "\n",
        "---\n",
        "\n",
        "### Metric Calculation Functions\n",
        "\n",
        "#### `calculateMetrics`\n",
        "The `calculateMetrics` function computes WER, CER, and Levenshtein Distance for a single reference and hypothesis pair.\n",
        "\n",
        "- **Input:**  \n",
        "  - `reference`: The target sequence (ground truth).\n",
        "  - `hypothesis`: The predicted sequence by the model.\n",
        "\n",
        "- **Process:**\n",
        "  - Calculate Levenshtein Distance at the sentence, word, and character levels.\n",
        "  - Use word-level edit distance to compute WER.\n",
        "  - Use character-level edit distance to compute CER.\n",
        "\n",
        "- **Output:**  \n",
        "  - `dist`: Levenshtein distance between the reference and hypothesis.\n",
        "  - `wer`: Word Error Rate.\n",
        "  - `cer`: Character Error Rate.\n",
        "\n",
        "#### `calculateBatchMetrics`\n",
        "The `calculateBatchMetrics` function extends `calculateMetrics` to process a batch of predictions and references.\n",
        "\n",
        "- **Input:**  \n",
        "  - `predictions`: Model output predictions for the batch.\n",
        "  - `y`: Ground truth transcripts for the batch.\n",
        "  - `y_len`: Lengths of the ground truth transcripts.\n",
        "  - `tokenizer`: Tokenizer used to decode model predictions and targets into strings.\n",
        "\n",
        "- **Process:**\n",
        "  - For each item in the batch:\n",
        "    - Trim predictions and targets up to the `EOS_TOKEN`.\n",
        "    - Decode trimmed sequences using the tokenizer.\n",
        "    - Calculate Levenshtein Distance, WER, and CER using `calculateMetrics`.\n",
        "  - Average the metrics across the batch.\n",
        "\n",
        "- **Output:**  \n",
        "  - `dist`: Average Levenshtein distance over the batch.\n",
        "  - `wer`: Average Word Error Rate over the batch.\n",
        "  - `cer`: Average Character Error Rate over the batch.\n",
        "  - `y_string`: Last reference string processed (for inspection).\n",
        "  - `pred_string`: Last hypothesis string processed (for inspection).\n",
        "\n",
        "---\n",
        "\n"
      ]
    },
    {
      "cell_type": "code",
      "execution_count": null,
      "metadata": {
        "id": "n4O6tfS6MGtY"
      },
      "outputs": [],
      "source": [
        "def calculateMetrics(reference, hypothesis):\n",
        "        # sentence-level edit distance\n",
        "        dist = aF.edit_distance(reference, hypothesis)\n",
        "        # split sentences into words\n",
        "        ref_words = reference.split()\n",
        "        hyp_words = hypothesis.split()\n",
        "        # compute edit distance\n",
        "        dist = aF.edit_distance(ref_words, hyp_words)\n",
        "        # calculate WER\n",
        "        wer = dist / len(ref_words)\n",
        "        # convert sentences into character sequences\n",
        "        ref_chars = list(reference)\n",
        "        hyp_chars = list(hypothesis)\n",
        "        # compute edit distance\n",
        "        dist = aF.edit_distance(ref_chars, hyp_chars)\n",
        "        # calculate CER\n",
        "        cer = dist / len(ref_chars)\n",
        "        return dist, wer * 100, cer * 100\n",
        "\n",
        "\n",
        "def calculateBatchMetrics(predictions, y, y_len, tokenizer):\n",
        "    '''\n",
        "    Calculate levenshtein distance, WER, CER for a batch\n",
        "    predictions (Tensor) : the model predictions\n",
        "    y (Tensor) : the target transcript\n",
        "    y_len (Tensor) : Length of the target transcript (non-padded positions)\n",
        "    '''\n",
        "    batch_size, _  = predictions.shape\n",
        "    dist, wer, cer = 0., 0., 0.\n",
        "    for batch_idx in range(batch_size):\n",
        "\n",
        "        # trim predictons upto the EOS_TOKEN\n",
        "        pad_indices = torch.where(predictions[batch_idx] == tokenizer.EOS_TOKEN)[0]\n",
        "        lowest_pad_idx = pad_indices.min().item() if pad_indices.numel() > 0 else len(predictions[batch_idx])\n",
        "        pred_trimmed = predictions[batch_idx, :lowest_pad_idx]\n",
        "\n",
        "        # trim target upto EOS_TOKEN\n",
        "        y_trimmed   = y[batch_idx, 0 : y_len[batch_idx]-1]\n",
        "\n",
        "        # decodes\n",
        "        pred_string  = tokenizer.decode(pred_trimmed)\n",
        "        y_string     = tokenizer.decode(y_trimmed)\n",
        "\n",
        "        # calculate metrics and update\n",
        "        curr_dist, curr_wer, curr_cer = calculateMetrics(y_string, pred_string)\n",
        "        dist += curr_dist\n",
        "        wer  += curr_wer\n",
        "        cer  += curr_cer\n",
        "\n",
        "    # average by batch sizr\n",
        "    dist /= batch_size\n",
        "    wer  /= batch_size\n",
        "    cer  /= batch_size\n",
        "    return dist, wer, cer, y_string, pred_string"
      ]
    },
    {
      "cell_type": "markdown",
      "metadata": {
        "id": "fVo9xS1WMKcC"
      },
      "source": [
        "# Misc."
      ]
    },
    {
      "cell_type": "code",
      "execution_count": null,
      "metadata": {
        "id": "r84bnhRWMEM5"
      },
      "outputs": [],
      "source": [
        "def save_attention_plot(plot_path, attention_weights, epoch=0, mode: Literal['full', 'dec_cond_lm', 'dec_lm'] = 'full'):\n",
        "    \"\"\"\n",
        "    Saves attention weights plot to a specified path.\n",
        "\n",
        "    Args:\n",
        "        plot_path (str): Directory path where the plot will be saved.\n",
        "        attention_weights (Tensor): Attention weights to plot.\n",
        "        epoch (int): Current training epoch (default is 0).\n",
        "        mode (str): Mode of attention - 'full', 'dec_cond_lm', or 'dec_lm'.\n",
        "    \"\"\"\n",
        "    if not isinstance(attention_weights, (np.ndarray, torch.Tensor)):\n",
        "        raise ValueError(\"attention_weights must be a numpy array or torch Tensor\")\n",
        "\n",
        "    plt.clf()  # Clear the current figure\n",
        "    sns.heatmap(attention_weights, cmap=\"viridis\", cbar=True)  # Create heatmap\n",
        "    plt.title(f\"{mode} Attention Weights - Epoch {epoch}\")\n",
        "    plt.xlabel(\"Target Sequence\")\n",
        "    plt.ylabel(\"Source Sequence\")\n",
        "\n",
        "    # Save the plot with clearer filename distinction\n",
        "    attention_type = \"cross\" if epoch < 100 else \"self\"\n",
        "    epoch_label = epoch if epoch < 100 else epoch - 100\n",
        "    plt.savefig(f\"{plot_path}/{mode}_{attention_type}_attention_epoch{epoch_label}.png\")\n",
        "\n",
        "\n",
        "\n",
        "\n",
        "def save_model(model, optimizer, scheduler, metric, epoch, path):\n",
        "    \"\"\"\n",
        "    Saves the model, optimizer, and scheduler states along with a metric to a specified path.\n",
        "\n",
        "    Args:\n",
        "        model (nn.Module): Model to be saved.\n",
        "        optimizer (Optimizer): Optimizer state to save.\n",
        "        scheduler (Scheduler or None): Scheduler state to save.\n",
        "        metric (tuple): Metric tuple (name, value) to be saved.\n",
        "        epoch (int): Current epoch number.\n",
        "        path (str): File path for saving.\n",
        "    \"\"\"\n",
        "    # Ensure metric is provided as a tuple with correct structure\n",
        "    if not (isinstance(metric, tuple) and len(metric) == 2):\n",
        "        raise ValueError(\"metric must be a tuple in the form (name, value)\")\n",
        "\n",
        "    torch.save(\n",
        "        {\n",
        "            \"model_state_dict\": model.state_dict(),\n",
        "            \"optimizer_state_dict\": optimizer.state_dict(),\n",
        "            \"scheduler_state_dict\": scheduler.state_dict() if scheduler else {},\n",
        "            metric[0]: metric[1],  # Unpacks the metric name and value\n",
        "            \"epoch\": epoch\n",
        "        },\n",
        "        path\n",
        "    )\n",
        "\n",
        "\n",
        "def load_checkpoint(\n",
        "    checkpoint_path,\n",
        "    model,\n",
        "    embedding_load: bool,\n",
        "    encoder_load: bool,\n",
        "    decoder_load: bool,\n",
        "    optimizer=None,\n",
        "    scheduler=None\n",
        "):\n",
        "    \"\"\"\n",
        "    Loads weights from a checkpoint into the model and optionally returns updated model, optimizer, and scheduler.\n",
        "\n",
        "    Args:\n",
        "        checkpoint_path (str): Path to the checkpoint file.\n",
        "        model (Transformer): Transformer model to load weights into.\n",
        "        embedding_load (bool): Load embedding weights if True.\n",
        "        encoder_load (bool): Load encoder weights if True.\n",
        "        decoder_load (bool): Load decoder weights if True.\n",
        "        optimizer (Optimizer, optional): Optimizer to load state into (if provided).\n",
        "        scheduler (Scheduler, optional): Scheduler to load state into (if provided).\n",
        "\n",
        "    Returns:\n",
        "        model (Transformer): Model with loaded weights.\n",
        "        optimizer (Optimizer or None): Optimizer with loaded state if provided.\n",
        "        scheduler (Scheduler or None): Scheduler with loaded state if provided.\n",
        "    \"\"\"\n",
        "    # Load the checkpoint\n",
        "    checkpoint = torch.load(checkpoint_path)\n",
        "    model_state_dict = model.state_dict()\n",
        "\n",
        "    # Define the components to be loaded\n",
        "    load_map = {\n",
        "        \"embedding\": embedding_load,\n",
        "        \"encoder\": encoder_load,\n",
        "        \"decoder\": decoder_load\n",
        "    }\n",
        "\n",
        "    # Filter and load the specified components\n",
        "    for key, should_load in load_map.items():\n",
        "        if should_load:\n",
        "            component_state_dict = {k: v for k, v in checkpoint['model_state_dict'].items() if k.startswith(key)}\n",
        "            if component_state_dict:\n",
        "                model_state_dict.update(component_state_dict)\n",
        "            else:\n",
        "                print(f\"Warning: No weights found for {key} in checkpoint.\")\n",
        "\n",
        "    # Load the updated state_dict into the model\n",
        "    model.load_state_dict(model_state_dict, strict=False)\n",
        "    loaded_components = \", \".join([k.capitalize() for k, v in load_map.items() if v])\n",
        "    print(f\"Loaded components: {loaded_components}\")\n",
        "\n",
        "    # Load optimizer and scheduler states if available and provided\n",
        "    if optimizer and \"optimizer_state_dict\" in checkpoint:\n",
        "        optimizer.load_state_dict(checkpoint[\"optimizer_state_dict\"])\n",
        "    if scheduler and \"scheduler_state_dict\" in checkpoint:\n",
        "        scheduler.load_state_dict(checkpoint[\"scheduler_state_dict\"])\n",
        "\n",
        "    return model, optimizer, scheduler"
      ]
    },
    {
      "cell_type": "markdown",
      "metadata": {
        "id": "zBEWp0ttMPeS"
      },
      "source": [
        "## Train | Validate"
      ]
    },
    {
      "cell_type": "code",
      "execution_count": null,
      "metadata": {
        "id": "00gdlP8zcNcT"
      },
      "outputs": [],
      "source": [
        "def train_step(\n",
        "    model: nn.Module,\n",
        "    criterion: nn.CrossEntropyLoss,\n",
        "    ctc_loss: nn.CTCLoss,\n",
        "    ctc_weight: float,\n",
        "    optimizer,\n",
        "    scheduler,\n",
        "    scaler,\n",
        "    device: str,\n",
        "    train_loader: DataLoader,\n",
        "    tokenizer: Any,\n",
        "    mode: Literal['full', 'dec_cond_lm', 'dec_lm']\n",
        ") -> Tuple[float, float, torch.Tensor]:\n",
        "    \"\"\"\n",
        "    Trains a model for one epoch based on the specified training mode.\n",
        "\n",
        "    Args:\n",
        "        model (nn.Module): The model to train.\n",
        "        criterion (nn.CrossEntropyLoss): The loss function for cross-entropy.\n",
        "        ctc_loss (nn.CTCLoss): The loss function for CTC.\n",
        "        ctc_weight (float): Weight of the CTC loss in the total loss calculation.\n",
        "        optimizer (Optimizer): The optimizer to update model parameters.\n",
        "        scheduler (_LRScheduler): The learning rate scheduler.\n",
        "        scaler (GradScaler): For mixed-precision training.\n",
        "        device (str): The device to run training on, e.g., 'cuda' or 'cpu'.\n",
        "        train_loader (DataLoader): The training data loader.\n",
        "        tokenizer (Any): Tokenizer with PAD_TOKEN attribute.\n",
        "        mode (Literal): Specifies the training objective.\n",
        "\n",
        "    Returns:\n",
        "        Tuple[float, float, torch.Tensor]: The average training loss, perplexity, and attention weights.\n",
        "    \"\"\"\n",
        "    model.train()\n",
        "    batch_bar = tqdm(total=len(train_loader), dynamic_ncols=True, leave=False, position=0, desc=f\"[Train mode: {mode}]\")\n",
        "\n",
        "    running_loss = 0.0\n",
        "    running_perplexity = 0.0\n",
        "\n",
        "    for i, batch in enumerate(train_loader):\n",
        "        optimizer.zero_grad()\n",
        "\n",
        "        # Separate inputs and targets based on the mode\n",
        "        if mode != 'dec_lm':\n",
        "            inputs, targets_shifted, targets_golden, inputs_lengths, targets_lengths = batch\n",
        "            inputs = inputs.to(device)\n",
        "        else:\n",
        "            inputs, inputs_lengths = None, None\n",
        "            targets_shifted, targets_golden, targets_lengths = batch\n",
        "\n",
        "        targets_shifted = targets_shifted.to(device)\n",
        "        targets_golden = targets_golden.to(device)\n",
        "\n",
        "        # Forward pass with mixed-precision\n",
        "        with torch.autocast(device_type=device, dtype=torch.float16):\n",
        "            raw_predictions, attention_weights, ctc_out = model(inputs, inputs_lengths, targets_shifted, targets_lengths, mode=mode)\n",
        "            padding_mask = torch.logical_not(torch.eq(targets_shifted, tokenizer.PAD_TOKEN))\n",
        "\n",
        "            # Calculate cross-entropy loss\n",
        "            ce_loss = criterion(raw_predictions.transpose(1, 2), targets_golden) * padding_mask\n",
        "            loss = ce_loss.sum() / padding_mask.sum()\n",
        "\n",
        "\n",
        "            # Optionally optimize a weighted sum of ce and ctc_loss from the encoder outputs\n",
        "            # Only available during full transformer training, a ctc_loss must be passed in\n",
        "            if mode == 'full' and ctc_loss and ctc_out is not None:\n",
        "                inputs_lengths = torch.ceil(inputs_lengths.float() / model.embedding.time_downsampling_factor).int()\n",
        "                inputs_lengths = inputs_lengths.clamp(max=ctc_out.size(0))\n",
        "                loss += ctc_weight * ctc_loss(ctc_out, targets_golden, inputs_lengths, targets_lengths)\n",
        "\n",
        "        # Backward pass and optimization with mixed-precision\n",
        "        scaler.scale(loss).backward()\n",
        "        scaler.step(optimizer)\n",
        "        scaler.update()\n",
        "\n",
        "        # Accumulate loss and perplexity for monitoring\n",
        "        running_loss += float(loss.item())\n",
        "        perplexity = torch.exp(loss)\n",
        "        running_perplexity += perplexity.item()\n",
        "\n",
        "        # Update the progress bar\n",
        "        batch_bar.set_postfix(\n",
        "            loss=f\"{running_loss / (i + 1):.4f}\",\n",
        "            perplexity=f\"{running_perplexity / (i + 1):.4f}\"\n",
        "        )\n",
        "        batch_bar.update()\n",
        "\n",
        "        # Clean up to save memory\n",
        "        del inputs, targets_shifted, targets_golden, inputs_lengths, targets_lengths\n",
        "        torch.cuda.empty_cache()\n",
        "\n",
        "    # Compute average loss and perplexity\n",
        "    avg_loss = running_loss / len(train_loader)\n",
        "    avg_perplexity = running_perplexity / len(train_loader)\n",
        "    batch_bar.close()\n",
        "\n",
        "    return avg_loss, avg_perplexity, attention_weights\n"
      ]
    },
    {
      "cell_type": "code",
      "execution_count": null,
      "metadata": {
        "id": "40hd6hH5dEBi"
      },
      "outputs": [],
      "source": [
        "def validate_step(\n",
        "    model: nn.Module,\n",
        "    val_loader: torch.utils.data.DataLoader,\n",
        "    tokenizer: Any,\n",
        "    device: str,\n",
        "    mode: Literal['full', 'dec_cond_lm', 'dec_lm'],\n",
        "    threshold: int = 5\n",
        ") -> Tuple[float, Dict[int, Dict[str, str]], float, float]:\n",
        "    \"\"\"\n",
        "    Validates the model on the validation dataset.\n",
        "\n",
        "    Args:\n",
        "        model (nn.Module): The model to validate.\n",
        "        val_loader (DataLoader): Validation data loader.\n",
        "        tokenizer (Any): Tokenizer with a method to handle special tokens.\n",
        "        device (str): The device to run validation on, e.g., 'cuda' or 'cpu'.\n",
        "        mode (Literal): Specifies the validation objective.\n",
        "        threshold (int, optional): Max number of batches to validate on (for early stopping).\n",
        "\n",
        "    Returns:\n",
        "        Tuple[float, Dict[int, Dict[str, str]], float, float]: The average distance, JSON output with inputs/outputs,\n",
        "                                                               average WER, and average CER.\n",
        "    \"\"\"\n",
        "    model.eval()\n",
        "    batch_bar = tqdm(total=len(val_loader), dynamic_ncols=True, leave=False, position=0, desc=\"Val\")\n",
        "\n",
        "    running_distance = 0.0\n",
        "    running_wer = 0.0\n",
        "    running_cer = 0.0\n",
        "    json_output = {}\n",
        "\n",
        "    with torch.inference_mode():\n",
        "        for i, batch in enumerate(val_loader):\n",
        "            # Separate inputs and targets based on the mode\n",
        "            if mode != 'dec_lm':\n",
        "                inputs, targets_shifted, targets_golden, inputs_lengths, targets_lengths = batch\n",
        "                inputs = inputs.to(device)\n",
        "            else:\n",
        "                inputs, inputs_lengths = None, None\n",
        "                _, targets_shifted, targets_golden, _, targets_lengths = batch\n",
        "\n",
        "\n",
        "            targets_shifted = targets_shifted.to(device)\n",
        "            targets_golden = targets_golden.to(device)\n",
        "\n",
        "            # Perform recognition and calculate metrics\n",
        "            greedy_predictions = model.recognize(inputs, inputs_lengths, tokenizer=tokenizer, mode=mode)\n",
        "            dist, wer, cer, y_string, pred_string = calculateBatchMetrics(greedy_predictions, targets_golden, targets_lengths, tokenizer)\n",
        "\n",
        "            # Accumulate metrics\n",
        "            running_distance += dist\n",
        "            running_wer += wer\n",
        "            running_cer += cer\n",
        "            json_output[i] = {\"Input\": y_string, \"Output\": pred_string}\n",
        "\n",
        "            # Update progress bar\n",
        "            batch_bar.set_postfix(\n",
        "                running_distance=f\"{running_distance / (i + 1):.4f}\",\n",
        "                WER=f\"{running_wer / (i + 1):.4f}\",\n",
        "                CER=f\"{running_cer / (i + 1):.4f}\"\n",
        "            )\n",
        "            batch_bar.update()\n",
        "\n",
        "            # Early stopping for thresholded validation\n",
        "            if threshold and i == threshold:\n",
        "                break\n",
        "\n",
        "            del inputs, targets_shifted, targets_golden, inputs_lengths, targets_lengths\n",
        "            torch.cuda.empty_cache()\n",
        "\n",
        "    # Compute averages\n",
        "    num_batches = threshold + 1 if threshold else len(val_loader)\n",
        "    avg_distance = running_distance / num_batches\n",
        "    avg_wer = running_wer / num_batches\n",
        "    avg_cer = running_cer / num_batches\n",
        "    batch_bar.close()\n",
        "\n",
        "    return avg_distance, json_output, avg_wer, avg_cer\n"
      ]
    },
    {
      "cell_type": "markdown",
      "metadata": {
        "id": "6apcgne0MS0f"
      },
      "source": [
        "# Loss | Optim | Scheduler"
      ]
    },
    {
      "cell_type": "code",
      "execution_count": null,
      "metadata": {
        "id": "xLAsPEHjMQxn"
      },
      "outputs": [],
      "source": [
        "loss_func   = nn.CrossEntropyLoss(ignore_index = Tokenizer.PAD_TOKEN)\n",
        "ctc_loss_fn  = None\n",
        "if config['use_ctc']:\n",
        "    ctc_loss_fn = nn.CTCLoss(blank=Tokenizer.PAD_TOKEN)\n",
        "scaler      = torch.cuda.amp.GradScaler()\n",
        "\n",
        "def get_optimizer():\n",
        "    optimizer = None\n",
        "    if config[\"optimizer\"] == \"SGD\":\n",
        "        # feel free to change any of the initializations you like to fit your needs\n",
        "        optimizer = torch.optim.SGD(model.parameters(),\n",
        "                                    lr=config[\"learning_rate\"],\n",
        "                                    momentum=config[\"momentum\"],\n",
        "                                    weight_decay=1E-4,\n",
        "                                    nesterov=config[\"nesterov\"])\n",
        "\n",
        "    elif config[\"optimizer\"] == \"Adam\":\n",
        "        # feel free to change any of the initializations you like to fit your needs\n",
        "        optimizer = torch.optim.Adam(model.parameters(),\n",
        "                                    lr=float(config[\"learning_rate\"]),weight_decay=0.01 )\n",
        "\n",
        "    elif config[\"optimizer\"] == \"AdamW\":\n",
        "        # feel free to change any of the initializations you like to fit your needs\n",
        "        optimizer = torch.optim.AdamW(model.parameters(),\n",
        "                                    lr=float(config[\"learning_rate\"]),\n",
        "                                    weight_decay=0.01)\n",
        "    return optimizer\n",
        "optimizer = get_optimizer()\n",
        "assert optimizer!=None\n",
        "\n",
        "def get_scheduler():\n",
        "    scheduler  =  None\n",
        "    if config[\"scheduler\"] == \"ReduceLR\":\n",
        "        #Feel Free to change any of the initializations you like to fit your needs\n",
        "        scheduler = torch.optim.lr_scheduler.ReduceLROnPlateau(optimizer,\n",
        "                        factor=config[\"factor\"], patience=config[\"patience\"], min_lr=1E-8, threshold=1E-1)\n",
        "\n",
        "    elif config[\"scheduler\"] == \"CosineAnnealing\":\n",
        "        #Feel Free to change any of the initializations you like to fit your needs\n",
        "        scheduler = torch.optim.lr_scheduler.CosineAnnealingLR(optimizer,\n",
        "                        T_max = config[\"epochs\"], eta_min=1E-8)\n",
        "    return scheduler\n",
        "\n",
        "scheduler = get_scheduler()\n",
        "assert scheduler!=None"
      ]
    },
    {
      "cell_type": "markdown",
      "metadata": {
        "id": "xxEJ_QfEMWUm"
      },
      "source": [
        "# Wandb"
      ]
    },
    {
      "cell_type": "code",
      "execution_count": null,
      "metadata": {
        "colab": {
          "base_uri": "https://localhost:8080/",
          "height": 213
        },
        "id": "T5wjBjQTMWh3",
        "outputId": "7973a2b0-85de-413f-d8b2-46f68948d7f4"
      },
      "outputs": [
        {
          "output_type": "stream",
          "name": "stderr",
          "text": [
            "\u001b[34m\u001b[1mwandb\u001b[0m: \u001b[33mWARNING\u001b[0m If you're specifying your api key in code, ensure this code is not shared publicly.\n",
            "\u001b[34m\u001b[1mwandb\u001b[0m: \u001b[33mWARNING\u001b[0m Consider setting the WANDB_API_KEY environment variable, or running `wandb login` from the command line.\n",
            "\u001b[34m\u001b[1mwandb\u001b[0m: Appending key for api.wandb.ai to your netrc file: /root/.netrc\n"
          ]
        },
        {
          "output_type": "display_data",
          "data": {
            "text/plain": [
              "<IPython.core.display.HTML object>"
            ],
            "text/html": [
              "Tracking run with wandb version 0.18.7"
            ]
          },
          "metadata": {}
        },
        {
          "output_type": "display_data",
          "data": {
            "text/plain": [
              "<IPython.core.display.HTML object>"
            ],
            "text/html": [
              "Run data is saved locally in <code>/content/wandb/run-20241206_151402-r3ftslxl</code>"
            ]
          },
          "metadata": {}
        },
        {
          "output_type": "display_data",
          "data": {
            "text/plain": [
              "<IPython.core.display.HTML object>"
            ],
            "text/html": [
              "Resuming run <strong><a href='https://wandb.ai/aaayush-carnegie-mellon-university/HW4P2-Fall/runs/r3ftslxl' target=\"_blank\">Aditya Aayush_fbank_Transformer_ENC-4-8_DEC-4-8_512_2048_AdamW_CosineAnnealing_token_1k</a></strong> to <a href='https://wandb.ai/aaayush-carnegie-mellon-university/HW4P2-Fall' target=\"_blank\">Weights & Biases</a> (<a href='https://wandb.me/developer-guide' target=\"_blank\">docs</a>)<br/>"
            ]
          },
          "metadata": {}
        },
        {
          "output_type": "display_data",
          "data": {
            "text/plain": [
              "<IPython.core.display.HTML object>"
            ],
            "text/html": [
              " View project at <a href='https://wandb.ai/aaayush-carnegie-mellon-university/HW4P2-Fall' target=\"_blank\">https://wandb.ai/aaayush-carnegie-mellon-university/HW4P2-Fall</a>"
            ]
          },
          "metadata": {}
        },
        {
          "output_type": "display_data",
          "data": {
            "text/plain": [
              "<IPython.core.display.HTML object>"
            ],
            "text/html": [
              " View run at <a href='https://wandb.ai/aaayush-carnegie-mellon-university/HW4P2-Fall/runs/r3ftslxl' target=\"_blank\">https://wandb.ai/aaayush-carnegie-mellon-university/HW4P2-Fall/runs/r3ftslxl</a>"
            ]
          },
          "metadata": {}
        },
        {
          "output_type": "execute_result",
          "data": {
            "text/plain": [
              "33417"
            ]
          },
          "metadata": {},
          "execution_count": 45
        }
      ],
      "source": [
        "# using WandB? resume training?\n",
        "USE_WANDB = config['use_wandb']\n",
        "RESUME_LOGGING = True\n",
        "\n",
        "# creating your WandB run\n",
        "run_name = \"{}_{}_Transformer_ENC-{}-{}_DEC-{}-{}_{}_{}_{}_{}_token_{}\".format(\n",
        "    config[\"Name\"],\n",
        "    config['feat_type'],\n",
        "    config[\"enc_num_layers\"],\n",
        "    config[\"enc_num_heads\"],\n",
        "    config[\"dec_num_layers\"],\n",
        "    config[\"dec_num_heads\"],\n",
        "    config[\"d_model\"],\n",
        "    config[\"d_ff\"],\n",
        "    config[\"optimizer\"],\n",
        "    config[\"scheduler\"],\n",
        "    config[\"token_type\"],\n",
        "    )\n",
        "\n",
        "expt_root = os.path.join(os.getcwd(), run_name)\n",
        "os.makedirs(expt_root, exist_ok=True)\n",
        "\n",
        "if USE_WANDB:\n",
        "    wandb.login(key=\"7664f3b17a98ffe7c64b549e349123b61a9d3024\", relogin=True) # TODO enter your key here\n",
        "\n",
        "    if RESUME_LOGGING:\n",
        "        run_id = \"r3ftslxl\"\n",
        "        run = wandb.init(\n",
        "            id     = run_id,        ### Insert specific run id here if you want to resume a previous run\n",
        "            resume = True,          ### You need this to resume previous runs, but comment out reinit=True when using this\n",
        "            project = \"HW4P2-Fall\",  ### Project should be created in your wandb account\n",
        "        )\n",
        "\n",
        "    else:\n",
        "        run = wandb.init(\n",
        "            name    = run_name,     ### Wandb creates random run names if you skip this field, we recommend you give useful names\n",
        "            reinit  = True,         ### Allows reinitalizing runs when you re-run this cell\n",
        "            project = \"HW4P2-Fall\",  ### Project should be created in your wandb account\n",
        "            config  = config        ### Wandb Config for your run\n",
        "        )\n",
        "\n",
        "        ### Save your model architecture as a string with str(model)\n",
        "        model_arch  = str(model)\n",
        "        ### Save it in a txt file\n",
        "        model_path = os.path.join(expt_root, \"model_arch.txt\")\n",
        "        arch_file   = open(model_path, \"w\")\n",
        "        file_write  = arch_file.write(model_arch)\n",
        "        arch_file.close()\n",
        "\n",
        "        ### Log it in your wandb run with wandb.sav\n",
        "\n",
        "\n",
        "### Create a local directory with all the checkpoints\n",
        "shutil.copy(os.path.join(os.getcwd(), 'config.yaml'), os.path.join(expt_root, 'config.yaml'))\n",
        "e                   = 0\n",
        "best_loss           = 10.0\n",
        "best_perplexity     = 10.0\n",
        "best_dist = 60\n",
        "RESUME_LOGGING = False\n",
        "checkpoint_root = os.path.join(expt_root, 'checkpoints')\n",
        "text_root       = os.path.join(expt_root, 'out_text')\n",
        "attn_img_root   = os.path.join(expt_root, 'attention_imgs')\n",
        "os.makedirs(checkpoint_root, exist_ok=True)\n",
        "os.makedirs(attn_img_root,   exist_ok=True)\n",
        "os.makedirs(text_root,       exist_ok=True)\n",
        "checkpoint_best_loss_model_filename     = 'checkpoint-best-loss-modelfull.pth'\n",
        "checkpoint_last_epoch_filename          = 'checkpoint-epochfull-'\n",
        "best_loss_model_path                    = os.path.join(checkpoint_root, checkpoint_best_loss_model_filename)\n",
        "\n",
        "\n",
        "if USE_WANDB:\n",
        "    wandb.watch(model, log=\"all\")\n",
        "\n",
        "if RESUME_LOGGING:\n",
        "    # change if you want to load best test model accordingly\n",
        "    checkpoint = torch.load(wandb.restore(checkpoint_best_loss_model_filename, run_path=\"\"+run_id).name)\n",
        "\n",
        "    model.load_state_dict(checkpoint['model_state_dict'])\n",
        "    optimizer.load_state_dict(checkpoint['optimizer_state_dict'])\n",
        "    e = checkpoint['epoch']\n",
        "\n",
        "    print(\"Resuming from epoch {}\".format(e+1))\n",
        "    print(\"Epochs left: \", config['epochs']-e)\n",
        "    print(\"Optimizer: \\n\", optimizer)\n",
        "\n",
        "torch.cuda.empty_cache()\n",
        "gc.collect()"
      ]
    },
    {
      "cell_type": "markdown",
      "metadata": {
        "id": "izL4GpmiMZci"
      },
      "source": [
        "# Pretrain Approach 1: Decoder LM\n",
        " - Train a decoder on TextDataset as a language model for 20-30 eps."
      ]
    },
    {
      "cell_type": "code",
      "execution_count": null,
      "metadata": {
        "id": "lRaXM0EyMZvc"
      },
      "outputs": [],
      "source": [
        "# set your epochs for this approach\n",
        "epochs = 20\n",
        "\n",
        "for epoch in range(e, epochs):\n",
        "\n",
        "    print(\"\\nEpoch {}/{}\".format(epoch+1, epochs))\n",
        "\n",
        "    curr_lr = float(optimizer.param_groups[0][\"lr\"])\n",
        "\n",
        "    train_loss, train_perplexity, attention_weights = train_step(\n",
        "        model,\n",
        "        criterion=loss_func,\n",
        "        ctc_loss=None,\n",
        "        ctc_weight=0.,\n",
        "        optimizer=optimizer,\n",
        "        scheduler=scheduler,\n",
        "        scaler=scaler,\n",
        "        device=device,\n",
        "        train_loader=text_loader,\n",
        "        tokenizer=Tokenizer,\n",
        "        mode='dec_lm'\n",
        "    )\n",
        "\n",
        "    print(\"\\nEpoch {}/{}: \\nTrain Loss {:.04f}\\t Train Perplexity {:.04f}\\t Learning Rate {:.06f}\".format(\n",
        "        epoch + 1, epochs, train_loss, train_perplexity, curr_lr))\n",
        "\n",
        "    attention_keys = list(attention_weights.keys())\n",
        "    attention_weights_decoder_self       = attention_weights[attention_keys[0]][0].cpu().detach().numpy()\n",
        "    attention_weights_decoder_cross      = attention_weights[attention_keys[-1]][0].cpu().detach().numpy()\n",
        "\n",
        "    if USE_WANDB:\n",
        "        wandb.log({\n",
        "            \"train_loss\"       : train_loss,\n",
        "            \"train_perplexity\" : train_perplexity,\n",
        "            \"learning_rate\"    : curr_lr,\n",
        "        })\n",
        "\n",
        "\n",
        "    save_attention_plot(str(attn_img_root), attention_weights_decoder_cross, epoch,    mode='dec_lm')\n",
        "    save_attention_plot(str(attn_img_root), attention_weights_decoder_self, epoch+100, mode='dec_lm')\n",
        "    if config[\"scheduler\"] == \"ReduceLR\":\n",
        "        scheduler.step(train_perplexity)\n",
        "    else:\n",
        "        scheduler.step()\n",
        "\n",
        "    ### Highly Recommended: Save checkpoint in drive and/or wandb if accuracy is better than your current best\n",
        "    epoch_model_path = os.path.join(checkpoint_root, (checkpoint_last_epoch_filename + str(epoch) + '.pth'))\n",
        "    save_model(model, optimizer, scheduler, ('perplexity', train_perplexity), epoch, epoch_model_path)\n",
        "\n",
        "    if best_perplexity >= train_perplexity:\n",
        "        best_perplexity = train_perplexity\n",
        "        save_model(model, optimizer, scheduler, ('perplexity', train_perplexity), epoch, best_loss_model_path)\n",
        "        print(\"Saved best perplexity model\")\n",
        "\n",
        "### Finish your wandb run\n",
        "if USE_WANDB:\n",
        "    run.finish()\n",
        "#### ----------------------------------------------------------------------------------------------------------------------"
      ]
    },
    {
      "cell_type": "markdown",
      "metadata": {
        "id": "lhHd9VEeMmJM"
      },
      "source": [
        "# Pretrain Approach 2: Decoder Conditional LM w/ SpeechEmbeddings\n",
        " - Train a decoder on Librispeech 100 but as a conditional language model reliant on only simple embeddings for 20-30 eps.\n",
        " - Then finally, unfreeze everything and train the Full Transformer."
      ]
    },
    {
      "cell_type": "code",
      "execution_count": null,
      "metadata": {
        "colab": {
          "base_uri": "https://localhost:8080/"
        },
        "id": "QroAYyL5McVO",
        "outputId": "f8502de8-f51c-4bcb-e2f7-dbd42b7d26ca"
      },
      "outputs": [
        {
          "output_type": "stream",
          "name": "stdout",
          "text": [
            "\n",
            "Epoch 1/20\n"
          ]
        },
        {
          "output_type": "stream",
          "name": "stderr",
          "text": []
        },
        {
          "output_type": "stream",
          "name": "stdout",
          "text": [
            "\n",
            "Epoch 1/20: \n",
            "Train Loss 4.3444\t Train Perplexity 89.3092\t Learning Rate 0.000200\n"
          ]
        },
        {
          "output_type": "stream",
          "name": "stderr",
          "text": []
        },
        {
          "output_type": "stream",
          "name": "stdout",
          "text": [
            "Levenshtein Distance : 117.2917\n",
            "WER                  : 171.3124\n",
            "CER                  : 133.1886\n",
            "\n",
            "Epoch 2/20\n"
          ]
        },
        {
          "output_type": "stream",
          "name": "stderr",
          "text": []
        },
        {
          "output_type": "stream",
          "name": "stdout",
          "text": [
            "\n",
            "Epoch 2/20: \n",
            "Train Loss 3.7380\t Train Perplexity 42.2124\t Learning Rate 0.000200\n"
          ]
        },
        {
          "output_type": "stream",
          "name": "stderr",
          "text": []
        },
        {
          "output_type": "stream",
          "name": "stdout",
          "text": [
            "Levenshtein Distance : 104.7500\n",
            "WER                  : 133.9012\n",
            "CER                  : 109.2995\n",
            "\n",
            "Epoch 3/20\n"
          ]
        },
        {
          "output_type": "stream",
          "name": "stderr",
          "text": []
        },
        {
          "output_type": "stream",
          "name": "stdout",
          "text": [
            "\n",
            "Epoch 3/20: \n",
            "Train Loss 3.5287\t Train Perplexity 34.2051\t Learning Rate 0.000200\n"
          ]
        },
        {
          "output_type": "stream",
          "name": "stderr",
          "text": []
        },
        {
          "output_type": "stream",
          "name": "stdout",
          "text": [
            "Levenshtein Distance : 106.0833\n",
            "WER                  : 155.1012\n",
            "CER                  : 115.5645\n",
            "\n",
            "Epoch 4/20\n"
          ]
        },
        {
          "output_type": "stream",
          "name": "stderr",
          "text": []
        },
        {
          "output_type": "stream",
          "name": "stdout",
          "text": [
            "\n",
            "Epoch 4/20: \n",
            "Train Loss 3.3972\t Train Perplexity 29.9792\t Learning Rate 0.000200\n"
          ]
        },
        {
          "output_type": "stream",
          "name": "stderr",
          "text": []
        },
        {
          "output_type": "stream",
          "name": "stdout",
          "text": [
            "Levenshtein Distance : 109.4583\n",
            "WER                  : 166.5356\n",
            "CER                  : 119.7872\n",
            "\n",
            "Epoch 5/20\n"
          ]
        },
        {
          "output_type": "stream",
          "name": "stderr",
          "text": []
        },
        {
          "output_type": "stream",
          "name": "stdout",
          "text": [
            "\n",
            "Epoch 5/20: \n",
            "Train Loss 3.2979\t Train Perplexity 27.1421\t Learning Rate 0.000199\n"
          ]
        },
        {
          "output_type": "stream",
          "name": "stderr",
          "text": []
        },
        {
          "output_type": "stream",
          "name": "stdout",
          "text": [
            "Levenshtein Distance : 119.3750\n",
            "WER                  : 180.4205\n",
            "CER                  : 128.2821\n",
            "\n",
            "Epoch 6/20\n"
          ]
        },
        {
          "output_type": "stream",
          "name": "stderr",
          "text": []
        },
        {
          "output_type": "stream",
          "name": "stdout",
          "text": [
            "\n",
            "Epoch 6/20: \n",
            "Train Loss 3.2158\t Train Perplexity 25.0078\t Learning Rate 0.000199\n"
          ]
        },
        {
          "output_type": "stream",
          "name": "stderr",
          "text": []
        },
        {
          "output_type": "stream",
          "name": "stdout",
          "text": [
            "Levenshtein Distance : 105.5833\n",
            "WER                  : 165.1214\n",
            "CER                  : 109.7510\n",
            "\n",
            "Epoch 7/20\n"
          ]
        },
        {
          "output_type": "stream",
          "name": "stderr",
          "text": []
        },
        {
          "output_type": "stream",
          "name": "stdout",
          "text": [
            "\n",
            "Epoch 7/20: \n",
            "Train Loss 3.1441\t Train Perplexity 23.2752\t Learning Rate 0.000198\n"
          ]
        },
        {
          "output_type": "stream",
          "name": "stderr",
          "text": []
        },
        {
          "output_type": "stream",
          "name": "stdout",
          "text": [
            "Levenshtein Distance : 98.3750\n",
            "WER                  : 128.6237\n",
            "CER                  : 101.9889\n",
            "\n",
            "Epoch 8/20\n"
          ]
        },
        {
          "output_type": "stream",
          "name": "stderr",
          "text": []
        },
        {
          "output_type": "stream",
          "name": "stdout",
          "text": [
            "\n",
            "Epoch 8/20: \n",
            "Train Loss 3.0784\t Train Perplexity 21.7955\t Learning Rate 0.000198\n"
          ]
        },
        {
          "output_type": "stream",
          "name": "stderr",
          "text": []
        },
        {
          "output_type": "stream",
          "name": "stdout",
          "text": [
            "Levenshtein Distance : 120.4167\n",
            "WER                  : 172.4998\n",
            "CER                  : 130.2242\n",
            "\n",
            "Epoch 9/20\n"
          ]
        },
        {
          "output_type": "stream",
          "name": "stderr",
          "text": []
        },
        {
          "output_type": "stream",
          "name": "stdout",
          "text": [
            "\n",
            "Epoch 9/20: \n",
            "Train Loss 3.0173\t Train Perplexity 20.5030\t Learning Rate 0.000197\n"
          ]
        },
        {
          "output_type": "stream",
          "name": "stderr",
          "text": []
        },
        {
          "output_type": "stream",
          "name": "stdout",
          "text": [
            "Levenshtein Distance : 113.4583\n",
            "WER                  : 152.9016\n",
            "CER                  : 121.9034\n",
            "\n",
            "Epoch 10/20\n"
          ]
        },
        {
          "output_type": "stream",
          "name": "stderr",
          "text": []
        },
        {
          "output_type": "stream",
          "name": "stdout",
          "text": [
            "\n",
            "Epoch 10/20: \n",
            "Train Loss 2.9577\t Train Perplexity 19.3199\t Learning Rate 0.000196\n"
          ]
        },
        {
          "output_type": "stream",
          "name": "stderr",
          "text": []
        },
        {
          "output_type": "stream",
          "name": "stdout",
          "text": [
            "Levenshtein Distance : 110.9167\n",
            "WER                  : 159.0126\n",
            "CER                  : 117.5741\n",
            "\n",
            "Epoch 11/20\n"
          ]
        },
        {
          "output_type": "stream",
          "name": "stderr",
          "text": []
        },
        {
          "output_type": "stream",
          "name": "stdout",
          "text": [
            "\n",
            "Epoch 11/20: \n",
            "Train Loss 2.8987\t Train Perplexity 18.2189\t Learning Rate 0.000195\n"
          ]
        },
        {
          "output_type": "stream",
          "name": "stderr",
          "text": []
        },
        {
          "output_type": "stream",
          "name": "stdout",
          "text": [
            "Levenshtein Distance : 109.0000\n",
            "WER                  : 150.1112\n",
            "CER                  : 113.7339\n",
            "\n",
            "Epoch 12/20\n"
          ]
        },
        {
          "output_type": "stream",
          "name": "stderr",
          "text": []
        },
        {
          "output_type": "stream",
          "name": "stdout",
          "text": [
            "\n",
            "Epoch 12/20: \n",
            "Train Loss 2.8428\t Train Perplexity 17.2202\t Learning Rate 0.000194\n"
          ]
        },
        {
          "output_type": "stream",
          "name": "stderr",
          "text": []
        },
        {
          "output_type": "stream",
          "name": "stdout",
          "text": [
            "Levenshtein Distance : 119.2083\n",
            "WER                  : 167.4646\n",
            "CER                  : 128.9159\n",
            "\n",
            "Epoch 13/20\n"
          ]
        },
        {
          "output_type": "stream",
          "name": "stderr",
          "text": []
        },
        {
          "output_type": "stream",
          "name": "stdout",
          "text": [
            "\n",
            "Epoch 13/20: \n",
            "Train Loss 2.7891\t Train Perplexity 16.3244\t Learning Rate 0.000193\n"
          ]
        },
        {
          "output_type": "stream",
          "name": "stderr",
          "text": []
        },
        {
          "output_type": "stream",
          "name": "stdout",
          "text": [
            "Levenshtein Distance : 111.1667\n",
            "WER                  : 160.1903\n",
            "CER                  : 118.9890\n",
            "\n",
            "Epoch 14/20\n"
          ]
        },
        {
          "output_type": "stream",
          "name": "stderr",
          "text": []
        },
        {
          "output_type": "stream",
          "name": "stdout",
          "text": [
            "\n",
            "Epoch 14/20: \n",
            "Train Loss 2.7393\t Train Perplexity 15.5286\t Learning Rate 0.000192\n"
          ]
        },
        {
          "output_type": "stream",
          "name": "stderr",
          "text": []
        },
        {
          "output_type": "stream",
          "name": "stdout",
          "text": [
            "Levenshtein Distance : 115.4167\n",
            "WER                  : 169.4137\n",
            "CER                  : 128.9501\n",
            "\n",
            "Epoch 15/20\n"
          ]
        },
        {
          "output_type": "stream",
          "name": "stderr",
          "text": []
        },
        {
          "output_type": "stream",
          "name": "stdout",
          "text": [
            "\n",
            "Epoch 15/20: \n",
            "Train Loss 2.6899\t Train Perplexity 14.7855\t Learning Rate 0.000190\n"
          ]
        },
        {
          "output_type": "stream",
          "name": "stderr",
          "text": []
        },
        {
          "output_type": "stream",
          "name": "stdout",
          "text": [
            "Levenshtein Distance : 115.2083\n",
            "WER                  : 167.6190\n",
            "CER                  : 123.3672\n",
            "\n",
            "Epoch 16/20\n"
          ]
        },
        {
          "output_type": "stream",
          "name": "stderr",
          "text": []
        },
        {
          "output_type": "stream",
          "name": "stdout",
          "text": [
            "\n",
            "Epoch 16/20: \n",
            "Train Loss 2.6405\t Train Perplexity 14.0725\t Learning Rate 0.000189\n"
          ]
        },
        {
          "output_type": "stream",
          "name": "stderr",
          "text": []
        },
        {
          "output_type": "stream",
          "name": "stdout",
          "text": [
            "Levenshtein Distance : 108.4167\n",
            "WER                  : 151.3452\n",
            "CER                  : 115.0003\n",
            "\n",
            "Epoch 17/20\n"
          ]
        },
        {
          "output_type": "stream",
          "name": "stderr",
          "text": []
        },
        {
          "output_type": "stream",
          "name": "stdout",
          "text": [
            "\n",
            "Epoch 17/20: \n",
            "Train Loss 2.5924\t Train Perplexity 13.4138\t Learning Rate 0.000188\n"
          ]
        },
        {
          "output_type": "stream",
          "name": "stderr",
          "text": []
        },
        {
          "output_type": "stream",
          "name": "stdout",
          "text": [
            "Levenshtein Distance : 116.6250\n",
            "WER                  : 170.0488\n",
            "CER                  : 130.8291\n",
            "\n",
            "Epoch 18/20\n"
          ]
        },
        {
          "output_type": "stream",
          "name": "stderr",
          "text": []
        },
        {
          "output_type": "stream",
          "name": "stdout",
          "text": [
            "\n",
            "Epoch 18/20: \n",
            "Train Loss 2.5463\t Train Perplexity 12.8069\t Learning Rate 0.000186\n"
          ]
        },
        {
          "output_type": "stream",
          "name": "stderr",
          "text": []
        },
        {
          "output_type": "stream",
          "name": "stdout",
          "text": [
            "Levenshtein Distance : 111.5000\n",
            "WER                  : 154.4225\n",
            "CER                  : 119.0994\n",
            "\n",
            "Epoch 19/20\n"
          ]
        },
        {
          "output_type": "stream",
          "name": "stderr",
          "text": [
            "[Train mode: dec_cond_lm]:  44%|████▍     | 788/1784 [08:20<10:32,  1.58it/s, loss=2.4488, perplexity=11.6070]"
          ]
        },
        {
          "output_type": "stream",
          "name": "stdout",
          "text": [
            "Buffered data was truncated after reaching the output size limit."
          ]
        }
      ],
      "source": [
        "gc.collect()\n",
        "torch.cuda.empty_cache()\n",
        "\n",
        "# set your epochs for this approach\n",
        "epochs = 20\n",
        "for epoch in range(e, epochs):\n",
        "\n",
        "    print(\"\\nEpoch {}/{}\".format(epoch+1, epochs))\n",
        "\n",
        "    curr_lr = float(optimizer.param_groups[0][\"lr\"])\n",
        "\n",
        "    train_loss, train_perplexity, attention_weights = train_step(\n",
        "        model,\n",
        "        criterion=loss_func,\n",
        "        ctc_loss=None,\n",
        "        ctc_weight=0.,\n",
        "        optimizer=optimizer,\n",
        "        scheduler=scheduler,\n",
        "        scaler=scaler,\n",
        "        device=device,\n",
        "        train_loader=train_loader,\n",
        "        tokenizer=Tokenizer,\n",
        "        mode='dec_cond_lm'\n",
        "    )\n",
        "\n",
        "    print(\"\\nEpoch {}/{}: \\nTrain Loss {:.04f}\\t Train Perplexity {:.04f}\\t Learning Rate {:.06f}\".format(\n",
        "        epoch + 1, epochs, train_loss, train_perplexity, curr_lr))\n",
        "\n",
        "\n",
        "    levenshtein_distance, json_out, wer, cer = validate_step(\n",
        "        model,\n",
        "        val_loader=val_loader,\n",
        "        tokenizer=Tokenizer,\n",
        "        device=device,\n",
        "        mode='dec_cond_lm',\n",
        "        threshold=5\n",
        "    )\n",
        "\n",
        "\n",
        "    fpath = os.path.join(text_root, f'dec_cond_lm_{epoch+1}_out.json')\n",
        "    with open(fpath, \"w\") as f:\n",
        "        json.dump(json_out, f, indent=4)\n",
        "\n",
        "    print(\"Levenshtein Distance : {:.04f}\".format(levenshtein_distance))\n",
        "    print(\"WER                  : {:.04f}\".format(wer))\n",
        "    print(\"CER                  : {:.04f}\".format(cer))\n",
        "\n",
        "    attention_keys = list(attention_weights.keys())\n",
        "    attention_weights_decoder_self   = attention_weights[attention_keys[0]][0].cpu().detach().numpy()\n",
        "    attention_weights_decoder_cross  = attention_weights[attention_keys[-1]][0].cpu().detach().numpy()\n",
        "\n",
        "    if USE_WANDB:\n",
        "        wandb.log({\n",
        "            \"train_loss\"       : train_loss,\n",
        "            \"train_perplexity\" : train_perplexity,\n",
        "            \"learning_rate\"    : curr_lr,\n",
        "            \"lev_dist\"         : levenshtein_distance,\n",
        "            \"WER\"              : wer,\n",
        "            \"CER\"              : cer\n",
        "        })\n",
        "\n",
        "\n",
        "    save_attention_plot(str(attn_img_root), attention_weights_decoder_cross, epoch,     mode='dec_cond_lm')\n",
        "    save_attention_plot(str(attn_img_root), attention_weights_decoder_self,  epoch+100, mode='dec_cond_lm')\n",
        "    if config[\"scheduler\"] == \"ReduceLR\":\n",
        "        scheduler.step(levenshtein_distance)\n",
        "    else:\n",
        "        scheduler.step()\n",
        "\n",
        "    ### Highly Recommended: Save checkpoint in drive and/or wandb if accuracy is better than your current best\n",
        "    epoch_model_path = os.path.join(checkpoint_root, (checkpoint_last_epoch_filename + str(epoch) + '.pth'))\n",
        "    save_model(model, optimizer, scheduler, ('CER', cer), epoch, epoch_model_path)\n",
        "\n",
        "    if best_dist >= levenshtein_distance:\n",
        "        best_loss = train_loss\n",
        "        best_dist = levenshtein_distance\n",
        "        save_model(model, optimizer, scheduler, ('CER', cer), epoch, best_loss_model_path)\n",
        "        print(\"Saved best CER model\")\n",
        "\n",
        "### Finish your wandb run\n",
        "if USE_WANDB:\n",
        "    run.finish()\n",
        "#### ----------------------------------------------------------------------------------------------------------------------"
      ]
    },
    {
      "cell_type": "markdown",
      "metadata": {
        "id": "dkkmJeMP-KYq"
      },
      "source": [
        "# (Optional) Freezing | Unfreezing Parts of the Transformer"
      ]
    },
    {
      "cell_type": "markdown",
      "metadata": {
        "id": "HzTJKJezMrHc"
      },
      "source": [
        "## Freeze"
      ]
    },
    {
      "cell_type": "code",
      "execution_count": null,
      "metadata": {
        "id": "RuJbA9HDMoEp"
      },
      "outputs": [],
      "source": [
        "# # freeze embeddings\n",
        "# for name, param in model.named_parameters():\n",
        "#       if name.startswith(\"embedding\"):\n",
        "#             param.requires_grad = False\n",
        "\n",
        "# freeze encoder\n",
        "for name, param in model.named_parameters():\n",
        "      if name.startswith(\"encoder\"):\n",
        "        param.requires_grad = False\n",
        "\n",
        "# # freeze decoder\n",
        "# for name, param in model.named_parameters():\n",
        "#       if name.startswith(\"decoder\"):\n",
        "#         param.requires_grad = False"
      ]
    },
    {
      "cell_type": "markdown",
      "metadata": {
        "id": "D8Vw2eNTMukq"
      },
      "source": [
        "## Unfreeze\n"
      ]
    },
    {
      "cell_type": "code",
      "execution_count": null,
      "metadata": {
        "id": "xqYzpg7dMuy1"
      },
      "outputs": [],
      "source": [
        "# unfreeze embedding\n",
        "for name, param in model.named_parameters():\n",
        "      if name.startswith(\"embedding\"):\n",
        "          param.requires_grad = True\n",
        "\n",
        "#unfreeze encoder\n",
        "for name, param in model.named_parameters():\n",
        "      if name.startswith(\"encoder\"):\n",
        "        param.requires_grad = True\n",
        "\n",
        "# unfreeze decoder\n",
        "for name, param in model.named_parameters():\n",
        "      if name.startswith(\"decoder\"):\n",
        "        param.requires_grad = True"
      ]
    },
    {
      "cell_type": "markdown",
      "metadata": {
        "id": "aZyrhroFMzcd"
      },
      "source": [
        "# Full Transformer Training\n",
        "(Optional) If you just did one of the pre-training objectives, Try freezing the embedding or decoder or both and train the Transformer with just the unfrozen encoder for 3-5 epochs. This can be an effective initialization strategy."
      ]
    },
    {
      "cell_type": "code",
      "execution_count": null,
      "metadata": {
        "colab": {
          "base_uri": "https://localhost:8080/"
        },
        "id": "-r_nT0zQMxc_",
        "outputId": "8a1f2dd1-5c3b-45ff-c846-eb2c7796a920"
      },
      "outputs": [
        {
          "output_type": "stream",
          "name": "stdout",
          "text": [
            "\n",
            "Epoch 1/70\n"
          ]
        },
        {
          "output_type": "stream",
          "name": "stderr",
          "text": []
        },
        {
          "output_type": "stream",
          "name": "stdout",
          "text": [
            "\n",
            "Epoch 1/70: \n",
            "Train Loss 4.3364\t Train Perplexity 1869289251.3674\t Learning Rate 0.000200\n"
          ]
        },
        {
          "output_type": "stream",
          "name": "stderr",
          "text": []
        },
        {
          "output_type": "stream",
          "name": "stdout",
          "text": [
            "Levenshtein Distance : 106.8333\n",
            "WER                  : 146.9440\n",
            "CER                  : 116.4578\n",
            "\n",
            "Epoch 2/70\n"
          ]
        },
        {
          "output_type": "stream",
          "name": "stderr",
          "text": []
        },
        {
          "output_type": "stream",
          "name": "stdout",
          "text": [
            "\n",
            "Epoch 2/70: \n",
            "Train Loss 4.0508\t Train Perplexity 57.6189\t Learning Rate 0.000200\n"
          ]
        },
        {
          "output_type": "stream",
          "name": "stderr",
          "text": []
        },
        {
          "output_type": "stream",
          "name": "stdout",
          "text": [
            "Levenshtein Distance : 120.8333\n",
            "WER                  : 176.6665\n",
            "CER                  : 136.9733\n",
            "\n",
            "Epoch 3/70\n"
          ]
        },
        {
          "output_type": "stream",
          "name": "stderr",
          "text": []
        },
        {
          "output_type": "stream",
          "name": "stdout",
          "text": [
            "\n",
            "Epoch 3/70: \n",
            "Train Loss 3.7326\t Train Perplexity 41.9033\t Learning Rate 0.000200\n"
          ]
        },
        {
          "output_type": "stream",
          "name": "stderr",
          "text": []
        },
        {
          "output_type": "stream",
          "name": "stdout",
          "text": [
            "Levenshtein Distance : 124.6667\n",
            "WER                  : 184.7097\n",
            "CER                  : 141.1338\n",
            "\n",
            "Epoch 4/70\n"
          ]
        },
        {
          "output_type": "stream",
          "name": "stderr",
          "text": []
        },
        {
          "output_type": "stream",
          "name": "stdout",
          "text": [
            "\n",
            "Epoch 4/70: \n",
            "Train Loss 3.5565\t Train Perplexity 35.1543\t Learning Rate 0.000200\n"
          ]
        },
        {
          "output_type": "stream",
          "name": "stderr",
          "text": []
        },
        {
          "output_type": "stream",
          "name": "stdout",
          "text": [
            "Levenshtein Distance : 117.7083\n",
            "WER                  : 183.8083\n",
            "CER                  : 130.8527\n",
            "\n",
            "Epoch 5/70\n"
          ]
        },
        {
          "output_type": "stream",
          "name": "stderr",
          "text": []
        },
        {
          "output_type": "stream",
          "name": "stdout",
          "text": [
            "\n",
            "Epoch 5/70: \n",
            "Train Loss 3.4407\t Train Perplexity 31.3259\t Learning Rate 0.000199\n"
          ]
        },
        {
          "output_type": "stream",
          "name": "stderr",
          "text": []
        },
        {
          "output_type": "stream",
          "name": "stdout",
          "text": [
            "Levenshtein Distance : 116.3750\n",
            "WER                  : 154.8537\n",
            "CER                  : 122.5901\n",
            "\n",
            "Epoch 6/70\n"
          ]
        },
        {
          "output_type": "stream",
          "name": "stderr",
          "text": []
        },
        {
          "output_type": "stream",
          "name": "stdout",
          "text": [
            "\n",
            "Epoch 6/70: \n",
            "Train Loss 3.3292\t Train Perplexity 28.0250\t Learning Rate 0.000199\n"
          ]
        },
        {
          "output_type": "stream",
          "name": "stderr",
          "text": []
        },
        {
          "output_type": "stream",
          "name": "stdout",
          "text": [
            "Levenshtein Distance : 106.7500\n",
            "WER                  : 146.3059\n",
            "CER                  : 114.1335\n",
            "\n",
            "Epoch 7/70\n"
          ]
        },
        {
          "output_type": "stream",
          "name": "stderr",
          "text": []
        },
        {
          "output_type": "stream",
          "name": "stdout",
          "text": [
            "\n",
            "Epoch 7/70: \n",
            "Train Loss 3.1228\t Train Perplexity 22.8044\t Learning Rate 0.000198\n"
          ]
        },
        {
          "output_type": "stream",
          "name": "stderr",
          "text": []
        },
        {
          "output_type": "stream",
          "name": "stdout",
          "text": [
            "Levenshtein Distance : 97.4583\n",
            "WER                  : 130.8741\n",
            "CER                  : 102.7939\n",
            "\n",
            "Epoch 8/70\n"
          ]
        },
        {
          "output_type": "stream",
          "name": "stderr",
          "text": []
        },
        {
          "output_type": "stream",
          "name": "stdout",
          "text": [
            "\n",
            "Epoch 8/70: \n",
            "Train Loss 2.5493\t Train Perplexity 12.9557\t Learning Rate 0.000198\n"
          ]
        },
        {
          "output_type": "stream",
          "name": "stderr",
          "text": []
        },
        {
          "output_type": "stream",
          "name": "stdout",
          "text": [
            "Levenshtein Distance : 97.4167\n",
            "WER                  : 125.5939\n",
            "CER                  : 103.4474\n",
            "\n",
            "Epoch 9/70\n"
          ]
        },
        {
          "output_type": "stream",
          "name": "stderr",
          "text": []
        },
        {
          "output_type": "stream",
          "name": "stdout",
          "text": [
            "\n",
            "Epoch 9/70: \n",
            "Train Loss 1.9896\t Train Perplexity 7.3743\t Learning Rate 0.000197\n"
          ]
        },
        {
          "output_type": "stream",
          "name": "stderr",
          "text": []
        },
        {
          "output_type": "stream",
          "name": "stdout",
          "text": [
            "Levenshtein Distance : 80.8750\n",
            "WER                  : 111.8720\n",
            "CER                  : 81.2046\n",
            "\n",
            "Epoch 10/70\n"
          ]
        },
        {
          "output_type": "stream",
          "name": "stderr",
          "text": []
        },
        {
          "output_type": "stream",
          "name": "stdout",
          "text": [
            "\n",
            "Epoch 10/70: \n",
            "Train Loss 1.6493\t Train Perplexity 5.2417\t Learning Rate 0.000196\n"
          ]
        },
        {
          "output_type": "stream",
          "name": "stderr",
          "text": []
        },
        {
          "output_type": "stream",
          "name": "stdout",
          "text": [
            "Levenshtein Distance : 64.5833\n",
            "WER                  : 80.8325\n",
            "CER                  : 59.7748\n",
            "\n",
            "Epoch 11/70\n"
          ]
        },
        {
          "output_type": "stream",
          "name": "stderr",
          "text": []
        },
        {
          "output_type": "stream",
          "name": "stdout",
          "text": [
            "\n",
            "Epoch 11/70: \n",
            "Train Loss 1.4340\t Train Perplexity 4.2248\t Learning Rate 0.000195\n"
          ]
        },
        {
          "output_type": "stream",
          "name": "stderr",
          "text": []
        },
        {
          "output_type": "stream",
          "name": "stdout",
          "text": [
            "Levenshtein Distance : 63.1250\n",
            "WER                  : 79.9376\n",
            "CER                  : 58.4621\n",
            "\n",
            "Epoch 12/70\n"
          ]
        },
        {
          "output_type": "stream",
          "name": "stderr",
          "text": []
        },
        {
          "output_type": "stream",
          "name": "stdout",
          "text": [
            "\n",
            "Epoch 12/70: \n",
            "Train Loss 1.2903\t Train Perplexity 3.6570\t Learning Rate 0.000194\n"
          ]
        },
        {
          "output_type": "stream",
          "name": "stderr",
          "text": []
        },
        {
          "output_type": "stream",
          "name": "stdout",
          "text": [
            "Levenshtein Distance : 58.1250\n",
            "WER                  : 74.1971\n",
            "CER                  : 53.1059\n",
            "Saved best distance model\n",
            "\n",
            "Epoch 13/70\n"
          ]
        },
        {
          "output_type": "stream",
          "name": "stderr",
          "text": []
        },
        {
          "output_type": "stream",
          "name": "stdout",
          "text": [
            "\n",
            "Epoch 13/70: \n",
            "Train Loss 1.1811\t Train Perplexity 3.2813\t Learning Rate 0.000193\n"
          ]
        },
        {
          "output_type": "stream",
          "name": "stderr",
          "text": []
        },
        {
          "output_type": "stream",
          "name": "stdout",
          "text": [
            "Levenshtein Distance : 60.7917\n",
            "WER                  : 79.5001\n",
            "CER                  : 56.2464\n",
            "\n",
            "Epoch 14/70\n"
          ]
        },
        {
          "output_type": "stream",
          "name": "stderr",
          "text": []
        },
        {
          "output_type": "stream",
          "name": "stdout",
          "text": [
            "\n",
            "Epoch 14/70: \n",
            "Train Loss 1.0931\t Train Perplexity 3.0040\t Learning Rate 0.000192\n"
          ]
        },
        {
          "output_type": "stream",
          "name": "stderr",
          "text": []
        },
        {
          "output_type": "stream",
          "name": "stdout",
          "text": [
            "Levenshtein Distance : 51.5000\n",
            "WER                  : 60.2374\n",
            "CER                  : 42.9827\n",
            "Saved best distance model\n",
            "\n",
            "Epoch 15/70\n"
          ]
        },
        {
          "output_type": "stream",
          "name": "stderr",
          "text": []
        },
        {
          "output_type": "stream",
          "name": "stdout",
          "text": [
            "\n",
            "Epoch 15/70: \n",
            "Train Loss 1.0232\t Train Perplexity 2.8012\t Learning Rate 0.000190\n"
          ]
        },
        {
          "output_type": "stream",
          "name": "stderr",
          "text": []
        },
        {
          "output_type": "stream",
          "name": "stdout",
          "text": [
            "Levenshtein Distance : 47.4583\n",
            "WER                  : 61.8400\n",
            "CER                  : 40.7112\n",
            "Saved best distance model\n",
            "\n",
            "Epoch 16/70\n"
          ]
        },
        {
          "output_type": "stream",
          "name": "stderr",
          "text": [
            "[Train mode: full]:  88%|████████▊ | 1561/1784 [22:45<04:19,  1.16s/it, loss=0.9638, perplexity=2.6385]"
          ]
        }
      ],
      "source": [
        "gc.collect()\n",
        "torch.cuda.empty_cache()\n",
        "\n",
        "epochs = 70\n",
        "for epoch in range(e, epochs):\n",
        "\n",
        "    print(\"\\nEpoch {}/{}\".format(epoch+1, epochs))\n",
        "\n",
        "    curr_lr = float(optimizer.param_groups[0][\"lr\"])\n",
        "\n",
        "    train_loss, train_perplexity, attention_weights = train_step(\n",
        "        model,\n",
        "        criterion=loss_func,\n",
        "        ctc_loss=ctc_loss_fn,\n",
        "        ctc_weight=config['ctc_weight'],\n",
        "        optimizer=optimizer,\n",
        "        scheduler=scheduler,\n",
        "        scaler=scaler,\n",
        "        device=device,\n",
        "        train_loader=train_loader,\n",
        "        tokenizer=Tokenizer,\n",
        "        mode='full'\n",
        "    )\n",
        "\n",
        "    print(\"\\nEpoch {}/{}: \\nTrain Loss {:.04f}\\t Train Perplexity {:.04f}\\t Learning Rate {:.06f}\".format(\n",
        "        epoch + 1, epochs, train_loss, train_perplexity, curr_lr))\n",
        "\n",
        "\n",
        "    levenshtein_distance, json_out, wer, cer = validate_step(\n",
        "        model,\n",
        "        val_loader=val_loader,\n",
        "        tokenizer=Tokenizer,\n",
        "        device=device,\n",
        "        mode='full',\n",
        "        threshold=5\n",
        "    )\n",
        "\n",
        "\n",
        "    fpath = os.path.join(text_root, f'full_{epoch+1}_out.json')\n",
        "    with open(fpath, \"w\") as f:\n",
        "        json.dump(json_out, f, indent=4)\n",
        "\n",
        "    print(\"Levenshtein Distance : {:.04f}\".format(levenshtein_distance))\n",
        "    print(\"WER                  : {:.04f}\".format(wer))\n",
        "    print(\"CER                  : {:.04f}\".format(cer))\n",
        "\n",
        "    attention_keys = list(attention_weights.keys())\n",
        "    attention_weights_decoder_self   = attention_weights[attention_keys[0]][0].cpu().detach().numpy()\n",
        "    attention_weights_decoder_cross  = attention_weights[attention_keys[-1]][0].cpu().detach().numpy()\n",
        "\n",
        "    if USE_WANDB:\n",
        "        wandb.log({\n",
        "            \"train_loss\"       : train_loss,\n",
        "            \"train_perplexity\" : train_perplexity,\n",
        "            \"learning_rate\"    : curr_lr,\n",
        "            \"lev_dist\"         : levenshtein_distance,\n",
        "            \"WER\"              : wer,\n",
        "            \"CER\"              : cer\n",
        "        })\n",
        "\n",
        "\n",
        "    save_attention_plot(str(attn_img_root), attention_weights_decoder_cross, epoch,     mode='full')\n",
        "    save_attention_plot(str(attn_img_root), attention_weights_decoder_self, epoch+100,  mode='full')\n",
        "    if config[\"scheduler\"] == \"ReduceLR\":\n",
        "        scheduler.step(levenshtein_distance)\n",
        "    else:\n",
        "        scheduler.step()\n",
        "\n",
        "    ### Highly Recommended: Save checkpoint in drive and/or wandb if accuracy is better than your current best\n",
        "    epoch_model_path = os.path.join(checkpoint_root, (checkpoint_last_epoch_filename + str(epoch) + '-2'+'.pth'))\n",
        "    save_model(model, optimizer, scheduler, ('CER', cer), epoch, epoch_model_path)\n",
        "\n",
        "    if best_dist >= levenshtein_distance:\n",
        "        best_loss = train_loss\n",
        "        best_dist = levenshtein_distance\n",
        "        save_model(model, optimizer, scheduler, ('CER', cer), epoch, best_loss_model_path)\n",
        "        print(\"Saved best distance model\")\n",
        "\n",
        "### Finish your wandb run\n",
        "if USE_WANDB:\n",
        "    run.finish()\n",
        "#### ----------------------------------------------------------------------------------------------------------------------"
      ]
    },
    {
      "cell_type": "markdown",
      "metadata": {
        "id": "2HhQjiEBNFek"
      },
      "source": [
        "# Full Evaluation on Validation Set"
      ]
    },
    {
      "cell_type": "code",
      "execution_count": null,
      "metadata": {
        "colab": {
          "base_uri": "https://localhost:8080/",
          "height": 438
        },
        "id": "xH6izZKINFqy",
        "outputId": "24cc7f1b-c56a-48b7-932d-22440f74faed"
      },
      "outputs": [
        {
          "name": "stderr",
          "output_type": "stream",
          "text": [
            "Val:  77%|███████▋  | 520/676 [13:07<04:18,  1.66s/it, CER=127.5726, WER=188.1511, running_distance=127.5423]"
          ]
        },
        {
          "ename": "KeyboardInterrupt",
          "evalue": "",
          "output_type": "error",
          "traceback": [
            "\u001b[0;31m---------------------------------------------------------------------------\u001b[0m",
            "\u001b[0;31mKeyboardInterrupt\u001b[0m                         Traceback (most recent call last)",
            "\u001b[0;32m<ipython-input-43-cd4b9391aeca>\u001b[0m in \u001b[0;36m<cell line: 1>\u001b[0;34m()\u001b[0m\n\u001b[0;32m----> 1\u001b[0;31m levenshtein_distance, json_out, wer, cer = validate_step(\n\u001b[0m\u001b[1;32m      2\u001b[0m         \u001b[0mmodel\u001b[0m\u001b[0;34m,\u001b[0m\u001b[0;34m\u001b[0m\u001b[0;34m\u001b[0m\u001b[0m\n\u001b[1;32m      3\u001b[0m         \u001b[0mval_loader\u001b[0m\u001b[0;34m=\u001b[0m\u001b[0mval_loader\u001b[0m\u001b[0;34m,\u001b[0m\u001b[0;34m\u001b[0m\u001b[0;34m\u001b[0m\u001b[0m\n\u001b[1;32m      4\u001b[0m         \u001b[0mtokenizer\u001b[0m\u001b[0;34m=\u001b[0m\u001b[0mTokenizer\u001b[0m\u001b[0;34m,\u001b[0m\u001b[0;34m\u001b[0m\u001b[0;34m\u001b[0m\u001b[0m\n\u001b[1;32m      5\u001b[0m         \u001b[0mdevice\u001b[0m\u001b[0;34m=\u001b[0m\u001b[0mdevice\u001b[0m\u001b[0;34m,\u001b[0m\u001b[0;34m\u001b[0m\u001b[0;34m\u001b[0m\u001b[0m\n",
            "\u001b[0;32m<ipython-input-30-3c1018c14ac3>\u001b[0m in \u001b[0;36mvalidate_step\u001b[0;34m(model, val_loader, tokenizer, device, mode, threshold)\u001b[0m\n\u001b[1;32m     45\u001b[0m \u001b[0;34m\u001b[0m\u001b[0m\n\u001b[1;32m     46\u001b[0m             \u001b[0;31m# Perform recognition and calculate metrics\u001b[0m\u001b[0;34m\u001b[0m\u001b[0;34m\u001b[0m\u001b[0m\n\u001b[0;32m---> 47\u001b[0;31m             \u001b[0mgreedy_predictions\u001b[0m \u001b[0;34m=\u001b[0m \u001b[0mmodel\u001b[0m\u001b[0;34m.\u001b[0m\u001b[0mrecognize\u001b[0m\u001b[0;34m(\u001b[0m\u001b[0minputs\u001b[0m\u001b[0;34m,\u001b[0m \u001b[0minputs_lengths\u001b[0m\u001b[0;34m,\u001b[0m \u001b[0mtokenizer\u001b[0m\u001b[0;34m=\u001b[0m\u001b[0mtokenizer\u001b[0m\u001b[0;34m,\u001b[0m \u001b[0mmode\u001b[0m\u001b[0;34m=\u001b[0m\u001b[0mmode\u001b[0m\u001b[0;34m)\u001b[0m\u001b[0;34m\u001b[0m\u001b[0;34m\u001b[0m\u001b[0m\n\u001b[0m\u001b[1;32m     48\u001b[0m             \u001b[0mdist\u001b[0m\u001b[0;34m,\u001b[0m \u001b[0mwer\u001b[0m\u001b[0;34m,\u001b[0m \u001b[0mcer\u001b[0m\u001b[0;34m,\u001b[0m \u001b[0my_string\u001b[0m\u001b[0;34m,\u001b[0m \u001b[0mpred_string\u001b[0m \u001b[0;34m=\u001b[0m \u001b[0mcalculateBatchMetrics\u001b[0m\u001b[0;34m(\u001b[0m\u001b[0mgreedy_predictions\u001b[0m\u001b[0;34m,\u001b[0m \u001b[0mtargets_golden\u001b[0m\u001b[0;34m,\u001b[0m \u001b[0mtargets_lengths\u001b[0m\u001b[0;34m,\u001b[0m \u001b[0mtokenizer\u001b[0m\u001b[0;34m)\u001b[0m\u001b[0;34m\u001b[0m\u001b[0;34m\u001b[0m\u001b[0m\n\u001b[1;32m     49\u001b[0m \u001b[0;34m\u001b[0m\u001b[0m\n",
            "\u001b[0;32m<ipython-input-24-dd12dd1cdcb3>\u001b[0m in \u001b[0;36mrecognize\u001b[0;34m(self, inp, inp_len, tokenizer, mode, strategy)\u001b[0m\n\u001b[1;32m     77\u001b[0m \u001b[0;34m\u001b[0m\u001b[0m\n\u001b[1;32m     78\u001b[0m         \u001b[0;32mif\u001b[0m \u001b[0mstrategy\u001b[0m \u001b[0;34m==\u001b[0m\u001b[0;34m'greedy'\u001b[0m\u001b[0;34m:\u001b[0m\u001b[0;34m\u001b[0m\u001b[0;34m\u001b[0m\u001b[0m\n\u001b[0;32m---> 79\u001b[0;31m           \u001b[0mout\u001b[0m \u001b[0;34m=\u001b[0m \u001b[0mself\u001b[0m\u001b[0;34m.\u001b[0m\u001b[0mdecoder\u001b[0m\u001b[0;34m.\u001b[0m\u001b[0mrecognize_greedy_search\u001b[0m\u001b[0;34m(\u001b[0m\u001b[0mencoder_output\u001b[0m\u001b[0;34m,\u001b[0m \u001b[0mencoder_lengths\u001b[0m\u001b[0;34m,\u001b[0m \u001b[0mtokenizer\u001b[0m\u001b[0;34m=\u001b[0m\u001b[0mtokenizer\u001b[0m\u001b[0;34m)\u001b[0m\u001b[0;34m\u001b[0m\u001b[0;34m\u001b[0m\u001b[0m\n\u001b[0m\u001b[1;32m     80\u001b[0m         \u001b[0;32melif\u001b[0m \u001b[0mstrategy\u001b[0m \u001b[0;34m==\u001b[0m \u001b[0;34m'beam'\u001b[0m\u001b[0;34m:\u001b[0m\u001b[0;34m\u001b[0m\u001b[0;34m\u001b[0m\u001b[0m\n\u001b[1;32m     81\u001b[0m           \u001b[0mout\u001b[0m \u001b[0;34m=\u001b[0m \u001b[0mself\u001b[0m\u001b[0;34m.\u001b[0m\u001b[0mdecoder\u001b[0m\u001b[0;34m.\u001b[0m\u001b[0mrecognize_beam_search\u001b[0m\u001b[0;34m(\u001b[0m\u001b[0mencoder_output\u001b[0m\u001b[0;34m,\u001b[0m \u001b[0mencoder_lengths\u001b[0m\u001b[0;34m,\u001b[0m \u001b[0mtokenizer\u001b[0m\u001b[0;34m=\u001b[0m\u001b[0mtokenizer\u001b[0m\u001b[0;34m,\u001b[0m \u001b[0mbeam_width\u001b[0m\u001b[0;34m=\u001b[0m\u001b[0;36m5\u001b[0m\u001b[0;34m)\u001b[0m\u001b[0;34m\u001b[0m\u001b[0;34m\u001b[0m\u001b[0m\n",
            "\u001b[0;32m<ipython-input-23-cdb1bdbae42e>\u001b[0m in \u001b[0;36mrecognize_greedy_search\u001b[0;34m(self, enc_output, enc_input_lengths, tokenizer)\u001b[0m\n\u001b[1;32m    167\u001b[0m         \u001b[0;32mfor\u001b[0m \u001b[0m_\u001b[0m \u001b[0;32min\u001b[0m \u001b[0mrange\u001b[0m\u001b[0;34m(\u001b[0m\u001b[0mself\u001b[0m\u001b[0;34m.\u001b[0m\u001b[0mmax_len\u001b[0m\u001b[0;34m)\u001b[0m\u001b[0;34m:\u001b[0m\u001b[0;34m\u001b[0m\u001b[0;34m\u001b[0m\u001b[0m\n\u001b[1;32m    168\u001b[0m \u001b[0;34m\u001b[0m\u001b[0m\n\u001b[0;32m--> 169\u001b[0;31m             \u001b[0mseq_out\u001b[0m\u001b[0;34m,\u001b[0m \u001b[0mrunnint_att\u001b[0m \u001b[0;34m=\u001b[0m \u001b[0mself\u001b[0m\u001b[0;34m.\u001b[0m\u001b[0mforward\u001b[0m\u001b[0;34m(\u001b[0m\u001b[0mtarget_seq\u001b[0m\u001b[0;34m,\u001b[0m \u001b[0;32mNone\u001b[0m\u001b[0;34m,\u001b[0m \u001b[0menc_output\u001b[0m\u001b[0;34m,\u001b[0m \u001b[0menc_input_lengths\u001b[0m\u001b[0;34m)\u001b[0m\u001b[0;34m\u001b[0m\u001b[0;34m\u001b[0m\u001b[0m\n\u001b[0m\u001b[1;32m    170\u001b[0m             \u001b[0mlogits\u001b[0m \u001b[0;34m=\u001b[0m \u001b[0mtorch\u001b[0m\u001b[0;34m.\u001b[0m\u001b[0mnn\u001b[0m\u001b[0;34m.\u001b[0m\u001b[0mfunctional\u001b[0m\u001b[0;34m.\u001b[0m\u001b[0mlog_softmax\u001b[0m\u001b[0;34m(\u001b[0m\u001b[0mseq_out\u001b[0m\u001b[0;34m[\u001b[0m\u001b[0;34m:\u001b[0m\u001b[0;34m,\u001b[0m \u001b[0;34m-\u001b[0m\u001b[0;36m1\u001b[0m\u001b[0;34m]\u001b[0m\u001b[0;34m,\u001b[0m \u001b[0mdim\u001b[0m\u001b[0;34m=\u001b[0m\u001b[0;36m1\u001b[0m\u001b[0;34m)\u001b[0m\u001b[0;34m\u001b[0m\u001b[0;34m\u001b[0m\u001b[0m\n\u001b[1;32m    171\u001b[0m \u001b[0;34m\u001b[0m\u001b[0m\n",
            "\u001b[0;32m<ipython-input-23-cdb1bdbae42e>\u001b[0m in \u001b[0;36mforward\u001b[0;34m(self, padded_targets, target_lengths, enc_output, enc_input_lengths)\u001b[0m\n\u001b[1;32m    140\u001b[0m         \u001b[0mrunnint_att\u001b[0m \u001b[0;34m=\u001b[0m \u001b[0;34m{\u001b[0m\u001b[0;34m}\u001b[0m\u001b[0;34m\u001b[0m\u001b[0;34m\u001b[0m\u001b[0m\n\u001b[1;32m    141\u001b[0m         \u001b[0;32mfor\u001b[0m \u001b[0mi\u001b[0m \u001b[0;32min\u001b[0m \u001b[0mrange\u001b[0m\u001b[0;34m(\u001b[0m\u001b[0mself\u001b[0m\u001b[0;34m.\u001b[0m\u001b[0mnum_layers\u001b[0m\u001b[0;34m)\u001b[0m\u001b[0;34m:\u001b[0m\u001b[0;34m\u001b[0m\u001b[0;34m\u001b[0m\u001b[0m\n\u001b[0;32m--> 142\u001b[0;31m             x, runnint_att['layer{}_dec_self'.format(i + 1)], runnint_att['layer{}_dec_cross'.format(i + 1)] = self.dec_layers[i](\n\u001b[0m\u001b[1;32m    143\u001b[0m                 \u001b[0mpadded_targets\u001b[0m\u001b[0;34m=\u001b[0m\u001b[0mx\u001b[0m\u001b[0;34m,\u001b[0m\u001b[0;34m\u001b[0m\u001b[0;34m\u001b[0m\u001b[0m\n\u001b[1;32m    144\u001b[0m                 \u001b[0menc_output\u001b[0m\u001b[0;34m=\u001b[0m\u001b[0menc_output\u001b[0m\u001b[0;34m,\u001b[0m\u001b[0;34m\u001b[0m\u001b[0;34m\u001b[0m\u001b[0m\n",
            "\u001b[0;32m/usr/local/lib/python3.10/dist-packages/torch/nn/modules/module.py\u001b[0m in \u001b[0;36m_wrapped_call_impl\u001b[0;34m(self, *args, **kwargs)\u001b[0m\n\u001b[1;32m   1551\u001b[0m             \u001b[0;32mreturn\u001b[0m \u001b[0mself\u001b[0m\u001b[0;34m.\u001b[0m\u001b[0m_compiled_call_impl\u001b[0m\u001b[0;34m(\u001b[0m\u001b[0;34m*\u001b[0m\u001b[0margs\u001b[0m\u001b[0;34m,\u001b[0m \u001b[0;34m**\u001b[0m\u001b[0mkwargs\u001b[0m\u001b[0;34m)\u001b[0m  \u001b[0;31m# type: ignore[misc]\u001b[0m\u001b[0;34m\u001b[0m\u001b[0;34m\u001b[0m\u001b[0m\n\u001b[1;32m   1552\u001b[0m         \u001b[0;32melse\u001b[0m\u001b[0;34m:\u001b[0m\u001b[0;34m\u001b[0m\u001b[0;34m\u001b[0m\u001b[0m\n\u001b[0;32m-> 1553\u001b[0;31m             \u001b[0;32mreturn\u001b[0m \u001b[0mself\u001b[0m\u001b[0;34m.\u001b[0m\u001b[0m_call_impl\u001b[0m\u001b[0;34m(\u001b[0m\u001b[0;34m*\u001b[0m\u001b[0margs\u001b[0m\u001b[0;34m,\u001b[0m \u001b[0;34m**\u001b[0m\u001b[0mkwargs\u001b[0m\u001b[0;34m)\u001b[0m\u001b[0;34m\u001b[0m\u001b[0;34m\u001b[0m\u001b[0m\n\u001b[0m\u001b[1;32m   1554\u001b[0m \u001b[0;34m\u001b[0m\u001b[0m\n\u001b[1;32m   1555\u001b[0m     \u001b[0;32mdef\u001b[0m \u001b[0m_call_impl\u001b[0m\u001b[0;34m(\u001b[0m\u001b[0mself\u001b[0m\u001b[0;34m,\u001b[0m \u001b[0;34m*\u001b[0m\u001b[0margs\u001b[0m\u001b[0;34m,\u001b[0m \u001b[0;34m**\u001b[0m\u001b[0mkwargs\u001b[0m\u001b[0;34m)\u001b[0m\u001b[0;34m:\u001b[0m\u001b[0;34m\u001b[0m\u001b[0;34m\u001b[0m\u001b[0m\n",
            "\u001b[0;32m/usr/local/lib/python3.10/dist-packages/torch/nn/modules/module.py\u001b[0m in \u001b[0;36m_call_impl\u001b[0;34m(self, *args, **kwargs)\u001b[0m\n\u001b[1;32m   1560\u001b[0m                 \u001b[0;32mor\u001b[0m \u001b[0m_global_backward_pre_hooks\u001b[0m \u001b[0;32mor\u001b[0m \u001b[0m_global_backward_hooks\u001b[0m\u001b[0;34m\u001b[0m\u001b[0;34m\u001b[0m\u001b[0m\n\u001b[1;32m   1561\u001b[0m                 or _global_forward_hooks or _global_forward_pre_hooks):\n\u001b[0;32m-> 1562\u001b[0;31m             \u001b[0;32mreturn\u001b[0m \u001b[0mforward_call\u001b[0m\u001b[0;34m(\u001b[0m\u001b[0;34m*\u001b[0m\u001b[0margs\u001b[0m\u001b[0;34m,\u001b[0m \u001b[0;34m**\u001b[0m\u001b[0mkwargs\u001b[0m\u001b[0;34m)\u001b[0m\u001b[0;34m\u001b[0m\u001b[0;34m\u001b[0m\u001b[0m\n\u001b[0m\u001b[1;32m   1563\u001b[0m \u001b[0;34m\u001b[0m\u001b[0m\n\u001b[1;32m   1564\u001b[0m         \u001b[0;32mtry\u001b[0m\u001b[0;34m:\u001b[0m\u001b[0;34m\u001b[0m\u001b[0;34m\u001b[0m\u001b[0m\n",
            "\u001b[0;32m<ipython-input-23-cdb1bdbae42e>\u001b[0m in \u001b[0;36mforward\u001b[0;34m(self, padded_targets, enc_output, pad_mask_enc, pad_mask_dec, slf_attn_mask)\u001b[0m\n\u001b[1;32m     32\u001b[0m \u001b[0;34m\u001b[0m\u001b[0m\n\u001b[1;32m     33\u001b[0m         \u001b[0;34m''' TODO '''\u001b[0m\u001b[0;34m\u001b[0m\u001b[0;34m\u001b[0m\u001b[0m\n\u001b[0;32m---> 34\u001b[0;31m         mha1_output, mha1_attn_weights = self.mha1(\n\u001b[0m\u001b[1;32m     35\u001b[0m             \u001b[0mquery\u001b[0m \u001b[0;34m=\u001b[0m \u001b[0mx\u001b[0m\u001b[0;34m,\u001b[0m\u001b[0;34m\u001b[0m\u001b[0;34m\u001b[0m\u001b[0m\n\u001b[1;32m     36\u001b[0m             \u001b[0mkey\u001b[0m \u001b[0;34m=\u001b[0m \u001b[0mx\u001b[0m\u001b[0;34m,\u001b[0m\u001b[0;34m\u001b[0m\u001b[0;34m\u001b[0m\u001b[0m\n",
            "\u001b[0;32m/usr/local/lib/python3.10/dist-packages/torch/nn/modules/module.py\u001b[0m in \u001b[0;36m_wrapped_call_impl\u001b[0;34m(self, *args, **kwargs)\u001b[0m\n\u001b[1;32m   1551\u001b[0m             \u001b[0;32mreturn\u001b[0m \u001b[0mself\u001b[0m\u001b[0;34m.\u001b[0m\u001b[0m_compiled_call_impl\u001b[0m\u001b[0;34m(\u001b[0m\u001b[0;34m*\u001b[0m\u001b[0margs\u001b[0m\u001b[0;34m,\u001b[0m \u001b[0;34m**\u001b[0m\u001b[0mkwargs\u001b[0m\u001b[0;34m)\u001b[0m  \u001b[0;31m# type: ignore[misc]\u001b[0m\u001b[0;34m\u001b[0m\u001b[0;34m\u001b[0m\u001b[0m\n\u001b[1;32m   1552\u001b[0m         \u001b[0;32melse\u001b[0m\u001b[0;34m:\u001b[0m\u001b[0;34m\u001b[0m\u001b[0;34m\u001b[0m\u001b[0m\n\u001b[0;32m-> 1553\u001b[0;31m             \u001b[0;32mreturn\u001b[0m \u001b[0mself\u001b[0m\u001b[0;34m.\u001b[0m\u001b[0m_call_impl\u001b[0m\u001b[0;34m(\u001b[0m\u001b[0;34m*\u001b[0m\u001b[0margs\u001b[0m\u001b[0;34m,\u001b[0m \u001b[0;34m**\u001b[0m\u001b[0mkwargs\u001b[0m\u001b[0;34m)\u001b[0m\u001b[0;34m\u001b[0m\u001b[0;34m\u001b[0m\u001b[0m\n\u001b[0m\u001b[1;32m   1554\u001b[0m \u001b[0;34m\u001b[0m\u001b[0m\n\u001b[1;32m   1555\u001b[0m     \u001b[0;32mdef\u001b[0m \u001b[0m_call_impl\u001b[0m\u001b[0;34m(\u001b[0m\u001b[0mself\u001b[0m\u001b[0;34m,\u001b[0m \u001b[0;34m*\u001b[0m\u001b[0margs\u001b[0m\u001b[0;34m,\u001b[0m \u001b[0;34m**\u001b[0m\u001b[0mkwargs\u001b[0m\u001b[0;34m)\u001b[0m\u001b[0;34m:\u001b[0m\u001b[0;34m\u001b[0m\u001b[0;34m\u001b[0m\u001b[0m\n",
            "\u001b[0;32m/usr/local/lib/python3.10/dist-packages/torch/nn/modules/module.py\u001b[0m in \u001b[0;36m_call_impl\u001b[0;34m(self, *args, **kwargs)\u001b[0m\n\u001b[1;32m   1560\u001b[0m                 \u001b[0;32mor\u001b[0m \u001b[0m_global_backward_pre_hooks\u001b[0m \u001b[0;32mor\u001b[0m \u001b[0m_global_backward_hooks\u001b[0m\u001b[0;34m\u001b[0m\u001b[0;34m\u001b[0m\u001b[0m\n\u001b[1;32m   1561\u001b[0m                 or _global_forward_hooks or _global_forward_pre_hooks):\n\u001b[0;32m-> 1562\u001b[0;31m             \u001b[0;32mreturn\u001b[0m \u001b[0mforward_call\u001b[0m\u001b[0;34m(\u001b[0m\u001b[0;34m*\u001b[0m\u001b[0margs\u001b[0m\u001b[0;34m,\u001b[0m \u001b[0;34m**\u001b[0m\u001b[0mkwargs\u001b[0m\u001b[0;34m)\u001b[0m\u001b[0;34m\u001b[0m\u001b[0;34m\u001b[0m\u001b[0m\n\u001b[0m\u001b[1;32m   1563\u001b[0m \u001b[0;34m\u001b[0m\u001b[0m\n\u001b[1;32m   1564\u001b[0m         \u001b[0;32mtry\u001b[0m\u001b[0;34m:\u001b[0m\u001b[0;34m\u001b[0m\u001b[0;34m\u001b[0m\u001b[0m\n",
            "\u001b[0;32m/usr/local/lib/python3.10/dist-packages/torch/nn/modules/activation.py\u001b[0m in \u001b[0;36mforward\u001b[0;34m(self, query, key, value, key_padding_mask, need_weights, attn_mask, average_attn_weights, is_causal)\u001b[0m\n\u001b[1;32m   1218\u001b[0m             \u001b[0;32melif\u001b[0m \u001b[0m_is_make_fx_tracing\u001b[0m\u001b[0;34m(\u001b[0m\u001b[0;34m)\u001b[0m\u001b[0;34m:\u001b[0m\u001b[0;34m\u001b[0m\u001b[0;34m\u001b[0m\u001b[0m\n\u001b[1;32m   1219\u001b[0m                 \u001b[0mwhy_not_fast_path\u001b[0m \u001b[0;34m=\u001b[0m \u001b[0;34m\"we are running make_fx tracing\"\u001b[0m\u001b[0;34m\u001b[0m\u001b[0;34m\u001b[0m\u001b[0m\n\u001b[0;32m-> 1220\u001b[0;31m             \u001b[0;32melif\u001b[0m \u001b[0;32mnot\u001b[0m \u001b[0mall\u001b[0m\u001b[0;34m(\u001b[0m\u001b[0m_check_arg_device\u001b[0m\u001b[0;34m(\u001b[0m\u001b[0mx\u001b[0m\u001b[0;34m)\u001b[0m \u001b[0;32mfor\u001b[0m \u001b[0mx\u001b[0m \u001b[0;32min\u001b[0m \u001b[0mtensor_args\u001b[0m\u001b[0;34m)\u001b[0m\u001b[0;34m:\u001b[0m\u001b[0;34m\u001b[0m\u001b[0;34m\u001b[0m\u001b[0m\n\u001b[0m\u001b[1;32m   1221\u001b[0m                 why_not_fast_path = (\"some Tensor argument's device is neither one of \"\n\u001b[1;32m   1222\u001b[0m                                      f\"cpu, cuda or {torch.utils.backend_registration._privateuse1_backend_name}\")\n",
            "\u001b[0;32m/usr/local/lib/python3.10/dist-packages/torch/nn/modules/activation.py\u001b[0m in \u001b[0;36m<genexpr>\u001b[0;34m(.0)\u001b[0m\n\u001b[1;32m   1218\u001b[0m             \u001b[0;32melif\u001b[0m \u001b[0m_is_make_fx_tracing\u001b[0m\u001b[0;34m(\u001b[0m\u001b[0;34m)\u001b[0m\u001b[0;34m:\u001b[0m\u001b[0;34m\u001b[0m\u001b[0;34m\u001b[0m\u001b[0m\n\u001b[1;32m   1219\u001b[0m                 \u001b[0mwhy_not_fast_path\u001b[0m \u001b[0;34m=\u001b[0m \u001b[0;34m\"we are running make_fx tracing\"\u001b[0m\u001b[0;34m\u001b[0m\u001b[0;34m\u001b[0m\u001b[0m\n\u001b[0;32m-> 1220\u001b[0;31m             \u001b[0;32melif\u001b[0m \u001b[0;32mnot\u001b[0m \u001b[0mall\u001b[0m\u001b[0;34m(\u001b[0m\u001b[0m_check_arg_device\u001b[0m\u001b[0;34m(\u001b[0m\u001b[0mx\u001b[0m\u001b[0;34m)\u001b[0m \u001b[0;32mfor\u001b[0m \u001b[0mx\u001b[0m \u001b[0;32min\u001b[0m \u001b[0mtensor_args\u001b[0m\u001b[0;34m)\u001b[0m\u001b[0;34m:\u001b[0m\u001b[0;34m\u001b[0m\u001b[0;34m\u001b[0m\u001b[0m\n\u001b[0m\u001b[1;32m   1221\u001b[0m                 why_not_fast_path = (\"some Tensor argument's device is neither one of \"\n\u001b[1;32m   1222\u001b[0m                                      f\"cpu, cuda or {torch.utils.backend_registration._privateuse1_backend_name}\")\n",
            "\u001b[0;31mKeyboardInterrupt\u001b[0m: "
          ]
        }
      ],
      "source": [
        "levenshtein_distance, json_out, wer, cer = validate_step(\n",
        "        model,\n",
        "        val_loader=val_loader,\n",
        "        tokenizer=Tokenizer,\n",
        "        device=device,\n",
        "        mode='full',\n",
        "        threshold=None\n",
        "    )"
      ]
    },
    {
      "cell_type": "code",
      "execution_count": null,
      "metadata": {
        "colab": {
          "base_uri": "https://localhost:8080/"
        },
        "id": "Iec1aMfxNHfW",
        "outputId": "c24d6f18-98dd-437d-9b9d-bb3c18d82009"
      },
      "outputs": [
        {
          "name": "stdout",
          "output_type": "stream",
          "text": [
            "Levenshtein Distance : 127.3333\n",
            "WER                  : 175.8013\n",
            "CER                  : 139.2589\n"
          ]
        }
      ],
      "source": [
        "print(\"Levenshtein Distance : {:.04f}\".format(levenshtein_distance))\n",
        "print(\"WER                  : {:.04f}\".format(wer))\n",
        "print(\"CER                  : {:.04f}\".format(cer))\n",
        "\n",
        "fpath = os.path.join(os.getcwd(), f'final_out_{run_name}.json')\n",
        "with open(fpath, \"w\") as f:\n",
        "    json.dump(json_out, f, indent=4)"
      ]
    },
    {
      "cell_type": "markdown",
      "metadata": {
        "id": "mwtB8uBeNLej"
      },
      "source": [
        "### Kaggle Evaluation (TODO)\n",
        "See `validate_step` for reference. What will be different?"
      ]
    },
    {
      "cell_type": "code",
      "execution_count": null,
      "metadata": {
        "id": "dHRNYs7WNJQC"
      },
      "outputs": [],
      "source": [
        "def test_step(model, test_loader, tokenizer, device):\n",
        "    model.eval()\n",
        "      # progress bar\n",
        "    batch_bar = tqdm(total=len(test_loader), dynamic_ncols=True, leave=False, position=0, desc=\"Test\", ncols=5)\n",
        "\n",
        "\n",
        "    predictions = []\n",
        "\n",
        "    ## Iterate through batches\n",
        "    for i, batch in enumerate(test_loader):\n",
        "\n",
        "        inputs, _, _, inputs_lengths, _ = batch\n",
        "        inputs          = inputs.to(device)\n",
        "\n",
        "        with torch.no_grad():\n",
        "            greedy_predictions = model.recognize(inputs, inputs_lengths, tokenizer=tokenizer, mode='full')\n",
        "\n",
        "\n",
        "        # @NOTE: modify the print_example to print more or less validation examples\n",
        "        batch_size, _  = greedy_predictions.shape\n",
        "        batch_pred = []\n",
        "\n",
        "        ## TODO decode each sequence in the batch\n",
        "        for batch_idx in range(batch_size):\n",
        "            # trim predictons upto the EOS_TOKEN\n",
        "\n",
        "            pred_sequence = greedy_predictions[batch_idx].tolist()\n",
        "\n",
        "            if tokenizer.EOS_TOKEN in pred_sequence:\n",
        "                eos_index = pred_sequence.index(tokenizer.EOS_TOKEN)\n",
        "                pred_sequence = pred_sequence[:eos_index]\n",
        "\n",
        "            pred_string = tokenizer.decode(pred_sequence)\n",
        "            batch_pred.append(pred_string)\n",
        "\n",
        "\n",
        "        predictions.extend(batch_pred)\n",
        "\n",
        "        batch_bar.update()\n",
        "\n",
        "        del inputs, inputs_lengths\n",
        "        torch.cuda.empty_cache()\n",
        "\n",
        "    return predictions"
      ]
    },
    {
      "cell_type": "code",
      "execution_count": null,
      "metadata": {
        "colab": {
          "base_uri": "https://localhost:8080/"
        },
        "id": "2XP0jlFTEibY",
        "outputId": "83ccbb5f-4f62-481a-ce5e-4fe7fbdf6362"
      },
      "outputs": [
        {
          "name": "stderr",
          "output_type": "stream",
          "text": []
        }
      ],
      "source": [
        "predictions = test_step(\n",
        "        model,\n",
        "        test_loader=test_loader,\n",
        "        tokenizer=Tokenizer,\n",
        "        device=device,\n",
        ")"
      ]
    },
    {
      "cell_type": "code",
      "execution_count": null,
      "metadata": {
        "colab": {
          "base_uri": "https://localhost:8080/"
        },
        "id": "TZN1te4_OOZe",
        "outputId": "7afc5223-7e46-4f0d-f36c-c92fc58f4da4"
      },
      "outputs": [
        {
          "name": "stdout",
          "output_type": "stream",
          "text": [
            "CSV file saved to submission.csv\n"
          ]
        }
      ],
      "source": [
        "import csv\n",
        "\n",
        "# Sample list\n",
        "\n",
        "\n",
        "# Specify the CSV file path\n",
        "csv_file_path = \"submission.csv\"\n",
        "\n",
        "# Write the list to the CSV with index as the first column\n",
        "with open(csv_file_path, mode=\"w\", newline=\"\") as file:\n",
        "    writer = csv.writer(file)\n",
        "    # Write the header\n",
        "    writer.writerow([\"Index\", \"Labels\"])\n",
        "    # Write list items with index\n",
        "    for idx, item in enumerate(predictions):\n",
        "        writer.writerow([idx, item])\n",
        "\n",
        "print(f\"CSV file saved to {csv_file_path}\")"
      ]
    },
    {
      "cell_type": "code",
      "execution_count": null,
      "metadata": {
        "colab": {
          "base_uri": "https://localhost:8080/"
        },
        "id": "A37GB2l_OPqu",
        "outputId": "b989e13b-b3a4-4dfe-d045-d237ae034a5e"
      },
      "outputs": [
        {
          "name": "stdout",
          "output_type": "stream",
          "text": [
            "Warning: Looks like you're using an outdated API Version, please consider updating (server 1.6.17 / client 1.5.8)\n",
            "100% 277k/277k [00:00<00:00, 414kB/s]\n",
            "Successfully submitted to 11785 Fall 24 HW4P2 Transformer ASR"
          ]
        }
      ],
      "source": [
        "!kaggle competitions submit -c 11785-fall-24-hw4p2-transformer-asr -f submission.csv -m \"Finally I made it\""
      ]
    }
  ],
  "metadata": {
    "accelerator": "GPU",
    "colab": {
      "gpuType": "T4",
      "provenance": []
    },
    "kernelspec": {
      "display_name": "Python 3 (ipykernel)",
      "language": "python",
      "name": "python3"
    },
    "language_info": {
      "codemirror_mode": {
        "name": "ipython",
        "version": 3
      },
      "file_extension": ".py",
      "mimetype": "text/x-python",
      "name": "python",
      "nbconvert_exporter": "python",
      "pygments_lexer": "ipython3",
      "version": "3.10.9"
    }
  },
  "nbformat": 4,
  "nbformat_minor": 0
}
